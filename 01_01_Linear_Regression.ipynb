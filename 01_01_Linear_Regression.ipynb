{
  "cells": [
    {
      "cell_type": "markdown",
      "metadata": {
        "id": "JPdPyjLuY0ev"
      },
      "source": [
        "# 1. Linear Regression"
      ]
    },
    {
      "cell_type": "markdown",
      "metadata": {
        "id": "BMEMDE-bL7fe"
      },
      "source": [
        "### 가상의 데이터로 예측하기"
      ]
    },
    {
      "cell_type": "code",
      "execution_count": null,
      "metadata": {
        "id": "urnyUV0WY0e0"
      },
      "outputs": [],
      "source": [
        "from sklearn.datasets import make_regression"
      ]
    },
    {
      "cell_type": "markdown",
      "metadata": {
        "id": "mJoJL8aYY0e8"
      },
      "source": [
        "-  Scikit-Learn의 datasets 서브패키지는 회귀분석용 가상 데이터를 생성하는 명령어인 make_regression()을 제공한다. make_regression()으로 만들어진 데이터는 종속 변수 y의 값이 독립변수 x 벡터의 선형 조합인 선형관계를 가진다."
      ]
    },
    {
      "cell_type": "code",
      "execution_count": null,
      "metadata": {
        "id": "1yEpBrFkY0e9"
      },
      "outputs": [],
      "source": [
        "# 가상의 데이터 생성\n",
        "data = make_regression(n_samples = 1000, n_features = 1, bias = 1000, noise = 10)\n",
        "# 1000개의 데이터, 1개의 특성 가진 데이터 셋을 생성합니다.\n",
        "\n",
        "#X_1 -> data[0] / y_1 -> data[1]"
      ]
    },
    {
      "cell_type": "code",
      "source": [
        "data[1]"
      ],
      "metadata": {
        "id": "MYPpPN3ExVFO"
      },
      "execution_count": null,
      "outputs": []
    },
    {
      "cell_type": "code",
      "execution_count": null,
      "metadata": {
        "colab": {
          "base_uri": "https://localhost:8080/"
        },
        "id": "fn2uoYwjiW_D",
        "outputId": "60a26c5d-0df8-48a7-8e3d-ae52bc26a788"
      },
      "outputs": [
        {
          "output_type": "stream",
          "name": "stdout",
          "text": [
            "input data :\n",
            "[[-0.10046728]\n",
            " [-1.25019172]\n",
            " [ 0.828278  ]\n",
            " [ 1.3115358 ]\n",
            " [ 0.50553035]\n",
            " [-1.08927164]\n",
            " [ 1.14777374]\n",
            " [ 1.12835145]\n",
            " [ 1.5533055 ]\n",
            " [ 1.18578904]], \n",
            "\n",
            " output data :\n",
            "[1044.32651682  896.62210158 1047.77835248 1168.07226673 1016.71747744\n",
            "  850.43361633 1138.52729016 1126.9076786  1073.07150098 1125.45854977]\n"
          ]
        }
      ],
      "source": [
        "print('input data :\\n{}, \\n\\n output data :\\n{}'.format(data[0][-10:], data[1][-10:]))"
      ]
    },
    {
      "cell_type": "markdown",
      "metadata": {
        "id": "bVZmSzSNY0fA"
      },
      "source": [
        "- n_samples : 기본값은 100, 표본 데이터의 갯수, 정수\n",
        "- n_features : 기본값은 100, 독립변수의 수(차원), 정수\n",
        "- n_target : 기본값은 1, 종속변수의 수, 정수\n",
        "- bias = 기본값은 0.0, y절편, 실수\n",
        "- nosie = 기본값은 0.0, 분포"
      ]
    },
    {
      "cell_type": "code",
      "execution_count": null,
      "metadata": {
        "colab": {
          "base_uri": "https://localhost:8080/",
          "height": 430
        },
        "id": "0MuDcNGrY0fB",
        "outputId": "2ea79b32-450d-4061-b1ef-06a2986d4e06",
        "scrolled": true
      },
      "outputs": [
        {
          "output_type": "display_data",
          "data": {
            "text/plain": [
              "<Figure size 640x480 with 1 Axes>"
            ],
            "image/png": "[encoded data removed]"
          },
          "metadata": {}
        }
      ],
      "source": [
        "# 위에서 생성한 가상 데이터 셋을 그래프위에 그려 보았습니다.\n",
        "from matplotlib import pyplot as plt\n",
        "%matplotlib inline\n",
        "plt.scatter(data[0], data[1])\n",
        "plt.plot([-7, 7], [550, 690], color=\"red\")\n",
        "plt.xlim([-7, 7])\n",
        "plt.ylim([0, 1300])\n",
        "plt.show()"
      ]
    },
    {
      "cell_type": "markdown",
      "metadata": {
        "id": "0nSwUoadY0fD"
      },
      "source": [
        "#### 선형 모델을 만들어 보자."
      ]
    },
    {
      "cell_type": "code",
      "execution_count": null,
      "metadata": {
        "id": "D2wn21HVY0fD"
      },
      "outputs": [],
      "source": [
        "from sklearn.model_selection import train_test_split\n",
        "# train_test_split은 데이터를 학습용 데이터와 검증용 데이터로 분리시켜줍니다.\n",
        "\n",
        "X_train, X_test, y_train, y_test = train_test_split(data[0], data[1], test_size = 0.2, shuffle = True, random_state=75)\n",
        "\n",
        "# 생성한 가상의 데이터를 훈련용 데이터와 검증 데이터로 나눠주는 과정입니다."
      ]
    },
    {
      "cell_type": "code",
      "source": [
        "X_train[:5]"
      ],
      "metadata": {
        "colab": {
          "base_uri": "https://localhost:8080/"
        },
        "id": "LRRkkn100dGc",
        "outputId": "ac47ae3a-eea9-45fc-bac6-46d9af946bf6"
      },
      "execution_count": null,
      "outputs": [
        {
          "output_type": "execute_result",
          "data": {
            "text/plain": [
              "array([[ 1.42986791],\n",
              "       [-0.34683268],\n",
              "       [-0.56853849],\n",
              "       [ 0.06091378],\n",
              "       [-0.53330102]])"
            ]
          },
          "metadata": {},
          "execution_count": 11
        }
      ]
    },
    {
      "cell_type": "markdown",
      "metadata": {
        "id": "3VGi8Zq1Y0fF"
      },
      "source": [
        "- train_test_split(data, data2, test_size, train_size, shuffle, random_state)  \n",
        "  data: 독립변수 데이터  \n",
        "  data2: 종속변수 데이터 (data 인수에 종속변수가 포함되어 있다면 생략해도 된다.)  \n",
        "  test_size: 검증용 데이터의 개수. 1이하의 실수로 표현하면 비율을 나타낸다. (기본값은 0.25)  \n",
        "  train_size : 학습용 데이터의 개수. 1이하의 실수로 표현하면 비율을 나타낸다.(test_size와 train_size 중 하나만 사용해도 된다.)  \n",
        "  shuffle: 데이터를 섞어준다. (기본값은 True)  \n",
        "  random_state: 난수를 생성해준다."
      ]
    },
    {
      "cell_type": "code",
      "execution_count": null,
      "metadata": {
        "id": "fr8N2T4ZY0fG"
      },
      "outputs": [],
      "source": [
        "# 선형회귀(Linear Regression)\n",
        "\n",
        "from sklearn.linear_model import LinearRegression\n",
        "# LinearRegression을 import 합니다.\n",
        "\n",
        "hypothesis = LinearRegression()\n",
        "# import한 LinearRegression을 model이라는 변수에 대입한다.\n",
        "# 굳이 별도의 변수에 넣어주지 않고 LinearRegression() 으로 사용해도 무방합니다. 여기서는 설명을 위해 변수에 대입하였습니다.\n",
        "\n",
        "# 단일피쳐 선형회귀 모델의 가설함수는?"
      ]
    },
    {
      "cell_type": "markdown",
      "source": [
        "y1 = x1 의 관계\n",
        "\n",
        "H(x) = w1*x1 + w0"
      ],
      "metadata": {
        "id": "MstJWHrT1PNY"
      }
    },
    {
      "cell_type": "markdown",
      "metadata": {
        "id": "USZgb7TSY0fI"
      },
      "source": [
        "#### 생성한 모델을 학습시켜보자."
      ]
    },
    {
      "cell_type": "code",
      "execution_count": null,
      "metadata": {
        "id": "w1u6npHHY0fJ"
      },
      "outputs": [],
      "source": [
        "model_linear = hypothesis.fit(X_train, y_train)\n",
        "# fit()은 모델을 학습시키는 명령입니다.\n",
        "\n",
        "# fit 에서 일어나는 일에는 어떤 것들이 있을까?"
      ]
    },
    {
      "cell_type": "markdown",
      "source": [
        "모델이 학습할 때 일어나는 일들\n",
        "\n",
        "1. cost 계산   \n",
        " cost = sum((y_pred - y_real)**2)/N  \n",
        " -> MSE  , y_pred:예측값,  y_real:실제값\n",
        "2. 가중치를 업데이트 해준다. (10000)  \n",
        "for i in range(10000):    \n",
        "&nbsp;&nbsp;&nbsp;&nbsp;gradientDesent(cost) -> 구한 코스트를 통해 기울기를 계산하고, weigth를  기울기 반대방향으로 업데이트"
      ],
      "metadata": {
        "id": "-Rl7x3IM1d4v"
      }
    },
    {
      "cell_type": "markdown",
      "metadata": {
        "id": "PfE0J_XrY0fL"
      },
      "source": [
        "#### 생성한 모델의 weight(가중치, 계수)와 bias를 출력해보자."
      ]
    },
    {
      "cell_type": "code",
      "execution_count": null,
      "metadata": {
        "colab": {
          "base_uri": "https://localhost:8080/"
        },
        "id": "ZNbAGNoAY0fM",
        "outputId": "4237e49c-be75-4021-9aca-a3a991a5815d"
      },
      "outputs": [
        {
          "output_type": "execute_result",
          "data": {
            "text/plain": [
              "array([66.80302497])"
            ]
          },
          "metadata": {},
          "execution_count": 21
        }
      ],
      "source": [
        "model_linear.coef_\n",
        "# coef_ 속성은 각 입력 특성에 하나씩 대응되는 Numpy 배열입니다.\n",
        "# 우리가 생성한 데이터에는 입력 특성이 하나이므로 하나만 출력됩니다.\n",
        "# coef_ 는 weight값을 보여줍니다."
      ]
    },
    {
      "cell_type": "code",
      "execution_count": null,
      "metadata": {
        "colab": {
          "base_uri": "https://localhost:8080/"
        },
        "id": "Qr7V-GwtY0fO",
        "outputId": "58bc6be9-3c66-4533-bf16-27463544ce88"
      },
      "outputs": [
        {
          "output_type": "execute_result",
          "data": {
            "text/plain": [
              "999.8793533913381"
            ]
          },
          "metadata": {},
          "execution_count": 22
        }
      ],
      "source": [
        "model_linear.intercept_\n",
        "# intercept_ 속성은 항상 실수 값 하나입니다.\n",
        "# intercept_ 는 bias(y 절편)값을 보여줍니다."
      ]
    },
    {
      "cell_type": "markdown",
      "source": [
        "H(x) = 66.80302497 *x1 + 999.8493533913381"
      ],
      "metadata": {
        "id": "HXByHgoaIXPm"
      }
    },
    {
      "cell_type": "markdown",
      "metadata": {
        "id": "Uoiuwap-Y0fQ"
      },
      "source": [
        "#### 우리가 생성한 모델을 검증 해보자."
      ]
    },
    {
      "cell_type": "markdown",
      "metadata": {
        "id": "Qj-q1LttY0fR"
      },
      "source": [
        "- score()로 모델을 검증할 수 있다."
      ]
    },
    {
      "cell_type": "code",
      "execution_count": null,
      "metadata": {
        "colab": {
          "base_uri": "https://localhost:8080/"
        },
        "id": "P-6rYKx8Y0fR",
        "outputId": "bd8695f2-a749-455f-dff2-72888212dc30"
      },
      "outputs": [
        {
          "output_type": "stream",
          "name": "stdout",
          "text": [
            "train data score : 0.97\n",
            "test data score : 0.98\n"
          ]
        }
      ],
      "source": [
        "print(\"train data score : {:.2f}\".format(model_linear.score(X_train, y_train)))\n",
        "print(\"test data score : {:.2f}\".format(model_linear.score(X_test, y_test)))"
      ]
    },
    {
      "cell_type": "code",
      "execution_count": null,
      "metadata": {
        "id": "f51mnFAWqnSq"
      },
      "outputs": [],
      "source": [
        "# Trainset data 와 함께, Hypothesis (직선) 시각화해보기\n",
        "# Testset data 와 함께, Hypothesis (직선) 시각화해보기"
      ]
    },
    {
      "cell_type": "code",
      "source": [
        "import numpy as np\n",
        "point_x = np.array([-7, 7]).reshape(-1, 1)  # 직선을 만들기 위한 x 값들"
      ],
      "metadata": {
        "id": "VG3p-VraKJFv"
      },
      "execution_count": null,
      "outputs": []
    },
    {
      "cell_type": "code",
      "source": [
        "model_linear.predict(point_x)  # 그것의 예측값"
      ],
      "metadata": {
        "colab": {
          "base_uri": "https://localhost:8080/"
        },
        "id": "kwRssx6sJ4WK",
        "outputId": "3403371e-fb5f-44d2-fc16-17ef5444d520"
      },
      "execution_count": null,
      "outputs": [
        {
          "output_type": "execute_result",
          "data": {
            "text/plain": [
              "array([ 532.2581786 , 1467.50052818])"
            ]
          },
          "metadata": {},
          "execution_count": 30
        }
      ]
    },
    {
      "cell_type": "code",
      "source": [
        "# 위에서 생성한 가상 데이터 셋을 그래프위에 그려 보았습니다.\n",
        "from matplotlib import pyplot as plt\n",
        "%matplotlib inline\n",
        "plt.scatter(X_train, y_train)\n",
        "plt.plot(point_x, model_linear.predict(point_x), color=\"red\")\n",
        "plt.xlim([-7, 7])\n",
        "plt.ylim([0, 1300])\n",
        "plt.show()"
      ],
      "metadata": {
        "colab": {
          "base_uri": "https://localhost:8080/",
          "height": 430
        },
        "id": "ERR1-KMxJW70",
        "outputId": "7989cf92-6f92-41f5-c616-292ef637c181"
      },
      "execution_count": null,
      "outputs": [
        {
          "output_type": "display_data",
          "data": {
            "text/plain": [
              "<Figure size 640x480 with 1 Axes>"
            ],
            "image/png": "[encoded data removed]"
          },
          "metadata": {}
        }
      ]
    },
    {
      "cell_type": "code",
      "source": [
        "plt.scatter(X_test, y_test)\n",
        "plt.plot(point_x, model_linear.predict(point_x), color=\"red\")\n",
        "plt.xlim([-7, 7])\n",
        "plt.ylim([0, 1300])\n",
        "plt.show()"
      ],
      "metadata": {
        "colab": {
          "base_uri": "https://localhost:8080/",
          "height": 430
        },
        "id": "J3uHoIkiLFRf",
        "outputId": "a56f9403-e6d5-4527-b1a8-1f0fa55bc8b9"
      },
      "execution_count": null,
      "outputs": [
        {
          "output_type": "display_data",
          "data": {
            "text/plain": [
              "<Figure size 640x480 with 1 Axes>"
            ],
            "image/png": "[encoded data removed]"
          },
          "metadata": {}
        }
      ]
    },
    {
      "cell_type": "code",
      "execution_count": null,
      "metadata": {
        "id": "3GtppRvCY0fU"
      },
      "outputs": [],
      "source": [
        "from sklearn.metrics import mean_squared_error, r2_score\n",
        "# 회귀 평가 지표인 mean squared error, R2 score를 불러옵니다.\n",
        "\n",
        "y_predict = model_linear.predict(X_test)\n",
        "# predcit() 명령어를 사용하여 y값을 예측합니다."
      ]
    },
    {
      "cell_type": "code",
      "execution_count": null,
      "metadata": {
        "id": "rynH2-RmY0fW"
      },
      "outputs": [],
      "source": [
        "mse = mean_squared_error(y_test, y_predict)\n",
        "# 실제 값과 예측값을 이용하여 mean squared error를 측정합니다."
      ]
    },
    {
      "cell_type": "code",
      "source": [
        "mse"
      ],
      "metadata": {
        "colab": {
          "base_uri": "https://localhost:8080/"
        },
        "id": "U6A13yDALtxO",
        "outputId": "5fdf51fc-3982-4765-d4a4-67615e84ee20"
      },
      "execution_count": null,
      "outputs": [
        {
          "output_type": "execute_result",
          "data": {
            "text/plain": [
              "88.62842522646886"
            ]
          },
          "metadata": {},
          "execution_count": 35
        }
      ]
    },
    {
      "cell_type": "code",
      "execution_count": null,
      "metadata": {
        "id": "QubvGM12Y0fY"
      },
      "outputs": [],
      "source": [
        "import numpy as np\n",
        "rmse = np.sqrt(mse)\n",
        "# root mean squared error를 측정할 수 있습니다.\n",
        "# sqrt는 루트를 씌워주는 명령어입니다."
      ]
    },
    {
      "cell_type": "code",
      "execution_count": null,
      "metadata": {
        "colab": {
          "base_uri": "https://localhost:8080/"
        },
        "id": "A_0cHZ3fY0fa",
        "outputId": "0b492b1b-853e-4eba-e575-3fe517d7b419"
      },
      "outputs": [
        {
          "output_type": "stream",
          "name": "stdout",
          "text": [
            "MSE : 88.628, RMSE : 9.414\n"
          ]
        }
      ],
      "source": [
        "print('MSE : {:.3f}, RMSE : {:.3f}'.format(mse, rmse))"
      ]
    },
    {
      "cell_type": "code",
      "execution_count": null,
      "metadata": {
        "colab": {
          "base_uri": "https://localhost:8080/"
        },
        "id": "zx8skmxvY0fd",
        "outputId": "e304a387-e2fc-4521-c1ea-d72e30d33ba0"
      },
      "outputs": [
        {
          "output_type": "stream",
          "name": "stdout",
          "text": [
            "test data score : 0.98\n"
          ]
        }
      ],
      "source": [
        "print('test data score : {:.2f}'.format(r2_score(y_test, y_predict)))\n",
        "# 실제값과 직접 만들어본 예측값을 이용하여 모델의 성능을 측정할 수 있습니다."
      ]
    },
    {
      "cell_type": "markdown",
      "metadata": {
        "id": "gkKWtTkxcniq"
      },
      "source": [
        "Quiz.\n",
        "1. 회귀에서 r2 score를 사용하는 이유는 무엇일까?  \n",
        "2. r2_score는 계산하는 식이 어떻게 될까?"
      ]
    },
    {
      "cell_type": "markdown",
      "source": [
        "Answer.\n",
        "1. 내가 사용하는 데이터의 분산 정도를 오차에 나눠줌으로써 어느 정도 일괄된 성능평가지표로 사용할 수 있기 때문이다.\n",
        "2. 1 - (오차/분산) => 1 - MSE / Var(y) => 1 - np.mean((y_predict - y_test)**2)/np.var(y_test)"
      ],
      "metadata": {
        "id": "JL1vjEyDMNGs"
      }
    },
    {
      "cell_type": "code",
      "execution_count": null,
      "metadata": {
        "id": "9CtAze8TcsSC",
        "colab": {
          "base_uri": "https://localhost:8080/"
        },
        "outputId": "2d1c340f-a0bd-4961-aa8f-79525eb82779"
      },
      "outputs": [
        {
          "output_type": "execute_result",
          "data": {
            "text/plain": [
              "0.9800211640421943"
            ]
          },
          "metadata": {},
          "execution_count": 39
        }
      ],
      "source": [
        "1 - np.mean((y_predict - y_test)**2)/np.var(y_test)"
      ]
    },
    {
      "cell_type": "markdown",
      "metadata": {
        "id": "8ayU4y0gY0fg"
      },
      "source": [
        "- score(X_test, y_test)를 실행하게 되면 내부함수에서 X_test를 이용하여 예측값을 생성합니다. 그 후 생성된 예측값과 y_test(실제값)을 이용하여 성능을 검증해줍니다.\n",
        "- 모델의 성능만을 측정할때는 위의 번거로운 과정없이 score함수만을 활용하면 됩니다."
      ]
    },
    {
      "cell_type": "markdown",
      "metadata": {
        "id": "h7db6M2wY0fg"
      },
      "source": [
        "#### Linear Regression with Multi-Variable"
      ]
    },
    {
      "cell_type": "markdown",
      "metadata": {
        "id": "xt4lm1VkY0fh"
      },
      "source": [
        "앞에서는 1개의 특성(feature)을 가진 데이터 셋으로 선형회귀를 해보았다. 지금부터는 여러개의 특성을 가진 데이터 셋으로 선형회귀를 해보자."
      ]
    },
    {
      "cell_type": "code",
      "execution_count": null,
      "metadata": {
        "colab": {
          "base_uri": "https://localhost:8080/"
        },
        "id": "-iYnh6KwY0fi",
        "outputId": "c5cc4286-67ab-4e16-ad91-3988f8a3c5f3"
      },
      "outputs": [
        {
          "output_type": "stream",
          "name": "stdout",
          "text": [
            "input data : \n",
            "[[ 0.98080886 -0.26022609  0.81487982 -1.45186174  1.52306685 -0.33504705\n",
            "   1.20763918  0.411853    0.72040033 -0.7767779   0.51135523 -0.61742447\n",
            "   0.47026456 -2.1970489   1.17154402 -0.05785502 -1.31087552  0.25625877\n",
            "   0.88939248  1.62708881  0.82824066  1.2179642  -0.18380662  0.13646514\n",
            "  -0.52181025 -0.95786324  0.38674677 -1.15557939  0.44346392  1.22904634\n",
            "  -2.50183358 -0.60600175  0.37009099  0.26126904  0.12583103 -0.86976895\n",
            "  -1.0993428  -0.86968967 -0.18871081  1.62512083 -0.37437264 -0.33087861\n",
            "   2.10070613 -1.32876086  2.23996288  0.46712092 -1.12636824  2.65307204\n",
            "   0.11580828  0.27543961 -0.8215729  -1.48066204 -0.36070035 -0.51863095\n",
            "   0.01171606 -0.88654071  0.45632872  0.06568152  0.06003339 -1.21120274\n",
            "   0.14030115 -1.42614431 -1.12106709  0.09809389 -0.31777907 -1.45675253\n",
            "  -1.32477501 -0.51149527  2.18044618 -0.63368539  0.28258089  0.84805027\n",
            "  -1.57349037  0.37722412  0.29461381  0.97569552  1.01345283  0.83309555\n",
            "   1.79758465 -0.76876628 -0.29856502 -1.48114565 -0.33629868  0.66658074\n",
            "  -1.54334831  0.85464434  1.42064899  0.93407295 -1.85652684  0.06657208\n",
            "  -1.48730886  0.25970259  0.04515356 -1.39141389  1.85478104  0.50827247\n",
            "   0.82750907 -0.26849102 -0.75742136  0.32574851]], \n",
            "\n",
            " output data : \n",
            "[51.89863207]\n"
          ]
        }
      ],
      "source": [
        "X_multi, y_multi = make_regression(n_samples = 1000, n_features = 100, bias = 10, noise = 50)\n",
        "\n",
        "print('input data : \\n{}, \\n\\n output data : \\n{}'.format(X_multi[:1], y_multi[:1]))"
      ]
    },
    {
      "cell_type": "markdown",
      "metadata": {
        "id": "Z6XgjQgJY0fk"
      },
      "source": [
        "여기서는 input data를 살펴보도록 하자.\n",
        "1개의 input data에 100개의 각각 다른 값들이 들어있다. 그 이유는 n_features = 100, 즉 100개의 특성을 가지고 있는 데이터이다."
      ]
    },
    {
      "cell_type": "code",
      "execution_count": null,
      "metadata": {
        "id": "E7EIk2LbY0fk"
      },
      "outputs": [],
      "source": [
        "X_train, X_test, y_train, y_test = train_test_split(X_multi, y_multi, test_size = 0.3, shuffle = True)\n",
        "# 생성한 가상의 데이터를 학습용과 검증용으로 나눠줍니다."
      ]
    },
    {
      "cell_type": "code",
      "execution_count": null,
      "metadata": {
        "id": "XYvsV_P1Y0fm"
      },
      "outputs": [],
      "source": [
        "hypothesis_multi = LinearRegression()\n",
        "\n",
        "# 가설함수는 어떻게 될까?\n",
        "# H(x) = w0 + w1x1 + w2x2 + ...+ w100x100"
      ]
    },
    {
      "cell_type": "code",
      "execution_count": null,
      "metadata": {
        "id": "1_tL7HXMY0fr"
      },
      "outputs": [],
      "source": [
        "model_linear_multi = hypothesis_multi.fit(X_train, y_train)\n",
        "# 모델을 학습시킵니다."
      ]
    },
    {
      "cell_type": "code",
      "execution_count": null,
      "metadata": {
        "colab": {
          "base_uri": "https://localhost:8080/"
        },
        "id": "mTZ00aHOY0ft",
        "outputId": "3b00fce9-6912-4e1a-bd3e-1b6c43b0696a"
      },
      "outputs": [
        {
          "output_type": "stream",
          "name": "stdout",
          "text": [
            "weight : \n",
            "[-1.97731363e+00  5.65960171e-01 -1.21930749e+00  7.73565051e-01\n",
            "  3.17726331e+01 -1.48878204e-01  1.20506258e+00  9.07571811e-01\n",
            " -2.63711950e+00 -8.38295373e-01 -3.58684537e+00  2.13764130e+00\n",
            "  3.30050577e+00  8.61723242e-02 -2.93258422e+00 -1.24935357e+00\n",
            "  2.20647397e+00  3.64196880e+00 -1.64559118e+00  6.34054349e+01\n",
            " -1.16572380e+00 -7.11353907e-01  9.92261800e-01  1.87623985e+00\n",
            "  1.01952028e+00  1.69175292e+00  2.21732707e+00 -4.89422900e-01\n",
            "  4.73585545e+01 -2.26564778e+00 -1.97826812e+00 -6.75303260e-02\n",
            "  2.73743270e+01 -1.80116336e-01  1.89611093e+01 -1.35728177e+00\n",
            "  4.52584516e+01 -1.61963293e-01 -1.63420725e+00 -2.91361283e+00\n",
            "  1.86853164e+00  3.21072016e+00  3.22548485e-01 -3.91607751e-01\n",
            "  8.28240403e-02 -2.85337025e+00 -1.37380907e+00  1.25507044e+00\n",
            " -2.07996024e+00 -4.03054403e-01 -5.14050224e-01 -2.20044324e+00\n",
            "  2.88608163e+00  5.05408795e-01  3.39105668e+00  1.04905887e+00\n",
            " -6.27993478e-01 -1.52636936e+00 -1.22962976e+00  1.38800447e-01\n",
            "  1.11185151e+00 -2.21652494e+00 -2.75835239e+00  1.09292612e+00\n",
            " -1.77058629e+00 -2.01422769e-02 -5.80202069e-01  1.30600648e+00\n",
            "  2.09462567e+00 -8.44120859e-01 -1.41843751e+00  4.26199980e+00\n",
            " -4.18499824e-01 -4.19635887e-01  8.99030236e-02  8.58259793e-01\n",
            "  9.81287856e-04  1.45250449e+00  1.11378732e+00  3.86868851e+00\n",
            "  6.91873770e+01  5.49312037e+00 -3.37474536e+00 -2.05457563e+00\n",
            "  2.00258098e+00  5.45404630e-02  3.83465009e-01  2.18745352e+00\n",
            " -1.49173927e+00  3.96893086e-01  4.42120182e+00 -8.45962583e-02\n",
            " -5.99922118e-01  5.87376898e+01  1.01040691e+00 -8.52182466e-01\n",
            "  1.93756458e+00  8.88382040e-01  7.12794718e+00  9.20171099e-01]\n",
            "\n",
            "\n",
            "bias : \n",
            "11.606280273956502\n"
          ]
        }
      ],
      "source": [
        "print('weight : \\n{}\\n\\n'.format(model_linear_multi.coef_))\n",
        "print('bias : \\n{}'.format(model_linear_multi.intercept_))"
      ]
    },
    {
      "cell_type": "code",
      "execution_count": null,
      "metadata": {
        "colab": {
          "base_uri": "https://localhost:8080/"
        },
        "id": "cSXTPok_Y0fv",
        "outputId": "ac9db2a9-6137-48d8-9386-63927d3dcf88",
        "scrolled": true
      },
      "outputs": [
        {
          "output_type": "stream",
          "name": "stdout",
          "text": [
            "학습 데이터 점수 : 0.90\n",
            "검증 데이터 점수 : 0.82\n"
          ]
        }
      ],
      "source": [
        "print('학습 데이터 점수 : {:.2f}'.format(model_linear_multi.score(X_train, y_train)))\n",
        "print('검증 데이터 점수 : {:.2f}'.format(model_linear_multi.score(X_test, y_test)))"
      ]
    },
    {
      "cell_type": "markdown",
      "metadata": {
        "id": "J4DWnbWCY0fw"
      },
      "source": [
        "noise = 100"
      ]
    },
    {
      "cell_type": "code",
      "execution_count": null,
      "metadata": {
        "id": "YJUmb3k3Y0fy"
      },
      "outputs": [],
      "source": [
        "from sklearn.model_selection import train_test_split\n",
        "from sklearn.linear_model import LinearRegression\n",
        "X_2,y_2 = make_regression(n_samples = 1000, n_features = 100, bias = 10, noise = 100)"
      ]
    },
    {
      "cell_type": "code",
      "execution_count": null,
      "metadata": {
        "colab": {
          "base_uri": "https://localhost:8080/",
          "height": 430
        },
        "id": "vF8DdSlVY0f1",
        "outputId": "484094a5-9ec3-4fee-f75b-7e6f7922c3de",
        "scrolled": true
      },
      "outputs": [
        {
          "output_type": "display_data",
          "data": {
            "text/plain": [
              "<Figure size 640x480 with 1 Axes>"
            ],
            "image/png": "[encoded data removed]"
          },
          "metadata": {}
        }
      ],
      "source": [
        "from matplotlib import pyplot as plt\n",
        "plt.scatter(X_2[:, 11], y_2)    # 임의의 값을 슬라이싱\n",
        "plt.show()"
      ]
    },
    {
      "cell_type": "code",
      "execution_count": null,
      "metadata": {
        "id": "1ksYu2_SY0f3"
      },
      "outputs": [],
      "source": [
        "X_train, X_test, y_train, y_test = train_test_split(X_2, y_2, test_size = 0.2,\n",
        "                                                    shuffle = True)\n",
        "hypothesis_noise100 = LinearRegression()\n",
        "model_linear_noise100 = hypothesis_noise100.fit(X_train, y_train)"
      ]
    },
    {
      "cell_type": "code",
      "execution_count": null,
      "metadata": {
        "colab": {
          "base_uri": "https://localhost:8080/"
        },
        "id": "5Z2ce5weY0f6",
        "outputId": "1c4dd598-b463-47d3-e106-9dae47e85016"
      },
      "outputs": [
        {
          "output_type": "stream",
          "name": "stdout",
          "text": [
            "weight : \n",
            "[-5.69895369e+00  3.44175439e+00  3.63349859e+00 -6.62996619e-01\n",
            "  2.49557661e+00 -5.01785560e+00 -7.12723762e+00  2.10986857e+00\n",
            "  8.57368546e-01  8.86298777e+00 -6.03600165e-01 -1.15206629e+00\n",
            "  3.24784046e+01  8.03521568e+01 -1.68246757e+00 -2.54174803e+00\n",
            "  2.39687112e+00 -2.21939744e+00 -2.93563361e+00 -6.93317742e-01\n",
            "  5.15305036e+00 -2.83883256e+00  2.11526836e+01 -3.50267709e+00\n",
            "  8.49753668e-01  1.67998385e+00 -3.01405917e+00  5.69382748e+00\n",
            "  7.77093643e+01  4.64168427e+00 -2.17476420e+00 -3.85355913e-01\n",
            "  3.99724333e+00  1.45440264e+00  3.64862251e+00 -8.00308434e+00\n",
            "  2.99450198e+00 -8.20936396e+00 -4.11312530e+00 -3.81037063e+00\n",
            "  2.78484972e+00 -1.17095290e+01  5.02748315e+00  3.93011988e+00\n",
            "  1.01390297e+01  1.78254117e+00  1.06293302e+00 -6.01548261e+00\n",
            "  2.63473938e+01  1.78157791e+00  3.12245022e+00  1.98361534e+00\n",
            "  3.23788595e+00 -4.36138430e+00 -4.12725979e+00 -2.36739028e+00\n",
            " -1.49806182e+00  4.53334099e-01  4.43312664e-01 -6.39017341e+00\n",
            "  3.03656848e+00  5.30719605e+00  2.94783190e-01  3.29098625e+00\n",
            "  6.73716726e+00  5.06758475e+00  3.92708481e+00  9.75385500e+01\n",
            "  1.08988106e+00 -1.14452690e+00 -7.63821060e+00 -1.37340972e+00\n",
            "  1.42691572e+00 -2.01571608e+00  2.84621403e-01  2.56715869e+00\n",
            " -5.77060374e+00  1.99267238e+00  2.55864713e-01 -1.35887846e-01\n",
            "  8.32437304e+01 -3.55367188e+00 -2.21983673e+00 -3.07814304e+00\n",
            " -2.37770453e+00 -6.56265872e-02 -2.11443148e+00  5.22030814e+00\n",
            "  2.52218973e+01 -5.43798293e+00 -6.18946930e-01 -5.79738761e+00\n",
            "  1.79082305e-01  9.56185981e+01  9.69962976e-01 -2.07996553e+00\n",
            " -4.37357203e+00  4.73978161e+00  7.10997789e-01  1.92126147e+00]\n",
            "\n",
            "\n",
            "bias : \n",
            "11.454948836839309\n"
          ]
        }
      ],
      "source": [
        "print('weight : \\n{}\\n\\n'.format(model_linear_noise100.coef_))\n",
        "print('bias : \\n{}'.format(model_linear_noise100.intercept_))"
      ]
    },
    {
      "cell_type": "code",
      "execution_count": null,
      "metadata": {
        "colab": {
          "base_uri": "https://localhost:8080/"
        },
        "id": "c0fy-z6SY0f8",
        "outputId": "509e0919-40ab-4bb2-ae98-3de9470a1e00"
      },
      "outputs": [
        {
          "output_type": "stream",
          "name": "stdout",
          "text": [
            "학습 데이터 점수 : 0.83\n",
            "검증 데이터 점수 : 0.76\n"
          ]
        }
      ],
      "source": [
        "print('학습 데이터 점수 : {:.2f}'.format(model_linear_noise100.score(X_train, y_train)))\n",
        "print('검증 데이터 점수 : {:.2f}'.format(model_linear_noise100.score(X_test, y_test)))"
      ]
    },
    {
      "cell_type": "markdown",
      "metadata": {
        "id": "LGE0qOzvY0f-"
      },
      "source": [
        "make_regression을 이용해 가상 데이터를 생성할 때 noise의 값에 따른 결과를 보여주고 있다."
      ]
    },
    {
      "cell_type": "markdown",
      "metadata": {
        "id": "Dpgr-H3kLtLT"
      },
      "source": [
        "### 보스턴 주택데이터 예측하기"
      ]
    },
    {
      "cell_type": "code",
      "execution_count": null,
      "metadata": {
        "colab": {
          "base_uri": "https://localhost:8080/",
          "height": 1000
        },
        "id": "-bVrdg9Lxnpp",
        "outputId": "c2837acd-4ef4-413d-9177-14ec64ffed6a"
      },
      "outputs": [
        {
          "output_type": "error",
          "ename": "ImportError",
          "evalue": "ignored",
          "traceback": [
            "\u001b[0;31m---------------------------------------------------------------------------\u001b[0m",
            "\u001b[0;31mImportError\u001b[0m                               Traceback (most recent call last)",
            "\u001b[0;32m<ipython-input-59-1ed36436ffa3>\u001b[0m in \u001b[0;36m<cell line: 1>\u001b[0;34m()\u001b[0m\n\u001b[0;32m----> 1\u001b[0;31m \u001b[0;32mfrom\u001b[0m \u001b[0msklearn\u001b[0m\u001b[0;34m.\u001b[0m\u001b[0mdatasets\u001b[0m \u001b[0;32mimport\u001b[0m \u001b[0mload_boston\u001b[0m\u001b[0;34m\u001b[0m\u001b[0;34m\u001b[0m\u001b[0m\n\u001b[0m",
            "\u001b[0;32m/usr/local/lib/python3.10/dist-packages/sklearn/datasets/__init__.py\u001b[0m in \u001b[0;36m__getattr__\u001b[0;34m(name)\u001b[0m\n\u001b[1;32m    154\u001b[0m             \"\"\"\n\u001b[1;32m    155\u001b[0m         )\n\u001b[0;32m--> 156\u001b[0;31m         \u001b[0;32mraise\u001b[0m \u001b[0mImportError\u001b[0m\u001b[0;34m(\u001b[0m\u001b[0mmsg\u001b[0m\u001b[0;34m)\u001b[0m\u001b[0;34m\u001b[0m\u001b[0;34m\u001b[0m\u001b[0m\n\u001b[0m\u001b[1;32m    157\u001b[0m     \u001b[0;32mtry\u001b[0m\u001b[0;34m:\u001b[0m\u001b[0;34m\u001b[0m\u001b[0;34m\u001b[0m\u001b[0m\n\u001b[1;32m    158\u001b[0m         \u001b[0;32mreturn\u001b[0m \u001b[0mglobals\u001b[0m\u001b[0;34m(\u001b[0m\u001b[0;34m)\u001b[0m\u001b[0;34m[\u001b[0m\u001b[0mname\u001b[0m\u001b[0;34m]\u001b[0m\u001b[0;34m\u001b[0m\u001b[0;34m\u001b[0m\u001b[0m\n",
            "\u001b[0;31mImportError\u001b[0m: \n`load_boston` has been removed from scikit-learn since version 1.2.\n\nThe Boston housing prices dataset has an ethical problem: as\ninvestigated in [1], the authors of this dataset engineered a\nnon-invertible variable \"B\" assuming that racial self-segregation had a\npositive impact on house prices [2]. Furthermore the goal of the\nresearch that led to the creation of this dataset was to study the\nimpact of air quality but it did not give adequate demonstration of the\nvalidity of this assumption.\n\nThe scikit-learn maintainers therefore strongly discourage the use of\nthis dataset unless the purpose of the code is to study and educate\nabout ethical issues in data science and machine learning.\n\nIn this special case, you can fetch the dataset from the original\nsource::\n\n    import pandas as pd\n    import numpy as np\n\n    data_url = \"http://lib.stat.cmu.edu/datasets/boston\"\n    raw_df = pd.read_csv(data_url, sep=\"\\s+\", skiprows=22, header=None)\n    data = np.hstack([raw_df.values[::2, :], raw_df.values[1::2, :2]])\n    target = raw_df.values[1::2, 2]\n\nAlternative datasets include the California housing dataset and the\nAmes housing dataset. You can load the datasets as follows::\n\n    from sklearn.datasets import fetch_california_housing\n    housing = fetch_california_housing()\n\nfor the California housing dataset and::\n\n    from sklearn.datasets import fetch_openml\n    housing = fetch_openml(name=\"house_prices\", as_frame=True)\n\nfor the Ames housing dataset.\n\n[1] M Carlisle.\n\"Racist data destruction?\"\n<https://medium.com/@docintangible/racist-data-destruction-113e3eff54a8>\n\n[2] Harrison Jr, David, and Daniel L. Rubinfeld.\n\"Hedonic housing prices and the demand for clean air.\"\nJournal of environmental economics and management 5.1 (1978): 81-102.\n<https://www.researchgate.net/publication/4974606_Hedonic_housing_prices_and_the_demand_for_clean_air>\n",
            "",
            "\u001b[0;31m---------------------------------------------------------------------------\u001b[0;32m\nNOTE: If your import is failing due to a missing package, you can\nmanually install dependencies using either !pip or !apt.\n\nTo view examples of installing some common dependencies, click the\n\"Open Examples\" button below.\n\u001b[0;31m---------------------------------------------------------------------------\u001b[0m\n"
          ],
          "errorDetails": {
            "actions": [
              {
                "action": "open_url",
                "actionText": "Open Examples",
                "url": "/notebooks/snippets/importing_libraries.ipynb"
              }
            ]
          }
        }
      ],
      "source": [
        "from sklearn.datasets import load_boston"
      ]
    },
    {
      "cell_type": "code",
      "source": [
        "A = np.array([1,2,3])"
      ],
      "metadata": {
        "id": "zuyq02okRf5u"
      },
      "execution_count": null,
      "outputs": []
    },
    {
      "cell_type": "code",
      "source": [
        "B = np.array([4,5,6])"
      ],
      "metadata": {
        "id": "b6TSDOHYRi35"
      },
      "execution_count": null,
      "outputs": []
    },
    {
      "cell_type": "code",
      "source": [
        "np.hstack([A, B]), np.vstack([A, B])"
      ],
      "metadata": {
        "colab": {
          "base_uri": "https://localhost:8080/"
        },
        "id": "4QylNUo9Rowj",
        "outputId": "0657ef33-2eda-4944-b120-bdb708951138"
      },
      "execution_count": null,
      "outputs": [
        {
          "output_type": "execute_result",
          "data": {
            "text/plain": [
              "(array([1, 2, 3, 4, 5, 6]),\n",
              " array([[1, 2, 3],\n",
              "        [4, 5, 6]]))"
            ]
          },
          "metadata": {},
          "execution_count": 66
        }
      ]
    },
    {
      "cell_type": "code",
      "source": [
        "import pandas as pd\n",
        "import numpy as np\n",
        "\n",
        "data_url = \"http://lib.stat.cmu.edu/datasets/boston\"\n",
        "raw_df = pd.read_csv(data_url, sep=\"\\s+\", skiprows=22, header=None)\n",
        "data = np.hstack([raw_df.values[::2, :], raw_df.values[1::2, :2]])\n",
        "target = raw_df.values[1::2, 2]\n"
      ],
      "metadata": {
        "id": "ULbQUyXNQxGw"
      },
      "execution_count": null,
      "outputs": []
    },
    {
      "cell_type": "code",
      "source": [
        "raw_df"
      ],
      "metadata": {
        "colab": {
          "base_uri": "https://localhost:8080/",
          "height": 423
        },
        "id": "jjVOLkJ-RIxw",
        "outputId": "cd8cc21a-99f8-4f40-d43d-b5c62e0adbec"
      },
      "execution_count": null,
      "outputs": [
        {
          "output_type": "execute_result",
          "data": {
            "text/plain": [
              "             0      1      2    3      4      5     6       7    8      9   \\\n",
              "0       0.00632  18.00   2.31  0.0  0.538  6.575  65.2  4.0900  1.0  296.0   \n",
              "1     396.90000   4.98  24.00  NaN    NaN    NaN   NaN     NaN  NaN    NaN   \n",
              "2       0.02731   0.00   7.07  0.0  0.469  6.421  78.9  4.9671  2.0  242.0   \n",
              "3     396.90000   9.14  21.60  NaN    NaN    NaN   NaN     NaN  NaN    NaN   \n",
              "4       0.02729   0.00   7.07  0.0  0.469  7.185  61.1  4.9671  2.0  242.0   \n",
              "...         ...    ...    ...  ...    ...    ...   ...     ...  ...    ...   \n",
              "1007  396.90000   5.64  23.90  NaN    NaN    NaN   NaN     NaN  NaN    NaN   \n",
              "1008    0.10959   0.00  11.93  0.0  0.573  6.794  89.3  2.3889  1.0  273.0   \n",
              "1009  393.45000   6.48  22.00  NaN    NaN    NaN   NaN     NaN  NaN    NaN   \n",
              "1010    0.04741   0.00  11.93  0.0  0.573  6.030  80.8  2.5050  1.0  273.0   \n",
              "1011  396.90000   7.88  11.90  NaN    NaN    NaN   NaN     NaN  NaN    NaN   \n",
              "\n",
              "        10  \n",
              "0     15.3  \n",
              "1      NaN  \n",
              "2     17.8  \n",
              "3      NaN  \n",
              "4     17.8  \n",
              "...    ...  \n",
              "1007   NaN  \n",
              "1008  21.0  \n",
              "1009   NaN  \n",
              "1010  21.0  \n",
              "1011   NaN  \n",
              "\n",
              "[1012 rows x 11 columns]"
            ],
            "text/html": [
              "\n",
              "\n",
              "  <div id=\"df-a495f132-13ac-474d-8a45-579d95b77f11\">\n",
              "    <div class=\"colab-df-container\">\n",
              "      <div>\n",
              "<style scoped>\n",
              "    .dataframe tbody tr th:only-of-type {\n",
              "        vertical-align: middle;\n",
              "    }\n",
              "\n",
              "    .dataframe tbody tr th {\n",
              "        vertical-align: top;\n",
              "    }\n",
              "\n",
              "    .dataframe thead th {\n",
              "        text-align: right;\n",
              "    }\n",
              "</style>\n",
              "<table border=\"1\" class=\"dataframe\">\n",
              "  <thead>\n",
              "    <tr style=\"text-align: right;\">\n",
              "      <th></th>\n",
              "      <th>0</th>\n",
              "      <th>1</th>\n",
              "      <th>2</th>\n",
              "      <th>3</th>\n",
              "      <th>4</th>\n",
              "      <th>5</th>\n",
              "      <th>6</th>\n",
              "      <th>7</th>\n",
              "      <th>8</th>\n",
              "      <th>9</th>\n",
              "      <th>10</th>\n",
              "    </tr>\n",
              "  </thead>\n",
              "  <tbody>\n",
              "    <tr>\n",
              "      <th>0</th>\n",
              "      <td>0.00632</td>\n",
              "      <td>18.00</td>\n",
              "      <td>2.31</td>\n",
              "      <td>0.0</td>\n",
              "      <td>0.538</td>\n",
              "      <td>6.575</td>\n",
              "      <td>65.2</td>\n",
              "      <td>4.0900</td>\n",
              "      <td>1.0</td>\n",
              "      <td>296.0</td>\n",
              "      <td>15.3</td>\n",
              "    </tr>\n",
              "    <tr>\n",
              "      <th>1</th>\n",
              "      <td>396.90000</td>\n",
              "      <td>4.98</td>\n",
              "      <td>24.00</td>\n",
              "      <td>NaN</td>\n",
              "      <td>NaN</td>\n",
              "      <td>NaN</td>\n",
              "      <td>NaN</td>\n",
              "      <td>NaN</td>\n",
              "      <td>NaN</td>\n",
              "      <td>NaN</td>\n",
              "      <td>NaN</td>\n",
              "    </tr>\n",
              "    <tr>\n",
              "      <th>2</th>\n",
              "      <td>0.02731</td>\n",
              "      <td>0.00</td>\n",
              "      <td>7.07</td>\n",
              "      <td>0.0</td>\n",
              "      <td>0.469</td>\n",
              "      <td>6.421</td>\n",
              "      <td>78.9</td>\n",
              "      <td>4.9671</td>\n",
              "      <td>2.0</td>\n",
              "      <td>242.0</td>\n",
              "      <td>17.8</td>\n",
              "    </tr>\n",
              "    <tr>\n",
              "      <th>3</th>\n",
              "      <td>396.90000</td>\n",
              "      <td>9.14</td>\n",
              "      <td>21.60</td>\n",
              "      <td>NaN</td>\n",
              "      <td>NaN</td>\n",
              "      <td>NaN</td>\n",
              "      <td>NaN</td>\n",
              "      <td>NaN</td>\n",
              "      <td>NaN</td>\n",
              "      <td>NaN</td>\n",
              "      <td>NaN</td>\n",
              "    </tr>\n",
              "    <tr>\n",
              "      <th>4</th>\n",
              "      <td>0.02729</td>\n",
              "      <td>0.00</td>\n",
              "      <td>7.07</td>\n",
              "      <td>0.0</td>\n",
              "      <td>0.469</td>\n",
              "      <td>7.185</td>\n",
              "      <td>61.1</td>\n",
              "      <td>4.9671</td>\n",
              "      <td>2.0</td>\n",
              "      <td>242.0</td>\n",
              "      <td>17.8</td>\n",
              "    </tr>\n",
              "    <tr>\n",
              "      <th>...</th>\n",
              "      <td>...</td>\n",
              "      <td>...</td>\n",
              "      <td>...</td>\n",
              "      <td>...</td>\n",
              "      <td>...</td>\n",
              "      <td>...</td>\n",
              "      <td>...</td>\n",
              "      <td>...</td>\n",
              "      <td>...</td>\n",
              "      <td>...</td>\n",
              "      <td>...</td>\n",
              "    </tr>\n",
              "    <tr>\n",
              "      <th>1007</th>\n",
              "      <td>396.90000</td>\n",
              "      <td>5.64</td>\n",
              "      <td>23.90</td>\n",
              "      <td>NaN</td>\n",
              "      <td>NaN</td>\n",
              "      <td>NaN</td>\n",
              "      <td>NaN</td>\n",
              "      <td>NaN</td>\n",
              "      <td>NaN</td>\n",
              "      <td>NaN</td>\n",
              "      <td>NaN</td>\n",
              "    </tr>\n",
              "    <tr>\n",
              "      <th>1008</th>\n",
              "      <td>0.10959</td>\n",
              "      <td>0.00</td>\n",
              "      <td>11.93</td>\n",
              "      <td>0.0</td>\n",
              "      <td>0.573</td>\n",
              "      <td>6.794</td>\n",
              "      <td>89.3</td>\n",
              "      <td>2.3889</td>\n",
              "      <td>1.0</td>\n",
              "      <td>273.0</td>\n",
              "      <td>21.0</td>\n",
              "    </tr>\n",
              "    <tr>\n",
              "      <th>1009</th>\n",
              "      <td>393.45000</td>\n",
              "      <td>6.48</td>\n",
              "      <td>22.00</td>\n",
              "      <td>NaN</td>\n",
              "      <td>NaN</td>\n",
              "      <td>NaN</td>\n",
              "      <td>NaN</td>\n",
              "      <td>NaN</td>\n",
              "      <td>NaN</td>\n",
              "      <td>NaN</td>\n",
              "      <td>NaN</td>\n",
              "    </tr>\n",
              "    <tr>\n",
              "      <th>1010</th>\n",
              "      <td>0.04741</td>\n",
              "      <td>0.00</td>\n",
              "      <td>11.93</td>\n",
              "      <td>0.0</td>\n",
              "      <td>0.573</td>\n",
              "      <td>6.030</td>\n",
              "      <td>80.8</td>\n",
              "      <td>2.5050</td>\n",
              "      <td>1.0</td>\n",
              "      <td>273.0</td>\n",
              "      <td>21.0</td>\n",
              "    </tr>\n",
              "    <tr>\n",
              "      <th>1011</th>\n",
              "      <td>396.90000</td>\n",
              "      <td>7.88</td>\n",
              "      <td>11.90</td>\n",
              "      <td>NaN</td>\n",
              "      <td>NaN</td>\n",
              "      <td>NaN</td>\n",
              "      <td>NaN</td>\n",
              "      <td>NaN</td>\n",
              "      <td>NaN</td>\n",
              "      <td>NaN</td>\n",
              "      <td>NaN</td>\n",
              "    </tr>\n",
              "  </tbody>\n",
              "</table>\n",
              "<p>1012 rows × 11 columns</p>\n",
              "</div>\n",
              "      <button class=\"colab-df-convert\" onclick=\"convertToInteractive('df-a495f132-13ac-474d-8a45-579d95b77f11')\"\n",
              "              title=\"Convert this dataframe to an interactive table.\"\n",
              "              style=\"display:none;\">\n",
              "\n",
              "  <svg xmlns=\"http://www.w3.org/2000/svg\" height=\"24px\"viewBox=\"0 0 24 24\"\n",
              "       width=\"24px\">\n",
              "    <path d=\"M0 0h24v24H0V0z\" fill=\"none\"/>\n",
              "    <path d=\"M18.56 5.44l.94 2.06.94-2.06 2.06-.94-2.06-.94-.94-2.06-.94 2.06-2.06.94zm-11 1L8.5 8.5l.94-2.06 2.06-.94-2.06-.94L8.5 2.5l-.94 2.06-2.06.94zm10 10l.94 2.06.94-2.06 2.06-.94-2.06-.94-.94-2.06-.94 2.06-2.06.94z\"/><path d=\"M17.41 7.96l-1.37-1.37c-.4-.4-.92-.59-1.43-.59-.52 0-1.04.2-1.43.59L10.3 9.45l-7.72 7.72c-.78.78-.78 2.05 0 2.83L4 21.41c.39.39.9.59 1.41.59.51 0 1.02-.2 1.41-.59l7.78-7.78 2.81-2.81c.8-.78.8-2.07 0-2.86zM5.41 20L4 18.59l7.72-7.72 1.47 1.35L5.41 20z\"/>\n",
              "  </svg>\n",
              "      </button>\n",
              "\n",
              "\n",
              "\n",
              "    <div id=\"df-e3bf84a8-982b-48ef-88e7-fb704b8a44e2\">\n",
              "      <button class=\"colab-df-quickchart\" onclick=\"quickchart('df-e3bf84a8-982b-48ef-88e7-fb704b8a44e2')\"\n",
              "              title=\"Suggest charts.\"\n",
              "              style=\"display:none;\">\n",
              "\n",
              "<svg xmlns=\"http://www.w3.org/2000/svg\" height=\"24px\"viewBox=\"0 0 24 24\"\n",
              "     width=\"24px\">\n",
              "    <g>\n",
              "        <path d=\"M19 3H5c-1.1 0-2 .9-2 2v14c0 1.1.9 2 2 2h14c1.1 0 2-.9 2-2V5c0-1.1-.9-2-2-2zM9 17H7v-7h2v7zm4 0h-2V7h2v10zm4 0h-2v-4h2v4z\"/>\n",
              "    </g>\n",
              "</svg>\n",
              "      </button>\n",
              "    </div>\n",
              "\n",
              "<style>\n",
              "  .colab-df-quickchart {\n",
              "    background-color: #E8F0FE;\n",
              "    border: none;\n",
              "    border-radius: 50%;\n",
              "    cursor: pointer;\n",
              "    display: none;\n",
              "    fill: #1967D2;\n",
              "    height: 32px;\n",
              "    padding: 0 0 0 0;\n",
              "    width: 32px;\n",
              "  }\n",
              "\n",
              "  .colab-df-quickchart:hover {\n",
              "    background-color: #E2EBFA;\n",
              "    box-shadow: 0px 1px 2px rgba(60, 64, 67, 0.3), 0px 1px 3px 1px rgba(60, 64, 67, 0.15);\n",
              "    fill: #174EA6;\n",
              "  }\n",
              "\n",
              "  [theme=dark] .colab-df-quickchart {\n",
              "    background-color: #3B4455;\n",
              "    fill: #D2E3FC;\n",
              "  }\n",
              "\n",
              "  [theme=dark] .colab-df-quickchart:hover {\n",
              "    background-color: #434B5C;\n",
              "    box-shadow: 0px 1px 3px 1px rgba(0, 0, 0, 0.15);\n",
              "    filter: drop-shadow(0px 1px 2px rgba(0, 0, 0, 0.3));\n",
              "    fill: #FFFFFF;\n",
              "  }\n",
              "</style>\n",
              "\n",
              "    <script>\n",
              "      async function quickchart(key) {\n",
              "        const containerElement = document.querySelector('#' + key);\n",
              "        const charts = await google.colab.kernel.invokeFunction(\n",
              "            'suggestCharts', [key], {});\n",
              "      }\n",
              "    </script>\n",
              "\n",
              "      <script>\n",
              "\n",
              "function displayQuickchartButton(domScope) {\n",
              "  let quickchartButtonEl =\n",
              "    domScope.querySelector('#df-e3bf84a8-982b-48ef-88e7-fb704b8a44e2 button.colab-df-quickchart');\n",
              "  quickchartButtonEl.style.display =\n",
              "    google.colab.kernel.accessAllowed ? 'block' : 'none';\n",
              "}\n",
              "\n",
              "        displayQuickchartButton(document);\n",
              "      </script>\n",
              "      <style>\n",
              "    .colab-df-container {\n",
              "      display:flex;\n",
              "      flex-wrap:wrap;\n",
              "      gap: 12px;\n",
              "    }\n",
              "\n",
              "    .colab-df-convert {\n",
              "      background-color: #E8F0FE;\n",
              "      border: none;\n",
              "      border-radius: 50%;\n",
              "      cursor: pointer;\n",
              "      display: none;\n",
              "      fill: #1967D2;\n",
              "      height: 32px;\n",
              "      padding: 0 0 0 0;\n",
              "      width: 32px;\n",
              "    }\n",
              "\n",
              "    .colab-df-convert:hover {\n",
              "      background-color: #E2EBFA;\n",
              "      box-shadow: 0px 1px 2px rgba(60, 64, 67, 0.3), 0px 1px 3px 1px rgba(60, 64, 67, 0.15);\n",
              "      fill: #174EA6;\n",
              "    }\n",
              "\n",
              "    [theme=dark] .colab-df-convert {\n",
              "      background-color: #3B4455;\n",
              "      fill: #D2E3FC;\n",
              "    }\n",
              "\n",
              "    [theme=dark] .colab-df-convert:hover {\n",
              "      background-color: #434B5C;\n",
              "      box-shadow: 0px 1px 3px 1px rgba(0, 0, 0, 0.15);\n",
              "      filter: drop-shadow(0px 1px 2px rgba(0, 0, 0, 0.3));\n",
              "      fill: #FFFFFF;\n",
              "    }\n",
              "  </style>\n",
              "\n",
              "      <script>\n",
              "        const buttonEl =\n",
              "          document.querySelector('#df-a495f132-13ac-474d-8a45-579d95b77f11 button.colab-df-convert');\n",
              "        buttonEl.style.display =\n",
              "          google.colab.kernel.accessAllowed ? 'block' : 'none';\n",
              "\n",
              "        async function convertToInteractive(key) {\n",
              "          const element = document.querySelector('#df-a495f132-13ac-474d-8a45-579d95b77f11');\n",
              "          const dataTable =\n",
              "            await google.colab.kernel.invokeFunction('convertToInteractive',\n",
              "                                                     [key], {});\n",
              "          if (!dataTable) return;\n",
              "\n",
              "          const docLinkHtml = 'Like what you see? Visit the ' +\n",
              "            '<a target=\"_blank\" href=https://colab.research.google.com/notebooks/data_table.ipynb>data table notebook</a>'\n",
              "            + ' to learn more about interactive tables.';\n",
              "          element.innerHTML = '';\n",
              "          dataTable['output_type'] = 'display_data';\n",
              "          await google.colab.output.renderOutput(dataTable, element);\n",
              "          const docLink = document.createElement('div');\n",
              "          docLink.innerHTML = docLinkHtml;\n",
              "          element.appendChild(docLink);\n",
              "        }\n",
              "      </script>\n",
              "    </div>\n",
              "  </div>\n"
            ]
          },
          "metadata": {},
          "execution_count": 61
        }
      ]
    },
    {
      "cell_type": "code",
      "execution_count": null,
      "metadata": {
        "id": "ZpZwcyfiHNER"
      },
      "outputs": [],
      "source": [
        "boston = load_boston()\n",
        "boston"
      ]
    },
    {
      "cell_type": "code",
      "execution_count": null,
      "metadata": {
        "id": "_6g6FAriyCqA"
      },
      "outputs": [],
      "source": [
        "boston['data']"
      ]
    },
    {
      "cell_type": "code",
      "execution_count": null,
      "metadata": {
        "id": "UVolSnJ2ySsb"
      },
      "outputs": [],
      "source": [
        "boston['target']"
      ]
    },
    {
      "cell_type": "code",
      "execution_count": null,
      "metadata": {
        "id": "d5G17SvnynLU"
      },
      "outputs": [],
      "source": [
        "boston['feature_names']"
      ]
    },
    {
      "cell_type": "code",
      "execution_count": null,
      "metadata": {
        "id": "7L_jQuls1BMJ"
      },
      "outputs": [],
      "source": [
        "boston['data'].shape, boston['target'].shape"
      ]
    },
    {
      "cell_type": "code",
      "source": [
        "data.shape, target.shape"
      ],
      "metadata": {
        "colab": {
          "base_uri": "https://localhost:8080/"
        },
        "id": "-9NbxBXPR5Fr",
        "outputId": "3dc53336-94ae-4625-fa91-0e4173fdb4a5"
      },
      "execution_count": null,
      "outputs": [
        {
          "output_type": "execute_result",
          "data": {
            "text/plain": [
              "((506, 13), (506,))"
            ]
          },
          "metadata": {},
          "execution_count": 67
        }
      ]
    },
    {
      "cell_type": "code",
      "source": [],
      "metadata": {
        "id": "VZddKJmmSDGU"
      },
      "execution_count": null,
      "outputs": []
    },
    {
      "cell_type": "code",
      "execution_count": null,
      "metadata": {
        "id": "oqbYWlwfSM3i"
      },
      "outputs": [],
      "source": [
        "train_test_split?"
      ]
    },
    {
      "cell_type": "code",
      "execution_count": null,
      "metadata": {
        "id": "coJxJNEa1Q3q"
      },
      "outputs": [],
      "source": [
        "from sklearn.model_selection import train_test_split\n",
        "\n",
        "X_train, X_test, y_train, y_test = train_test_split(data, target,\n",
        "                                                    test_size=0.2,\n",
        "                                                    shuffle=True)"
      ]
    },
    {
      "cell_type": "code",
      "execution_count": null,
      "metadata": {
        "id": "SvaIJxdaMKN9"
      },
      "outputs": [],
      "source": [
        "LinearRegression?"
      ]
    },
    {
      "cell_type": "code",
      "execution_count": null,
      "metadata": {
        "colab": {
          "base_uri": "https://localhost:8080/"
        },
        "id": "Nye0BPzd3num",
        "outputId": "97bfb0e0-e2c6-4694-e589-56a5fb7e2307"
      },
      "outputs": [
        {
          "output_type": "stream",
          "name": "stdout",
          "text": [
            "learning finished..\n",
            "coef_: [-1.03670702e-01  4.42301556e-02  1.35663079e-02  3.31884999e+00\n",
            " -1.48545938e+01  4.91716231e+00 -1.50282930e-02 -1.52405123e+00\n",
            "  2.80781987e-01 -1.03715604e-02 -9.06453716e-01  1.22187362e-02\n",
            " -4.62112143e-01]\n",
            "\n",
            "bias: 25.937050193795137\n"
          ]
        }
      ],
      "source": [
        "from sklearn.linear_model import LinearRegression\n",
        "\n",
        "hypothesis = LinearRegression()\n",
        "\n",
        "model_boston = hypothesis.fit(X_train, y_train)\n",
        "\n",
        "print('learning finished..')\n",
        "print('coef_: {}'.format(model_boston.coef_))\n",
        "print()\n",
        "print('bias: {}'.format(model_boston.intercept_))"
      ]
    },
    {
      "cell_type": "code",
      "execution_count": null,
      "metadata": {
        "colab": {
          "base_uri": "https://localhost:8080/"
        },
        "id": "qtNKjlAW56Gf",
        "outputId": "2386877a-31fd-4816-af95-8e1c8893d67f"
      },
      "outputs": [
        {
          "output_type": "execute_result",
          "data": {
            "text/plain": [
              "(0.7607772035207736, 0.5977989418116159)"
            ]
          },
          "metadata": {},
          "execution_count": 71
        }
      ],
      "source": [
        "model_boston.score(X_train, y_train), model_boston.score(X_test, y_test)"
      ]
    },
    {
      "cell_type": "code",
      "execution_count": null,
      "metadata": {
        "colab": {
          "base_uri": "https://localhost:8080/"
        },
        "id": "-RfIidFw6G1A",
        "outputId": "d7fbdc79-c62e-4057-cc52-f789428d7232"
      },
      "outputs": [
        {
          "output_type": "execute_result",
          "data": {
            "text/plain": [
              "array([24.45713701, 17.61810592, 17.68941111, 27.21960871,  8.79612728,\n",
              "       20.1181474 , 31.20203205, 12.40426586,  4.10087168, 26.82388077,\n",
              "       25.42042266, 25.86887024, 15.6672803 , 12.70281629, 24.99300605,\n",
              "        9.6951299 , 16.52890182, 21.80905648, 12.35508863, 22.5404953 ,\n",
              "       29.91607975, 19.81249604, 16.49510617, 12.65957954, 18.93050076,\n",
              "       40.03234325, 19.41779297, 28.11206871, 19.07550067, 16.96272176,\n",
              "       24.58457797, 27.31989352, 33.08977464, 15.79246248, 26.90889825,\n",
              "       33.6545821 , 12.81579052, 20.34556662, 25.80390826, 11.00063878,\n",
              "       19.54874935, 17.29622637, 15.60044574, 20.39755315, 33.70638061,\n",
              "       32.24114483, 36.74101932, 25.07678503, 14.17713364, 22.96420854,\n",
              "       27.71493707, 17.1941736 , 17.05883294, 26.22701394, 39.26433081,\n",
              "       40.90817322, 13.50231138, 14.79881528, 27.16859221, 13.54567159,\n",
              "       32.35428467, 20.25353688, 24.90357804, 18.7387876 , 20.19523423,\n",
              "       20.94523684, 29.77958862, 24.23626317, 25.29282978, 22.05501964,\n",
              "       20.01195613, 25.10721977, 16.56108481, 30.75914236, 32.52729925,\n",
              "       22.63818277, 19.06222939, 21.88145951, 21.26718172, 23.79858634,\n",
              "       27.51234952, 27.05537462, 19.28910126, 15.49696498, 30.57794157,\n",
              "       19.31368423, 20.72992807, 37.10751738, 35.00449551,  7.9405518 ,\n",
              "        9.98905035, 31.89020036, 20.31617951, 13.41996407, 27.42274441,\n",
              "       22.86003619, 20.67997543, 34.74536335, 39.33693926,  7.56420741,\n",
              "       15.03698049, 24.41916597])"
            ]
          },
          "metadata": {},
          "execution_count": 72
        }
      ],
      "source": [
        "model_boston.predict(X_test)"
      ]
    },
    {
      "cell_type": "code",
      "source": [],
      "metadata": {
        "id": "GycaMfQnC49t"
      },
      "execution_count": null,
      "outputs": []
    }
  ],
  "metadata": {
    "colab": {
      "provenance": []
    },
    "kernelspec": {
      "display_name": "Python 3",
      "language": "python",
      "name": "python3"
    },
    "language_info": {
      "codemirror_mode": {
        "name": "ipython",
        "version": 3
      },
      "file_extension": ".py",
      "mimetype": "text/x-python",
      "name": "python",
      "nbconvert_exporter": "python",
      "pygments_lexer": "ipython3",
      "version": "3.7.4"
    }
  },
  "nbformat": 4,
  "nbformat_minor": 0
}