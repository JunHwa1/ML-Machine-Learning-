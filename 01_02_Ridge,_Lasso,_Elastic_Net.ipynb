{
  "cells": [
    {
      "cell_type": "markdown",
      "metadata": {
        "id": "1FZo7uwArex3"
      },
      "source": [
        "# 2. Ridge Regression"
      ]
    },
    {
      "cell_type": "code",
      "execution_count": null,
      "metadata": {
        "id": "h0zvPbOPrex6"
      },
      "outputs": [],
      "source": [
        "from sklearn.model_selection import train_test_split\n",
        "from sklearn.datasets import make_regression\n",
        "from sklearn.linear_model import Ridge\n",
        "# Ridge모델은 linear_model에서 Ridge로 불러올 수 있습니다."
      ]
    },
    {
      "cell_type": "code",
      "execution_count": null,
      "metadata": {
        "id": "iKYiEx3Qrex-"
      },
      "outputs": [],
      "source": [
        "X_multi, y_multi = make_regression(n_samples = 1000, n_features = 30, bias = 10, noise = 50)\n",
        "X_train, X_test, y_train, y_test = train_test_split(X_multi, y_multi, test_size = 0.3, shuffle = True)"
      ]
    },
    {
      "cell_type": "code",
      "execution_count": null,
      "metadata": {
        "id": "dnGae4AmreyB"
      },
      "outputs": [],
      "source": [
        "model_Ridge = Ridge(alpha=10).fit(X_train, y_train)"
      ]
    },
    {
      "cell_type": "code",
      "execution_count": null,
      "metadata": {
        "colab": {
          "base_uri": "https://localhost:8080/"
        },
        "id": "Rux-_1eBreyD",
        "outputId": "5e355660-61ca-44d6-dda4-81d9ededfd6e",
        "scrolled": false
      },
      "outputs": [
        {
          "output_type": "stream",
          "name": "stdout",
          "text": [
            "weight : \n",
            "[ 7.27907886e-01  7.42130754e+01 -1.36197463e+00 -3.12188603e+00\n",
            "  7.93708667e-01  8.63616917e-01 -1.82513600e+00  9.15516198e+01\n",
            "  1.88342314e+00 -1.06858871e+00  2.15971927e-02  2.22704457e+00\n",
            "  1.44589507e+01  9.92314243e+01  2.42995752e+00 -6.98832839e-01\n",
            " -1.83973988e+00  1.42803887e+00  5.43132251e+01  3.65641285e+01\n",
            "  1.13406253e-02  2.40048495e+01 -2.35672816e-01 -1.98186009e+00\n",
            "  7.51139985e+01  1.28350561e+00 -9.19563975e-01  7.38925388e-01\n",
            "  1.36169178e-01  4.67923436e+01]\n",
            "\n",
            "\n",
            "bias : \n",
            "9.638051398057351\n"
          ]
        }
      ],
      "source": [
        "print('weight : \\n{}\\n\\n'.format(model_Ridge.coef_))\n",
        "print('bias : \\n{}'.format(model_Ridge.intercept_))"
      ]
    },
    {
      "cell_type": "code",
      "execution_count": null,
      "metadata": {
        "colab": {
          "base_uri": "https://localhost:8080/"
        },
        "id": "bn3eO5cp_Kt5",
        "outputId": "85f3c9bd-7704-4a73-e8e8-7f52dc561fa8"
      },
      "outputs": [
        {
          "output_type": "execute_result",
          "data": {
            "text/plain": [
              "array([ 7.37321139e-01,  7.52205669e+01, -1.31586092e+00, -3.01188909e+00,\n",
              "        7.42410598e-01,  1.00008982e+00, -1.95326807e+00,  9.28619921e+01,\n",
              "        1.72804847e+00, -1.17829304e+00,  1.03662814e-01,  2.43255503e+00,\n",
              "        1.46913047e+01,  1.00561296e+02,  2.19631604e+00, -5.89334546e-01,\n",
              "       -1.86397418e+00,  1.57668122e+00,  5.50237263e+01,  3.70448804e+01,\n",
              "       -9.60309691e-02,  2.44524699e+01,  4.73349523e-02, -1.94262797e+00,\n",
              "        7.60096356e+01,  1.32229487e+00, -1.00767454e+00,  7.40324135e-01,\n",
              "       -2.37570185e-02,  4.73727451e+01])"
            ]
          },
          "metadata": {},
          "execution_count": 12
        }
      ],
      "source": [
        "from sklearn.linear_model import LinearRegression\n",
        "model_Linear = LinearRegression().fit(X_train, y_train)\n",
        "model_Linear.coef_"
      ]
    },
    {
      "cell_type": "markdown",
      "metadata": {
        "id": "qYXRsNEbreyF"
      },
      "source": [
        "weight를 살펴보면 0에 가깝게 변한 값들을 볼 수 있다."
      ]
    },
    {
      "cell_type": "code",
      "execution_count": null,
      "metadata": {
        "colab": {
          "base_uri": "https://localhost:8080/"
        },
        "id": "_c6OiNvGreyG",
        "outputId": "41555fcb-a85e-4a8d-ebbd-e550893c36c9"
      },
      "outputs": [
        {
          "output_type": "stream",
          "name": "stdout",
          "text": [
            "train score : 0.95\n",
            "test score : 0.94\n"
          ]
        }
      ],
      "source": [
        "print('train score : {:.2f}'.format(model_Ridge.score(X_train, y_train)))\n",
        "print('test score : {:.2f}'.format(model_Ridge.score(X_test, y_test)))"
      ]
    },
    {
      "cell_type": "markdown",
      "metadata": {
        "id": "dPh1qLGcreyH"
      },
      "source": [
        "Ridge는 alpha라는 파라미터를 가지고 있다. 기본값은 1.0\n",
        "최적의 alpha값은 정해진 것이 없고 데이터셋마다 다르다."
      ]
    },
    {
      "cell_type": "code",
      "execution_count": null,
      "metadata": {
        "colab": {
          "base_uri": "https://localhost:8080/"
        },
        "id": "09DCKyMtreyI",
        "outputId": "ec7f9020-805e-439f-e275-990a086cd8af"
      },
      "outputs": [
        {
          "output_type": "stream",
          "name": "stdout",
          "text": [
            "weight : \n",
            "[ 0.48108698 45.3755233  -1.60937882 -4.41128867  1.41730163 -1.74610522\n",
            "  0.52454511 54.67955735  4.13391394  0.97696329 -1.58771402 -1.18931429\n",
            "  8.14784348 60.89451391  6.16018415 -2.3542634  -1.08752382 -1.21390752\n",
            " 33.50559912 22.29676072  1.77514407 12.80291238 -4.79233551 -2.44750589\n",
            " 47.55435637  0.46868295  0.83001153  0.62132536  2.87433139 29.47273888]\n",
            "\n",
            "\n",
            "bias : \n",
            "9.957557614980255\n"
          ]
        }
      ],
      "source": [
        "model_ridge500 = Ridge(alpha = 500).fit(X_train, y_train)\n",
        "print('weight : \\n{}\\n\\n'.format(model_ridge500.coef_))\n",
        "print('bias : \\n{}'.format(model_ridge500.intercept_))"
      ]
    },
    {
      "cell_type": "code",
      "execution_count": null,
      "metadata": {
        "colab": {
          "base_uri": "https://localhost:8080/"
        },
        "id": "1-AG6jFpreyK",
        "outputId": "1b4dde52-2a8c-4cca-ef15-e0f8fff7268e"
      },
      "outputs": [
        {
          "output_type": "stream",
          "name": "stdout",
          "text": [
            "train score : 0.81\n",
            "test score : 0.79\n"
          ]
        }
      ],
      "source": [
        "print('train score : {:.2f}'.format(model_ridge500.score(X_train, y_train)))\n",
        "print('test score : {:.2f}'.format(model_ridge500.score(X_test, y_test)))"
      ]
    },
    {
      "cell_type": "markdown",
      "metadata": {
        "id": "GkQnkjFireyM"
      },
      "source": [
        "alpha값을 높이면 0에 가깝게 만들어 훈련 셋의 성능은 나빠지지만 일반화에 도움을 준다."
      ]
    },
    {
      "cell_type": "code",
      "execution_count": null,
      "metadata": {
        "colab": {
          "base_uri": "https://localhost:8080/"
        },
        "id": "FpiuW-ylreyM",
        "outputId": "745ad936-b7ae-4229-9f5b-c7ea438a2a96"
      },
      "outputs": [
        {
          "output_type": "stream",
          "name": "stdout",
          "text": [
            "weight : \n",
            "[ 7.37316358e-01  7.52200557e+01 -1.31588507e+00 -3.01194602e+00\n",
            "  7.42437186e-01  1.00001990e+00 -1.95320223e+00  9.28613270e+01\n",
            "  1.72812865e+00 -1.17823673e+00  1.03620848e-01  2.43244910e+00\n",
            "  1.46911866e+01  1.00560622e+02  2.19643627e+00 -5.89391008e-01\n",
            " -1.86396193e+00  1.57660481e+00  5.50233662e+01  3.70446370e+01\n",
            " -9.59756732e-02  2.44522417e+01  4.71891622e-02 -1.94264821e+00\n",
            "  7.60091825e+01  1.32227499e+00 -1.00762943e+00  7.40323471e-01\n",
            " -2.36748129e-02  4.73724510e+01]\n",
            "\n",
            "\n",
            "bias : \n",
            "9.626439650364562\n"
          ]
        }
      ],
      "source": [
        "model_ridge005 = Ridge(alpha = 0.005).fit(X_train, y_train)\n",
        "print('weight : \\n{}\\n\\n'.format(model_ridge005.coef_))\n",
        "print('bias : \\n{}'.format(model_ridge005.intercept_))"
      ]
    },
    {
      "cell_type": "code",
      "execution_count": null,
      "metadata": {
        "colab": {
          "base_uri": "https://localhost:8080/"
        },
        "id": "1raYf8dGreyO",
        "outputId": "49bbe647-783a-4285-af8b-c25bfa98860f"
      },
      "outputs": [
        {
          "output_type": "stream",
          "name": "stdout",
          "text": [
            "train score : 0.95\n",
            "test score : 0.94\n"
          ]
        }
      ],
      "source": [
        "print('train score : {:.2f}'.format(model_ridge005.score(X_train, y_train)))\n",
        "print('test score : {:.2f}'.format(model_ridge005.score(X_test, y_test)))"
      ]
    },
    {
      "cell_type": "markdown",
      "metadata": {
        "id": "VnsHZc7-reyQ"
      },
      "source": [
        "반대로 alpha값을 낮추게 되면 제한을 하지 않으므로 선형회귀와 비슷해진다."
      ]
    },
    {
      "cell_type": "code",
      "execution_count": null,
      "metadata": {
        "colab": {
          "base_uri": "https://localhost:8080/"
        },
        "id": "J0hsiPt5reyR",
        "outputId": "08c89e22-de54-447d-a3b7-5d510d28191d"
      },
      "outputs": [
        {
          "output_type": "stream",
          "name": "stdout",
          "text": [
            "weight : \n",
            "[ 7.37321139e-01  7.52205669e+01 -1.31586092e+00 -3.01188909e+00\n",
            "  7.42410598e-01  1.00008982e+00 -1.95326807e+00  9.28619921e+01\n",
            "  1.72804847e+00 -1.17829304e+00  1.03662814e-01  2.43255503e+00\n",
            "  1.46913047e+01  1.00561296e+02  2.19631604e+00 -5.89334546e-01\n",
            " -1.86397418e+00  1.57668122e+00  5.50237263e+01  3.70448804e+01\n",
            " -9.60309691e-02  2.44524699e+01  4.73349523e-02 -1.94262797e+00\n",
            "  7.60096356e+01  1.32229487e+00 -1.00767454e+00  7.40324135e-01\n",
            " -2.37570185e-02  4.73727451e+01]\n",
            "\n",
            "\n",
            "bias : \n",
            "9.626433759467659\n"
          ]
        }
      ],
      "source": [
        "# 선형회귀와 비교\n",
        "from sklearn.linear_model import LinearRegression\n",
        "hypothesis_multi = LinearRegression()\n",
        "model_linear_multi = hypothesis_multi.fit(X_train, y_train)\n",
        "print('weight : \\n{}\\n\\n'.format(model_linear_multi.coef_))\n",
        "print('bias : \\n{}'.format(model_linear_multi.intercept_))"
      ]
    },
    {
      "cell_type": "code",
      "execution_count": null,
      "metadata": {
        "colab": {
          "base_uri": "https://localhost:8080/"
        },
        "id": "J4jKSwlvreyW",
        "outputId": "23147534-c0d5-4d0e-cc74-2daeaada58b8",
        "scrolled": false
      },
      "outputs": [
        {
          "output_type": "stream",
          "name": "stdout",
          "text": [
            "학습 데이터 점수 : 0.95\n",
            "검증 데이터 점수 : 0.94\n"
          ]
        }
      ],
      "source": [
        "print('학습 데이터 점수 : {:.2f}'.format(model_linear_multi.score(X_train, y_train)))\n",
        "print('검증 데이터 점수 : {:.2f}'.format(model_linear_multi.score(X_test, y_test)))"
      ]
    },
    {
      "cell_type": "markdown",
      "metadata": {
        "id": "UqPmW7QzreyX"
      },
      "source": [
        "# 3. Lasso Regression"
      ]
    },
    {
      "cell_type": "code",
      "execution_count": null,
      "metadata": {
        "id": "gm3FtC44reyY"
      },
      "outputs": [],
      "source": [
        "from sklearn.model_selection import train_test_split\n",
        "from sklearn.datasets import make_regression\n",
        "from sklearn.linear_model import Lasso\n",
        "import numpy as np\n",
        "# Lasso모델은 linear_model에서 Lasso로 불러올 수 있습니다."
      ]
    },
    {
      "cell_type": "code",
      "execution_count": null,
      "metadata": {
        "id": "nCWoN1QGreyZ"
      },
      "outputs": [],
      "source": [
        "model_lasso = Lasso(alpha=10).fit(X_train, y_train)"
      ]
    },
    {
      "cell_type": "code",
      "execution_count": null,
      "metadata": {
        "colab": {
          "base_uri": "https://localhost:8080/"
        },
        "id": "Ip8zY5JCreyb",
        "outputId": "5e37a555-2272-469b-8af8-777a5be118cc"
      },
      "outputs": [
        {
          "output_type": "stream",
          "name": "stdout",
          "text": [
            "weight : \n",
            "[ 0.         66.21177491 -0.         -0.          0.         -0.\n",
            " -0.         82.10901142  0.         -0.         -0.          0.\n",
            "  4.37752537 92.84629148  0.         -0.         -0.          0.\n",
            " 46.18703777 27.65235382  0.         14.36127201 -0.         -0.\n",
            " 68.24987815  0.         -0.          0.          0.         38.44190958]\n",
            "\n",
            "\n",
            "bias : \n",
            "10.178865730731617\n"
          ]
        }
      ],
      "source": [
        "print('weight : \\n{}\\n\\n'.format(model_lasso.coef_))\n",
        "print('bias : \\n{}'.format(model_lasso.intercept_))"
      ]
    },
    {
      "cell_type": "markdown",
      "metadata": {
        "id": "zoCE8_BTreyd"
      },
      "source": [
        "Lasso의 weight를 살펴보면 Ridge와는 다르게 0으로 가까워지다 못해 0이 되어버린 값들을 살펴볼 수 있다.\n",
        "lasso에서 alpha의 기본값은 1.0으로 설정되어있다."
      ]
    },
    {
      "cell_type": "code",
      "execution_count": null,
      "metadata": {
        "colab": {
          "base_uri": "https://localhost:8080/"
        },
        "id": "cAVVXA6Ireyd",
        "outputId": "6dde9a50-9ac0-42f5-94e4-4dc5b22ac230"
      },
      "outputs": [
        {
          "output_type": "stream",
          "name": "stdout",
          "text": [
            "사용된 특성 수 : 9개\n"
          ]
        }
      ],
      "source": [
        "print('사용된 특성 수 : {}개'.format(np.sum(model_lasso.coef_ != 0)))\n",
        "# 100개의 특성중 몇개의 특성을 사용했는지 확인해볼 수 있다."
      ]
    },
    {
      "cell_type": "code",
      "execution_count": null,
      "metadata": {
        "colab": {
          "base_uri": "https://localhost:8080/"
        },
        "id": "KDfPqnh8reyf",
        "outputId": "20e18a73-9d23-4727-d922-5a401fd453b4"
      },
      "outputs": [
        {
          "output_type": "stream",
          "name": "stdout",
          "text": [
            "train score : 0.93\n",
            "test score : 0.93\n"
          ]
        }
      ],
      "source": [
        "print('train score : {:.2f}'.format(model_lasso.score(X_train, y_train)))\n",
        "print('test score : {:.2f}'.format(model_lasso.score(X_test, y_test)))"
      ]
    },
    {
      "cell_type": "code",
      "execution_count": null,
      "metadata": {
        "colab": {
          "base_uri": "https://localhost:8080/"
        },
        "id": "LiMF6De1reyh",
        "outputId": "71bd21aa-b1d1-4ed3-89d8-31336a0d3e20",
        "scrolled": true
      },
      "outputs": [
        {
          "output_type": "stream",
          "name": "stdout",
          "text": [
            "weight : \n",
            "[ 6.81657214e-01  7.51644875e+01 -1.27126806e+00 -2.97480861e+00\n",
            "  6.91759208e-01  9.38954413e-01 -1.89349043e+00  9.27894319e+01\n",
            "  1.68367604e+00 -1.12266119e+00  2.99405606e-02  2.36279867e+00\n",
            "  1.46371631e+01  1.00515652e+02  2.15424526e+00 -5.59145769e-01\n",
            " -1.81634273e+00  1.51617210e+00  5.49775033e+01  3.70035523e+01\n",
            " -5.28732374e-02  2.44038053e+01  0.00000000e+00 -1.88814523e+00\n",
            "  7.59788740e+01  1.26230970e+00 -9.60714105e-01  6.86629232e-01\n",
            " -0.00000000e+00  4.73324206e+01]\n",
            "\n",
            "\n",
            "bias : \n",
            "9.637113419790317\n"
          ]
        }
      ],
      "source": [
        "model_lasso005 = Lasso(alpha = 0.05, max_iter = 100000).fit(X_train, y_train)\n",
        "print('weight : \\n{}\\n\\n'.format(model_lasso005.coef_))\n",
        "print('bias : \\n{}'.format(model_lasso005.intercept_))"
      ]
    },
    {
      "cell_type": "markdown",
      "metadata": {
        "id": "G7PVPiAbreyi"
      },
      "source": [
        "- alpha를 줄이게 되면 가장 낮은 오차를 찾아가는 반복횟수가 늘어야 한다. 그러므로 max_iter라는 파라미터를 증가시켜주면 된다."
      ]
    },
    {
      "cell_type": "code",
      "execution_count": null,
      "metadata": {
        "colab": {
          "base_uri": "https://localhost:8080/"
        },
        "id": "sFMIMQHureyj",
        "outputId": "227005d2-4edf-4a2c-f52f-e755d68e5208"
      },
      "outputs": [
        {
          "output_type": "stream",
          "name": "stdout",
          "text": [
            "train score : 0.95\n",
            "test score : 0.94\n"
          ]
        }
      ],
      "source": [
        "print('train score : {:.2f}'.format(model_lasso005.score(X_train, y_train)))\n",
        "print('test score : {:.2f}'.format(model_lasso005.score(X_test, y_test)))"
      ]
    },
    {
      "cell_type": "code",
      "execution_count": null,
      "metadata": {
        "colab": {
          "base_uri": "https://localhost:8080/"
        },
        "id": "JQwIqdgbreyo",
        "outputId": "7985a537-8ca7-4aab-ba9b-57016ecdbd4e"
      },
      "outputs": [
        {
          "output_type": "stream",
          "name": "stdout",
          "text": [
            "사용된 특성 수 : 28개\n"
          ]
        }
      ],
      "source": [
        "print('사용된 특성 수 : {}개'.format(np.sum(model_lasso005.coef_ != 0)))"
      ]
    },
    {
      "cell_type": "code",
      "execution_count": null,
      "metadata": {
        "colab": {
          "base_uri": "https://localhost:8080/"
        },
        "id": "enR0LT2hreyq",
        "outputId": "ae0238cf-e149-47a8-a81d-3826e77cd113"
      },
      "outputs": [
        {
          "output_type": "stream",
          "name": "stdout",
          "text": [
            "weight : \n",
            "[ 0.         29.76419702 -0.         -0.          0.         -0.\n",
            "  0.         45.55730804  0.          0.         -0.         -0.\n",
            "  0.         59.71400633  0.         -0.         -0.         -0.\n",
            "  9.56547743  0.          0.          0.         -0.         -0.\n",
            " 35.19815059  0.          0.          0.          0.          1.32829839]\n",
            "\n",
            "\n",
            "bias : \n",
            "11.595637288941756\n"
          ]
        }
      ],
      "source": [
        "model_lasso50 = Lasso(alpha = 50, max_iter = 1000).fit(X_train, y_train)\n",
        "print('weight : \\n{}\\n\\n'.format(model_lasso50.coef_))\n",
        "print('bias : \\n{}'.format(model_lasso50.intercept_))"
      ]
    },
    {
      "cell_type": "code",
      "execution_count": null,
      "metadata": {
        "colab": {
          "base_uri": "https://localhost:8080/"
        },
        "id": "HEKvFOSpreyt",
        "outputId": "cbe4c193-d0af-4a27-effe-a823c47b7398"
      },
      "outputs": [
        {
          "output_type": "stream",
          "name": "stdout",
          "text": [
            "사용된 특성 수 : 6개\n"
          ]
        }
      ],
      "source": [
        "print('사용된 특성 수 : {}개'.format(np.sum(model_lasso50.coef_ != 0)))"
      ]
    },
    {
      "cell_type": "code",
      "execution_count": null,
      "metadata": {
        "colab": {
          "base_uri": "https://localhost:8080/"
        },
        "id": "OrAeoRE2reyw",
        "outputId": "066055ec-fe76-4dc9-ca01-f6f71d2d773c"
      },
      "outputs": [
        {
          "output_type": "stream",
          "name": "stdout",
          "text": [
            "train score : 0.60\n",
            "test score : 0.59\n"
          ]
        }
      ],
      "source": [
        "print('train score : {:.2f}'.format(model_lasso50.score(X_train, y_train)))\n",
        "print('test score : {:.2f}'.format(model_lasso50.score(X_test, y_test)))"
      ]
    },
    {
      "cell_type": "markdown",
      "metadata": {
        "id": "wdveLH-5reyz"
      },
      "source": [
        "- train, test 둘 다 점수가 좋지 않은것을 확인할 수 있다. underfiting되었다고 볼 수 있다."
      ]
    },
    {
      "cell_type": "markdown",
      "metadata": {
        "id": "5-O7xRwQreyz"
      },
      "source": [
        "# 4. Elastic Net"
      ]
    },
    {
      "cell_type": "markdown",
      "metadata": {
        "id": "lGZ-_JGUrey0"
      },
      "source": [
        "- Elastic Net은 Ridge와 Lasso를 절충한 모델이다."
      ]
    },
    {
      "cell_type": "code",
      "execution_count": null,
      "metadata": {
        "id": "3vJWrQE0rey1"
      },
      "outputs": [],
      "source": [
        "from sklearn.model_selection import train_test_split\n",
        "from sklearn.datasets import make_regression\n",
        "from sklearn.linear_model import ElasticNet"
      ]
    },
    {
      "cell_type": "code",
      "execution_count": null,
      "metadata": {
        "colab": {
          "base_uri": "https://localhost:8080/"
        },
        "id": "UYHXFNsFrey2",
        "outputId": "e86dc619-e3a0-4181-d385-0d80857c81b9"
      },
      "outputs": [
        {
          "output_type": "stream",
          "name": "stdout",
          "text": [
            "weight : \n",
            "[ 0.20914689 51.1522914  -1.35424746 -4.18207412  1.06394998 -1.15279287\n",
            "  0.         61.95727165  3.66764646  0.41954047 -1.12046691 -0.45587515\n",
            "  9.05731384 68.81762789  5.61859178 -1.93045516 -0.91343124 -0.59088949\n",
            " 37.66474619 24.98144082  1.32835815 14.6689809  -4.05320687 -2.12915101\n",
            " 53.31281318  0.28637942  0.27286748  0.31611297  2.28727523 32.91832584]\n",
            "\n",
            "\n",
            "bias : \n",
            "9.963117918051564\n"
          ]
        }
      ],
      "source": [
        "model_ela = ElasticNet().fit(X_train, y_train)\n",
        "print('weight : \\n{}\\n\\n'.format(model_ela.coef_))\n",
        "print('bias : \\n{}'.format(model_ela.intercept_))"
      ]
    },
    {
      "cell_type": "code",
      "execution_count": null,
      "metadata": {
        "colab": {
          "base_uri": "https://localhost:8080/"
        },
        "id": "OC0YNaeLrey4",
        "outputId": "8e87bd05-22e9-4add-f8f5-11153b05b0ec"
      },
      "outputs": [
        {
          "output_type": "stream",
          "name": "stdout",
          "text": [
            "사용된 특성 수 : 29개\n"
          ]
        }
      ],
      "source": [
        "print('사용된 특성 수 : {}개'.format(np.sum(model_ela.coef_ != 0)))"
      ]
    },
    {
      "cell_type": "code",
      "execution_count": null,
      "metadata": {
        "colab": {
          "base_uri": "https://localhost:8080/"
        },
        "id": "iwDPZBtBrey6",
        "outputId": "66026ada-ef41-4b06-dea3-d5d672e0210c"
      },
      "outputs": [
        {
          "output_type": "stream",
          "name": "stdout",
          "text": [
            "train score : 0.86\n",
            "test score : 0.84\n"
          ]
        }
      ],
      "source": [
        "print('train score : {:.2f}'.format(model_ela.score(X_train, y_train)))\n",
        "print('test score : {:.2f}'.format(model_ela.score(X_test, y_test)))"
      ]
    },
    {
      "cell_type": "code",
      "execution_count": null,
      "metadata": {
        "colab": {
          "base_uri": "https://localhost:8080/"
        },
        "id": "RsHO1brmrey7",
        "outputId": "73785e87-21f9-457d-ab82-c568e34a92a5",
        "scrolled": false
      },
      "outputs": [
        {
          "output_type": "stream",
          "name": "stdout",
          "text": [
            "weight : \n",
            "[ 0.67345983 69.31591415 -1.53500453 -3.58416697  1.00174159  0.22997312\n",
            " -1.23876199 85.20074099  2.5536845  -0.56232104 -0.35241752  1.3108839\n",
            " 13.33208851 92.76167455  3.46064292 -1.17151066 -1.70948288  0.75370744\n",
            " 50.84019127 34.20089435  0.4787302  21.87995154 -1.47845812 -2.14503015\n",
            " 70.68665885  1.09604677 -0.50551388  0.72154208  0.84455517 43.94475764]\n",
            "\n",
            "\n",
            "bias : 9.696158539695736\n",
            "\n",
            "\n",
            "사용된 특성 수 : 30개\n"
          ]
        }
      ],
      "source": [
        "model_ela = ElasticNet(alpha = 0.1, l1_ratio = 0.1).fit(X_train, y_train)\n",
        "print('weight : \\n{}\\n\\n'.format(model_ela.coef_))\n",
        "print('bias : {}\\n\\n'.format(model_ela.intercept_))\n",
        "print('사용된 특성 수 : {}개'.format(np.sum(model_ela.coef_ != 0)))"
      ]
    },
    {
      "cell_type": "markdown",
      "metadata": {
        "id": "0nH3MCq1rey-"
      },
      "source": [
        "- alpha = l1(lasso) + l2(ridge)\n",
        "- l1_ratio = 0 이면 ridge 1 이면 lasso, lasso의 비율을 정해준다."
      ]
    },
    {
      "cell_type": "code",
      "execution_count": null,
      "metadata": {
        "colab": {
          "base_uri": "https://localhost:8080/"
        },
        "id": "zh5QAswgrey_",
        "outputId": "73b7ad85-9844-451b-b7f5-c79bf7221d66"
      },
      "outputs": [
        {
          "output_type": "stream",
          "name": "stdout",
          "text": [
            "weight : \n",
            "[ 0.         14.03121056 -0.         -0.          0.         -0.\n",
            "  0.         17.38683134  0.          0.         -0.         -0.\n",
            "  0.         21.36962161  0.         -0.         -0.         -0.\n",
            "  8.5175872   3.09499197  0.          0.         -0.         -0.\n",
            " 15.32668851  0.          0.          0.          0.          7.04735666]\n",
            "\n",
            "\n",
            "bias : 10.37368823246999\n",
            "\n",
            "\n",
            "사용된 특성 수 : 7개\n"
          ]
        }
      ],
      "source": [
        "model_ela = ElasticNet(alpha = 30, l1_ratio = 0.9).fit(X_train, y_train)\n",
        "print('weight : \\n{}\\n\\n'.format(model_ela.coef_))\n",
        "print('bias : {}\\n\\n'.format(model_ela.intercept_))\n",
        "print('사용된 특성 수 : {}개'.format(np.sum(model_ela.coef_ != 0)))"
      ]
    },
    {
      "cell_type": "code",
      "execution_count": null,
      "metadata": {
        "colab": {
          "base_uri": "https://localhost:8080/"
        },
        "id": "nzCigYMErezB",
        "outputId": "7b6ad0e5-fc25-4345-d1c0-9824f32ddb68"
      },
      "outputs": [
        {
          "output_type": "stream",
          "name": "stdout",
          "text": [
            "weight : \n",
            "[ 0.          2.91672007 -0.         -0.38954621  0.04976943 -0.23815976\n",
            "  0.05218359  3.38207909  0.41968563  0.10568932 -0.17943098 -0.11882643\n",
            "  0.3598685   3.97046955  0.75083376 -0.2015284  -0.         -0.13603254\n",
            "  2.10890242  1.31525235  0.16912161  0.62903766 -0.58925495 -0.1887836\n",
            "  3.1198322   0.          0.09452108  0.          0.34118852  1.91219519]\n",
            "\n",
            "\n",
            "bias : 10.318152345866375\n",
            "\n",
            "\n",
            "사용된 특성 수 : 25개\n"
          ]
        }
      ],
      "source": [
        "model_ela = ElasticNet(alpha = 30, l1_ratio = 0.1).fit(X_train, y_train)\n",
        "print('weight : \\n{}\\n\\n'.format(model_ela.coef_))\n",
        "print('bias : {}\\n\\n'.format(model_ela.intercept_))\n",
        "print('사용된 특성 수 : {}개'.format(np.sum(model_ela.coef_ != 0)))"
      ]
    },
    {
      "cell_type": "code",
      "execution_count": null,
      "metadata": {
        "colab": {
          "base_uri": "https://localhost:8080/"
        },
        "id": "uWUEXeRTrezD",
        "outputId": "e27c25ed-6ca5-4e6d-de36-564d2ae0d368"
      },
      "outputs": [
        {
          "output_type": "stream",
          "name": "stdout",
          "text": [
            "weight : \n",
            "[ 0.         68.03126502 -0.6958523  -2.98651832  0.15394609  0.\n",
            " -0.23213268 83.48202794  1.83248634 -0.         -0.          0.28998968\n",
            " 12.43390655 91.57211924  2.965234   -0.49819323 -0.79460078  0.\n",
            " 49.72717462 33.26428305  0.         20.84683192 -0.92133894 -1.4922879\n",
            " 69.55902631  0.22956441 -0.          0.          0.24273578 42.95862635]\n",
            "\n",
            "\n",
            "bias : 9.849755348170731\n",
            "\n",
            "\n",
            "사용된 특성 수 : 22개\n"
          ]
        }
      ],
      "source": [
        "model_ela = ElasticNet(alpha = 1, l1_ratio = 0.9).fit(X_train, y_train)\n",
        "print('weight : \\n{}\\n\\n'.format(model_ela.coef_))\n",
        "print('bias : {}\\n\\n'.format(model_ela.intercept_))\n",
        "print('사용된 특성 수 : {}개'.format(np.sum(model_ela.coef_ != 0)))"
      ]
    },
    {
      "cell_type": "code",
      "execution_count": null,
      "metadata": {
        "colab": {
          "base_uri": "https://localhost:8080/"
        },
        "id": "7plUMN9arezF",
        "outputId": "70b76999-3bde-46b7-a2ab-7b55049008f4"
      },
      "outputs": [
        {
          "output_type": "stream",
          "name": "stdout",
          "text": [
            "weight : \n",
            "[ 0.02808778  8.26251668 -0.19030823 -1.21261512  0.31626339 -0.7776681\n",
            "  0.30381951  9.60652432  1.27678685  0.44061041 -0.6286968  -0.4898373\n",
            "  1.21821718 11.16901402  2.12285393 -0.70798846 -0.05657412 -0.52387961\n",
            "  6.04328949  3.86233944  0.61102768  1.96476215 -1.70856719 -0.67101594\n",
            "  8.81835892  0.          0.40635884  0.07742017  1.05533333  5.47118669]\n",
            "\n",
            "\n",
            "bias : 10.286867911617488\n",
            "\n",
            "\n",
            "사용된 특성 수 : 29개\n"
          ]
        }
      ],
      "source": [
        "model_ela = ElasticNet(alpha = 10, l1_ratio = 0.1).fit(X_train, y_train)\n",
        "print('weight : \\n{}\\n\\n'.format(model_ela.coef_))\n",
        "print('bias : {}\\n\\n'.format(model_ela.intercept_))\n",
        "print('사용된 특성 수 : {}개'.format(np.sum(model_ela.coef_ != 0)))"
      ]
    },
    {
      "cell_type": "code",
      "execution_count": null,
      "metadata": {
        "colab": {
          "base_uri": "https://localhost:8080/"
        },
        "id": "P3AmO4QIrezH",
        "outputId": "243c576d-6981-4f03-88eb-0f419561a0e7"
      },
      "outputs": [
        {
          "output_type": "stream",
          "name": "stdout",
          "text": [
            "weight : \n",
            "[ 0.         35.58287674 -0.         -0.3536885   0.         -0.\n",
            "  0.         42.79784663  0.          0.         -0.         -0.\n",
            "  2.3418598  49.6168947   2.6237325  -0.         -0.         -0.\n",
            " 24.95243586 14.79022109  0.          6.68966154 -0.74827619 -0.\n",
            " 37.49703993  0.          0.          0.          0.         21.66630994]\n",
            "\n",
            "\n",
            "bias : 10.206990150617337\n",
            "\n",
            "\n",
            "사용된 특성 수 : 12개\n"
          ]
        }
      ],
      "source": [
        "model_ela = ElasticNet(alpha = 10, l1_ratio = 0.9).fit(X_train, y_train)\n",
        "print('weight : \\n{}\\n\\n'.format(model_ela.coef_))\n",
        "print('bias : {}\\n\\n'.format(model_ela.intercept_))\n",
        "print('사용된 특성 수 : {}개'.format(np.sum(model_ela.coef_ != 0)))"
      ]
    },
    {
      "cell_type": "markdown",
      "metadata": {
        "id": "fGqLFvKhrezJ"
      },
      "source": [
        "#### 보스턴 주택데이터 예측하기"
      ]
    },
    {
      "cell_type": "code",
      "execution_count": null,
      "metadata": {
        "colab": {
          "base_uri": "https://localhost:8080/",
          "height": 1000
        },
        "id": "3B1jerCnTOgy",
        "outputId": "391f9e06-a0fe-4952-a7ba-5886016925b7"
      },
      "outputs": [
        {
          "output_type": "error",
          "ename": "ImportError",
          "evalue": "ignored",
          "traceback": [
            "\u001b[0;31m---------------------------------------------------------------------------\u001b[0m",
            "\u001b[0;31mImportError\u001b[0m                               Traceback (most recent call last)",
            "\u001b[0;32m<ipython-input-54-a2d172aab744>\u001b[0m in \u001b[0;36m<cell line: 2>\u001b[0;34m()\u001b[0m\n\u001b[1;32m      1\u001b[0m \u001b[0;32mfrom\u001b[0m \u001b[0msklearn\u001b[0m\u001b[0;34m.\u001b[0m\u001b[0mlinear_model\u001b[0m \u001b[0;32mimport\u001b[0m \u001b[0mLinearRegression\u001b[0m\u001b[0;34m\u001b[0m\u001b[0;34m\u001b[0m\u001b[0m\n\u001b[0;32m----> 2\u001b[0;31m \u001b[0;32mfrom\u001b[0m \u001b[0msklearn\u001b[0m\u001b[0;34m.\u001b[0m\u001b[0mdatasets\u001b[0m \u001b[0;32mimport\u001b[0m \u001b[0mload_boston\u001b[0m\u001b[0;34m\u001b[0m\u001b[0;34m\u001b[0m\u001b[0m\n\u001b[0m",
            "\u001b[0;32m/usr/local/lib/python3.10/dist-packages/sklearn/datasets/__init__.py\u001b[0m in \u001b[0;36m__getattr__\u001b[0;34m(name)\u001b[0m\n\u001b[1;32m    154\u001b[0m             \"\"\"\n\u001b[1;32m    155\u001b[0m         )\n\u001b[0;32m--> 156\u001b[0;31m         \u001b[0;32mraise\u001b[0m \u001b[0mImportError\u001b[0m\u001b[0;34m(\u001b[0m\u001b[0mmsg\u001b[0m\u001b[0;34m)\u001b[0m\u001b[0;34m\u001b[0m\u001b[0;34m\u001b[0m\u001b[0m\n\u001b[0m\u001b[1;32m    157\u001b[0m     \u001b[0;32mtry\u001b[0m\u001b[0;34m:\u001b[0m\u001b[0;34m\u001b[0m\u001b[0;34m\u001b[0m\u001b[0m\n\u001b[1;32m    158\u001b[0m         \u001b[0;32mreturn\u001b[0m \u001b[0mglobals\u001b[0m\u001b[0;34m(\u001b[0m\u001b[0;34m)\u001b[0m\u001b[0;34m[\u001b[0m\u001b[0mname\u001b[0m\u001b[0;34m]\u001b[0m\u001b[0;34m\u001b[0m\u001b[0;34m\u001b[0m\u001b[0m\n",
            "\u001b[0;31mImportError\u001b[0m: \n`load_boston` has been removed from scikit-learn since version 1.2.\n\nThe Boston housing prices dataset has an ethical problem: as\ninvestigated in [1], the authors of this dataset engineered a\nnon-invertible variable \"B\" assuming that racial self-segregation had a\npositive impact on house prices [2]. Furthermore the goal of the\nresearch that led to the creation of this dataset was to study the\nimpact of air quality but it did not give adequate demonstration of the\nvalidity of this assumption.\n\nThe scikit-learn maintainers therefore strongly discourage the use of\nthis dataset unless the purpose of the code is to study and educate\nabout ethical issues in data science and machine learning.\n\nIn this special case, you can fetch the dataset from the original\nsource::\n\n    import pandas as pd\n    import numpy as np\n\n    data_url = \"http://lib.stat.cmu.edu/datasets/boston\"\n    raw_df = pd.read_csv(data_url, sep=\"\\s+\", skiprows=22, header=None)\n    data = np.hstack([raw_df.values[::2, :], raw_df.values[1::2, :2]])\n    target = raw_df.values[1::2, 2]\n\nAlternative datasets include the California housing dataset and the\nAmes housing dataset. You can load the datasets as follows::\n\n    from sklearn.datasets import fetch_california_housing\n    housing = fetch_california_housing()\n\nfor the California housing dataset and::\n\n    from sklearn.datasets import fetch_openml\n    housing = fetch_openml(name=\"house_prices\", as_frame=True)\n\nfor the Ames housing dataset.\n\n[1] M Carlisle.\n\"Racist data destruction?\"\n<https://medium.com/@docintangible/racist-data-destruction-113e3eff54a8>\n\n[2] Harrison Jr, David, and Daniel L. Rubinfeld.\n\"Hedonic housing prices and the demand for clean air.\"\nJournal of environmental economics and management 5.1 (1978): 81-102.\n<https://www.researchgate.net/publication/4974606_Hedonic_housing_prices_and_the_demand_for_clean_air>\n",
            "",
            "\u001b[0;31m---------------------------------------------------------------------------\u001b[0;32m\nNOTE: If your import is failing due to a missing package, you can\nmanually install dependencies using either !pip or !apt.\n\nTo view examples of installing some common dependencies, click the\n\"Open Examples\" button below.\n\u001b[0;31m---------------------------------------------------------------------------\u001b[0m\n"
          ],
          "errorDetails": {
            "actions": [
              {
                "action": "open_url",
                "actionText": "Open Examples",
                "url": "/notebooks/snippets/importing_libraries.ipynb"
              }
            ]
          }
        }
      ],
      "source": [
        "from sklearn.linear_model import LinearRegression\n",
        "from sklearn.datasets import load_boston"
      ]
    },
    {
      "cell_type": "code",
      "source": [
        "import pandas as pd\n",
        "import numpy as np\n",
        "\n",
        "data_url = \"http://lib.stat.cmu.edu/datasets/boston\"\n",
        "raw_df = pd.read_csv(data_url, sep=\"\\s+\", skiprows=22, header=None)\n",
        "data = np.hstack([raw_df.values[::2, :], raw_df.values[1::2, :2]])\n",
        "target = raw_df.values[1::2, 2]\n"
      ],
      "metadata": {
        "id": "xGfLaXCSh2Wz"
      },
      "execution_count": null,
      "outputs": []
    },
    {
      "cell_type": "code",
      "execution_count": null,
      "metadata": {
        "id": "zxP8B6EBTviE"
      },
      "outputs": [],
      "source": [
        "boston_data = load_boston()"
      ]
    },
    {
      "cell_type": "code",
      "execution_count": null,
      "metadata": {
        "id": "f5DVBwUlTy7M"
      },
      "outputs": [],
      "source": [
        "X_data, y_data = boston_data['data'], boston_data['target']"
      ]
    },
    {
      "cell_type": "code",
      "execution_count": null,
      "metadata": {
        "id": "ejV3_cW6ZJ8d"
      },
      "outputs": [],
      "source": [
        "Ridge?"
      ]
    },
    {
      "cell_type": "code",
      "execution_count": null,
      "metadata": {
        "id": "LWqk2K_HTUAr"
      },
      "outputs": [],
      "source": [
        "model_linear = LinearRegression()\n",
        "model_ridge = Ridge(alpha=100)\n",
        "model_lasso = Lasso(alpha=100)\n",
        "model_elastic = ElasticNet(alpha=100, l1_ratio=0)"
      ]
    },
    {
      "cell_type": "code",
      "execution_count": null,
      "metadata": {
        "id": "T6KQhv-iTiy4"
      },
      "outputs": [],
      "source": [
        "model_linear.fit(X_data, y_data)"
      ]
    },
    {
      "cell_type": "code",
      "execution_count": null,
      "metadata": {
        "id": "YHKyJJX0UJRk"
      },
      "outputs": [],
      "source": [
        "model_ridge.fit(X_data, y_data) #alpha = 규제항의 파라미터"
      ]
    },
    {
      "cell_type": "code",
      "execution_count": null,
      "metadata": {
        "id": "kTq2JceLUO8e"
      },
      "outputs": [],
      "source": [
        "model_lasso.fit(X_data, y_data)"
      ]
    },
    {
      "cell_type": "code",
      "execution_count": null,
      "metadata": {
        "id": "XvYQ6IlFUUIY"
      },
      "outputs": [],
      "source": [
        "model_elastic.fit(X_data, y_data)"
      ]
    },
    {
      "cell_type": "code",
      "execution_count": null,
      "metadata": {
        "id": "HoSW3HbvUWVG"
      },
      "outputs": [],
      "source": [
        "model_linear.coef_, model_linear.intercept_\n",
        "np.sum(np.square(model_linear.coef_))"
      ]
    },
    {
      "cell_type": "code",
      "execution_count": null,
      "metadata": {
        "id": "-G5UARONUivE"
      },
      "outputs": [],
      "source": [
        "model_ridge.coef_, model_ridge.intercept_\n",
        "np.sum(np.square(model_ridge.coef_))"
      ]
    },
    {
      "cell_type": "code",
      "execution_count": null,
      "metadata": {
        "id": "XoIHThdnUnGI"
      },
      "outputs": [],
      "source": [
        "model_lasso.coef_, model_lasso.intercept_"
      ]
    },
    {
      "cell_type": "code",
      "execution_count": null,
      "metadata": {
        "id": "qUT5HVdUU3xI"
      },
      "outputs": [],
      "source": [
        "model_elastic.coef_, model_elastic.intercept_"
      ]
    }
  ],
  "metadata": {
    "colab": {
      "provenance": []
    },
    "kernelspec": {
      "display_name": "Python 3",
      "language": "python",
      "name": "python3"
    },
    "language_info": {
      "codemirror_mode": {
        "name": "ipython",
        "version": 3
      },
      "file_extension": ".py",
      "mimetype": "text/x-python",
      "name": "python",
      "nbconvert_exporter": "python",
      "pygments_lexer": "ipython3",
      "version": "3.7.4"
    }
  },
  "nbformat": 4,
  "nbformat_minor": 0
}