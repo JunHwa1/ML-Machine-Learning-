{
  "cells": [
    {
      "cell_type": "code",
      "execution_count": null,
      "metadata": {
        "id": "J0iV0AWvvLpn"
      },
      "outputs": [],
      "source": [
        "# Colab 한글 깨짐 해결 위한 폰트 설치\n",
        "!sudo apt-get install -y fonts-nanum\n",
        "!sudo fc-cache -fv\n",
        "!rm ~/.cache/matplotlib -rf\n",
        "\n",
        "# 런타임 재시작 !"
      ]
    },
    {
      "cell_type": "code",
      "execution_count": null,
      "metadata": {
        "id": "D6Gg-hGpKprB"
      },
      "outputs": [],
      "source": [
        "# matplotlib 설정\n",
        "import matplotlib.pyplot as plt\n",
        "%matplotlib inline\n",
        "plt.rc('font', family='NanumBarunGothic')\n",
        "plt.rcParams['axes.unicode_minus'] = False\n",
        "\n",
        "import warnings\n",
        "warnings.filterwarnings('ignore')\n",
        "\n",
        "import numpy as np"
      ]
    },
    {
      "cell_type": "markdown",
      "metadata": {
        "id": "zpEIO0vjKprF"
      },
      "source": [
        "# Decision Tree"
      ]
    },
    {
      "cell_type": "markdown",
      "metadata": {
        "id": "ohYsnnhjKprG"
      },
      "source": [
        "### Decison Tree Classifier"
      ]
    },
    {
      "cell_type": "code",
      "execution_count": null,
      "metadata": {
        "id": "WV70UHLSKprH"
      },
      "outputs": [],
      "source": [
        "from sklearn.tree import DecisionTreeClassifier\n",
        "from sklearn.datasets import load_iris\n",
        "from sklearn.model_selection import train_test_split"
      ]
    },
    {
      "cell_type": "code",
      "execution_count": null,
      "metadata": {
        "colab": {
          "base_uri": "https://localhost:8080/"
        },
        "id": "pw1TYeQCLOlP",
        "outputId": "24e2df0b-b304-47cc-99b9-1ae8425b9bfb"
      },
      "outputs": [
        {
          "output_type": "execute_result",
          "data": {
            "text/plain": [
              "dtype('float64')"
            ]
          },
          "metadata": {},
          "execution_count": 3
        }
      ],
      "source": [
        "iris = load_iris()\n",
        "iris.data.dtype"
      ]
    },
    {
      "cell_type": "code",
      "execution_count": null,
      "metadata": {
        "id": "-U-Fo0kUKprJ"
      },
      "outputs": [],
      "source": [
        "X_train, X_test, y_train, y_test = train_test_split(iris.data[:, :2], iris.target,\n",
        "                                                   stratify = iris.target,\n",
        "                                                   shuffle = True)\n",
        "# 시각화를 위해서 특성을 2개만 사용점에 주의하자."
      ]
    },
    {
      "cell_type": "code",
      "execution_count": null,
      "metadata": {
        "colab": {
          "base_uri": "https://localhost:8080/"
        },
        "id": "_bt8_7HXLekl",
        "outputId": "1ad13642-0ad4-40f0-99f7-4bb355c904f2"
      },
      "outputs": [
        {
          "output_type": "execute_result",
          "data": {
            "text/plain": [
              "((112, 2), (38, 2))"
            ]
          },
          "metadata": {},
          "execution_count": 5
        }
      ],
      "source": [
        "X_train.shape, X_test.shape"
      ]
    },
    {
      "cell_type": "code",
      "execution_count": null,
      "metadata": {
        "colab": {
          "base_uri": "https://localhost:8080/"
        },
        "id": "W3WI9thkNq0D",
        "outputId": "d519b30c-4cfd-4036-b3df-2a0f2c3095c9"
      },
      "outputs": [
        {
          "output_type": "execute_result",
          "data": {
            "text/plain": [
              "['sepal length (cm)',\n",
              " 'sepal width (cm)',\n",
              " 'petal length (cm)',\n",
              " 'petal width (cm)']"
            ]
          },
          "metadata": {},
          "execution_count": 6
        }
      ],
      "source": [
        "iris.feature_names"
      ]
    },
    {
      "cell_type": "code",
      "execution_count": null,
      "metadata": {
        "colab": {
          "base_uri": "https://localhost:8080/",
          "height": 206
        },
        "id": "kN6F5VY3NU1C",
        "outputId": "20f946b4-bee5-41da-ec6a-b2a974f00181"
      },
      "outputs": [
        {
          "output_type": "execute_result",
          "data": {
            "text/plain": [
              "   sepal length (cm)  sepal width (cm)\n",
              "0                6.4               3.2\n",
              "1                6.7               3.0\n",
              "2                5.8               2.7\n",
              "3                6.1               2.6\n",
              "4                5.0               3.0"
            ],
            "text/html": [
              "\n",
              "\n",
              "  <div id=\"df-b10a382a-dcf2-45c3-89a1-42cd3db78ac2\">\n",
              "    <div class=\"colab-df-container\">\n",
              "      <div>\n",
              "<style scoped>\n",
              "    .dataframe tbody tr th:only-of-type {\n",
              "        vertical-align: middle;\n",
              "    }\n",
              "\n",
              "    .dataframe tbody tr th {\n",
              "        vertical-align: top;\n",
              "    }\n",
              "\n",
              "    .dataframe thead th {\n",
              "        text-align: right;\n",
              "    }\n",
              "</style>\n",
              "<table border=\"1\" class=\"dataframe\">\n",
              "  <thead>\n",
              "    <tr style=\"text-align: right;\">\n",
              "      <th></th>\n",
              "      <th>sepal length (cm)</th>\n",
              "      <th>sepal width (cm)</th>\n",
              "    </tr>\n",
              "  </thead>\n",
              "  <tbody>\n",
              "    <tr>\n",
              "      <th>0</th>\n",
              "      <td>6.4</td>\n",
              "      <td>3.2</td>\n",
              "    </tr>\n",
              "    <tr>\n",
              "      <th>1</th>\n",
              "      <td>6.7</td>\n",
              "      <td>3.0</td>\n",
              "    </tr>\n",
              "    <tr>\n",
              "      <th>2</th>\n",
              "      <td>5.8</td>\n",
              "      <td>2.7</td>\n",
              "    </tr>\n",
              "    <tr>\n",
              "      <th>3</th>\n",
              "      <td>6.1</td>\n",
              "      <td>2.6</td>\n",
              "    </tr>\n",
              "    <tr>\n",
              "      <th>4</th>\n",
              "      <td>5.0</td>\n",
              "      <td>3.0</td>\n",
              "    </tr>\n",
              "  </tbody>\n",
              "</table>\n",
              "</div>\n",
              "      <button class=\"colab-df-convert\" onclick=\"convertToInteractive('df-b10a382a-dcf2-45c3-89a1-42cd3db78ac2')\"\n",
              "              title=\"Convert this dataframe to an interactive table.\"\n",
              "              style=\"display:none;\">\n",
              "\n",
              "  <svg xmlns=\"http://www.w3.org/2000/svg\" height=\"24px\"viewBox=\"0 0 24 24\"\n",
              "       width=\"24px\">\n",
              "    <path d=\"M0 0h24v24H0V0z\" fill=\"none\"/>\n",
              "    <path d=\"M18.56 5.44l.94 2.06.94-2.06 2.06-.94-2.06-.94-.94-2.06-.94 2.06-2.06.94zm-11 1L8.5 8.5l.94-2.06 2.06-.94-2.06-.94L8.5 2.5l-.94 2.06-2.06.94zm10 10l.94 2.06.94-2.06 2.06-.94-2.06-.94-.94-2.06-.94 2.06-2.06.94z\"/><path d=\"M17.41 7.96l-1.37-1.37c-.4-.4-.92-.59-1.43-.59-.52 0-1.04.2-1.43.59L10.3 9.45l-7.72 7.72c-.78.78-.78 2.05 0 2.83L4 21.41c.39.39.9.59 1.41.59.51 0 1.02-.2 1.41-.59l7.78-7.78 2.81-2.81c.8-.78.8-2.07 0-2.86zM5.41 20L4 18.59l7.72-7.72 1.47 1.35L5.41 20z\"/>\n",
              "  </svg>\n",
              "      </button>\n",
              "\n",
              "\n",
              "\n",
              "    <div id=\"df-9d1e4ee8-a2c1-45e0-9fb1-cd2afa468ba9\">\n",
              "      <button class=\"colab-df-quickchart\" onclick=\"quickchart('df-9d1e4ee8-a2c1-45e0-9fb1-cd2afa468ba9')\"\n",
              "              title=\"Suggest charts.\"\n",
              "              style=\"display:none;\">\n",
              "\n",
              "<svg xmlns=\"http://www.w3.org/2000/svg\" height=\"24px\"viewBox=\"0 0 24 24\"\n",
              "     width=\"24px\">\n",
              "    <g>\n",
              "        <path d=\"M19 3H5c-1.1 0-2 .9-2 2v14c0 1.1.9 2 2 2h14c1.1 0 2-.9 2-2V5c0-1.1-.9-2-2-2zM9 17H7v-7h2v7zm4 0h-2V7h2v10zm4 0h-2v-4h2v4z\"/>\n",
              "    </g>\n",
              "</svg>\n",
              "      </button>\n",
              "    </div>\n",
              "\n",
              "<style>\n",
              "  .colab-df-quickchart {\n",
              "    background-color: #E8F0FE;\n",
              "    border: none;\n",
              "    border-radius: 50%;\n",
              "    cursor: pointer;\n",
              "    display: none;\n",
              "    fill: #1967D2;\n",
              "    height: 32px;\n",
              "    padding: 0 0 0 0;\n",
              "    width: 32px;\n",
              "  }\n",
              "\n",
              "  .colab-df-quickchart:hover {\n",
              "    background-color: #E2EBFA;\n",
              "    box-shadow: 0px 1px 2px rgba(60, 64, 67, 0.3), 0px 1px 3px 1px rgba(60, 64, 67, 0.15);\n",
              "    fill: #174EA6;\n",
              "  }\n",
              "\n",
              "  [theme=dark] .colab-df-quickchart {\n",
              "    background-color: #3B4455;\n",
              "    fill: #D2E3FC;\n",
              "  }\n",
              "\n",
              "  [theme=dark] .colab-df-quickchart:hover {\n",
              "    background-color: #434B5C;\n",
              "    box-shadow: 0px 1px 3px 1px rgba(0, 0, 0, 0.15);\n",
              "    filter: drop-shadow(0px 1px 2px rgba(0, 0, 0, 0.3));\n",
              "    fill: #FFFFFF;\n",
              "  }\n",
              "</style>\n",
              "\n",
              "    <script>\n",
              "      async function quickchart(key) {\n",
              "        const containerElement = document.querySelector('#' + key);\n",
              "        const charts = await google.colab.kernel.invokeFunction(\n",
              "            'suggestCharts', [key], {});\n",
              "      }\n",
              "    </script>\n",
              "\n",
              "      <script>\n",
              "\n",
              "function displayQuickchartButton(domScope) {\n",
              "  let quickchartButtonEl =\n",
              "    domScope.querySelector('#df-9d1e4ee8-a2c1-45e0-9fb1-cd2afa468ba9 button.colab-df-quickchart');\n",
              "  quickchartButtonEl.style.display =\n",
              "    google.colab.kernel.accessAllowed ? 'block' : 'none';\n",
              "}\n",
              "\n",
              "        displayQuickchartButton(document);\n",
              "      </script>\n",
              "      <style>\n",
              "    .colab-df-container {\n",
              "      display:flex;\n",
              "      flex-wrap:wrap;\n",
              "      gap: 12px;\n",
              "    }\n",
              "\n",
              "    .colab-df-convert {\n",
              "      background-color: #E8F0FE;\n",
              "      border: none;\n",
              "      border-radius: 50%;\n",
              "      cursor: pointer;\n",
              "      display: none;\n",
              "      fill: #1967D2;\n",
              "      height: 32px;\n",
              "      padding: 0 0 0 0;\n",
              "      width: 32px;\n",
              "    }\n",
              "\n",
              "    .colab-df-convert:hover {\n",
              "      background-color: #E2EBFA;\n",
              "      box-shadow: 0px 1px 2px rgba(60, 64, 67, 0.3), 0px 1px 3px 1px rgba(60, 64, 67, 0.15);\n",
              "      fill: #174EA6;\n",
              "    }\n",
              "\n",
              "    [theme=dark] .colab-df-convert {\n",
              "      background-color: #3B4455;\n",
              "      fill: #D2E3FC;\n",
              "    }\n",
              "\n",
              "    [theme=dark] .colab-df-convert:hover {\n",
              "      background-color: #434B5C;\n",
              "      box-shadow: 0px 1px 3px 1px rgba(0, 0, 0, 0.15);\n",
              "      filter: drop-shadow(0px 1px 2px rgba(0, 0, 0, 0.3));\n",
              "      fill: #FFFFFF;\n",
              "    }\n",
              "  </style>\n",
              "\n",
              "      <script>\n",
              "        const buttonEl =\n",
              "          document.querySelector('#df-b10a382a-dcf2-45c3-89a1-42cd3db78ac2 button.colab-df-convert');\n",
              "        buttonEl.style.display =\n",
              "          google.colab.kernel.accessAllowed ? 'block' : 'none';\n",
              "\n",
              "        async function convertToInteractive(key) {\n",
              "          const element = document.querySelector('#df-b10a382a-dcf2-45c3-89a1-42cd3db78ac2');\n",
              "          const dataTable =\n",
              "            await google.colab.kernel.invokeFunction('convertToInteractive',\n",
              "                                                     [key], {});\n",
              "          if (!dataTable) return;\n",
              "\n",
              "          const docLinkHtml = 'Like what you see? Visit the ' +\n",
              "            '<a target=\"_blank\" href=https://colab.research.google.com/notebooks/data_table.ipynb>data table notebook</a>'\n",
              "            + ' to learn more about interactive tables.';\n",
              "          element.innerHTML = '';\n",
              "          dataTable['output_type'] = 'display_data';\n",
              "          await google.colab.output.renderOutput(dataTable, element);\n",
              "          const docLink = document.createElement('div');\n",
              "          docLink.innerHTML = docLinkHtml;\n",
              "          element.appendChild(docLink);\n",
              "        }\n",
              "      </script>\n",
              "    </div>\n",
              "  </div>\n"
            ]
          },
          "metadata": {},
          "execution_count": 7
        }
      ],
      "source": [
        "# feature가 어떤 것들이 있을까? (몇 개?)\n",
        "import pandas as pd\n",
        "\n",
        "X_train_df = pd.DataFrame(X_train, columns = iris.feature_names[:2])\n",
        "X_train_df.head()"
      ]
    },
    {
      "cell_type": "markdown",
      "metadata": {
        "id": "3RGNLCk_NUjr"
      },
      "source": [
        "모델 설정"
      ]
    },
    {
      "cell_type": "code",
      "execution_count": null,
      "metadata": {
        "id": "n3eieNmBqtdU"
      },
      "outputs": [],
      "source": [
        "DecisionTreeClassifier?"
      ]
    },
    {
      "cell_type": "code",
      "execution_count": null,
      "metadata": {
        "id": "iMDkLT0TKprL"
      },
      "outputs": [],
      "source": [
        "model_dt = DecisionTreeClassifier(criterion = 'entropy', max_depth = 1,\n",
        "                                  random_state = 0).fit(X_train, y_train)"
      ]
    },
    {
      "cell_type": "markdown",
      "metadata": {
        "id": "H5OyAgCrKprN"
      },
      "source": [
        "- criterion는 불순도를 측정하는 방법을 선택할 수 있다. 기본값으로는 'gini'를 사용하지만 'entropy'를 입력하여 'entropy'를 사용할 수 도 있다. 둘중에 어느것을 선택해서 써도 결과적으로는 큰 차이가 없다. 다만 지니가 계산이 빨라 기본으로 사용된다.\n",
        "- presort를 True로 설정하면 데이터를 미리 정렬하여 속도를 높일 수 있다. 그러나 데이터가 작을 경우에나 가능하지 데이터가 크다면 오히려 속도가 더 느려지게 된다."
      ]
    },
    {
      "cell_type": "markdown",
      "metadata": {
        "id": "w8YOqfmNKprO"
      },
      "source": [
        "#### 복잡도를 제어하는 파라미터"
      ]
    },
    {
      "cell_type": "markdown",
      "metadata": {
        "id": "laLPt5yPKprO"
      },
      "source": [
        "- Decision Tree에서는 일반적으로 훈련을 할 떄 제약사항이 없다. 그래서 훈련을 시키면 훈련 데이터에 아주 가깝게 맞추려고 한다. 그러면 자연스럽게 모델은 과적합이 된다.\n",
        "그래서 트리가 깊어지는 것을 막기 위한 가지치기 작업들이 필요한데 사이킷런에는 과적합을 방지하기위한 파라미터들이 존재한다.\n",
        "\n",
        "  1. max_depth는 트리의 최대 깊이를 제어할 수 있는 명령어다.\n",
        "  2. min_sample_split은 분할되기 위해 노드가 가져야할 최소 샘플 수를 지정한다. 기본값은 2\n",
        "  3. min_samples_leaf는 리프노드가 가지고 있어야할 최소 샘플 수를 지정한다. 기본값은 1\n",
        "  4. max_feature는 각 노드에서 분할시 사용할 특성의 최대 수를 지정한다.\n",
        "  5. max_leaf_node는 리프노드의 최대 수를 지정한다."
      ]
    },
    {
      "cell_type": "code",
      "execution_count": null,
      "metadata": {
        "id": "UXg_n4zKKprP"
      },
      "outputs": [],
      "source": [
        "from sklearn.tree import export_graphviz\n",
        "export_graphviz(model_dt, out_file = 'tree.dot', class_names = iris.target_names,\n",
        "               feature_names = iris.feature_names[:2], filled = True)"
      ]
    },
    {
      "cell_type": "markdown",
      "metadata": {
        "id": "CrHmlj8xKprR"
      },
      "source": [
        "- tree모듈에 export_graphviz를 이용하여 결정트리를 시각화할 수 있다.\n",
        "'.dot' 형식의 파일로 그래프를 저장한다.\n",
        "class_names과 feature_names는 각각 클래스의 명과 특성들의 이름을 설정할 수 있다.\n",
        "filled를 True로 설정하면 노드의 클래스를 구분하기 위해 색이 칠해진다."
      ]
    },
    {
      "cell_type": "code",
      "execution_count": null,
      "metadata": {
        "id": "99_ZzCiXPsGQ",
        "colab": {
          "base_uri": "https://localhost:8080/",
          "height": 206
        },
        "outputId": "a8a1584d-95d5-46da-e945-b41c4f88c29b"
      },
      "outputs": [
        {
          "output_type": "execute_result",
          "data": {
            "text/plain": [
              "   sepal length (cm)  sepal width (cm)\n",
              "0                6.4               3.2\n",
              "1                6.7               3.0\n",
              "2                5.8               2.7\n",
              "3                6.1               2.6\n",
              "4                5.0               3.0"
            ],
            "text/html": [
              "\n",
              "\n",
              "  <div id=\"df-b8c9f39f-c970-4eff-bd8b-25cf5c115bda\">\n",
              "    <div class=\"colab-df-container\">\n",
              "      <div>\n",
              "<style scoped>\n",
              "    .dataframe tbody tr th:only-of-type {\n",
              "        vertical-align: middle;\n",
              "    }\n",
              "\n",
              "    .dataframe tbody tr th {\n",
              "        vertical-align: top;\n",
              "    }\n",
              "\n",
              "    .dataframe thead th {\n",
              "        text-align: right;\n",
              "    }\n",
              "</style>\n",
              "<table border=\"1\" class=\"dataframe\">\n",
              "  <thead>\n",
              "    <tr style=\"text-align: right;\">\n",
              "      <th></th>\n",
              "      <th>sepal length (cm)</th>\n",
              "      <th>sepal width (cm)</th>\n",
              "    </tr>\n",
              "  </thead>\n",
              "  <tbody>\n",
              "    <tr>\n",
              "      <th>0</th>\n",
              "      <td>6.4</td>\n",
              "      <td>3.2</td>\n",
              "    </tr>\n",
              "    <tr>\n",
              "      <th>1</th>\n",
              "      <td>6.7</td>\n",
              "      <td>3.0</td>\n",
              "    </tr>\n",
              "    <tr>\n",
              "      <th>2</th>\n",
              "      <td>5.8</td>\n",
              "      <td>2.7</td>\n",
              "    </tr>\n",
              "    <tr>\n",
              "      <th>3</th>\n",
              "      <td>6.1</td>\n",
              "      <td>2.6</td>\n",
              "    </tr>\n",
              "    <tr>\n",
              "      <th>4</th>\n",
              "      <td>5.0</td>\n",
              "      <td>3.0</td>\n",
              "    </tr>\n",
              "  </tbody>\n",
              "</table>\n",
              "</div>\n",
              "      <button class=\"colab-df-convert\" onclick=\"convertToInteractive('df-b8c9f39f-c970-4eff-bd8b-25cf5c115bda')\"\n",
              "              title=\"Convert this dataframe to an interactive table.\"\n",
              "              style=\"display:none;\">\n",
              "\n",
              "  <svg xmlns=\"http://www.w3.org/2000/svg\" height=\"24px\"viewBox=\"0 0 24 24\"\n",
              "       width=\"24px\">\n",
              "    <path d=\"M0 0h24v24H0V0z\" fill=\"none\"/>\n",
              "    <path d=\"M18.56 5.44l.94 2.06.94-2.06 2.06-.94-2.06-.94-.94-2.06-.94 2.06-2.06.94zm-11 1L8.5 8.5l.94-2.06 2.06-.94-2.06-.94L8.5 2.5l-.94 2.06-2.06.94zm10 10l.94 2.06.94-2.06 2.06-.94-2.06-.94-.94-2.06-.94 2.06-2.06.94z\"/><path d=\"M17.41 7.96l-1.37-1.37c-.4-.4-.92-.59-1.43-.59-.52 0-1.04.2-1.43.59L10.3 9.45l-7.72 7.72c-.78.78-.78 2.05 0 2.83L4 21.41c.39.39.9.59 1.41.59.51 0 1.02-.2 1.41-.59l7.78-7.78 2.81-2.81c.8-.78.8-2.07 0-2.86zM5.41 20L4 18.59l7.72-7.72 1.47 1.35L5.41 20z\"/>\n",
              "  </svg>\n",
              "      </button>\n",
              "\n",
              "\n",
              "\n",
              "    <div id=\"df-b3e37fd2-e319-47f4-98d7-c0c9dfbef1f7\">\n",
              "      <button class=\"colab-df-quickchart\" onclick=\"quickchart('df-b3e37fd2-e319-47f4-98d7-c0c9dfbef1f7')\"\n",
              "              title=\"Suggest charts.\"\n",
              "              style=\"display:none;\">\n",
              "\n",
              "<svg xmlns=\"http://www.w3.org/2000/svg\" height=\"24px\"viewBox=\"0 0 24 24\"\n",
              "     width=\"24px\">\n",
              "    <g>\n",
              "        <path d=\"M19 3H5c-1.1 0-2 .9-2 2v14c0 1.1.9 2 2 2h14c1.1 0 2-.9 2-2V5c0-1.1-.9-2-2-2zM9 17H7v-7h2v7zm4 0h-2V7h2v10zm4 0h-2v-4h2v4z\"/>\n",
              "    </g>\n",
              "</svg>\n",
              "      </button>\n",
              "    </div>\n",
              "\n",
              "<style>\n",
              "  .colab-df-quickchart {\n",
              "    background-color: #E8F0FE;\n",
              "    border: none;\n",
              "    border-radius: 50%;\n",
              "    cursor: pointer;\n",
              "    display: none;\n",
              "    fill: #1967D2;\n",
              "    height: 32px;\n",
              "    padding: 0 0 0 0;\n",
              "    width: 32px;\n",
              "  }\n",
              "\n",
              "  .colab-df-quickchart:hover {\n",
              "    background-color: #E2EBFA;\n",
              "    box-shadow: 0px 1px 2px rgba(60, 64, 67, 0.3), 0px 1px 3px 1px rgba(60, 64, 67, 0.15);\n",
              "    fill: #174EA6;\n",
              "  }\n",
              "\n",
              "  [theme=dark] .colab-df-quickchart {\n",
              "    background-color: #3B4455;\n",
              "    fill: #D2E3FC;\n",
              "  }\n",
              "\n",
              "  [theme=dark] .colab-df-quickchart:hover {\n",
              "    background-color: #434B5C;\n",
              "    box-shadow: 0px 1px 3px 1px rgba(0, 0, 0, 0.15);\n",
              "    filter: drop-shadow(0px 1px 2px rgba(0, 0, 0, 0.3));\n",
              "    fill: #FFFFFF;\n",
              "  }\n",
              "</style>\n",
              "\n",
              "    <script>\n",
              "      async function quickchart(key) {\n",
              "        const containerElement = document.querySelector('#' + key);\n",
              "        const charts = await google.colab.kernel.invokeFunction(\n",
              "            'suggestCharts', [key], {});\n",
              "      }\n",
              "    </script>\n",
              "\n",
              "      <script>\n",
              "\n",
              "function displayQuickchartButton(domScope) {\n",
              "  let quickchartButtonEl =\n",
              "    domScope.querySelector('#df-b3e37fd2-e319-47f4-98d7-c0c9dfbef1f7 button.colab-df-quickchart');\n",
              "  quickchartButtonEl.style.display =\n",
              "    google.colab.kernel.accessAllowed ? 'block' : 'none';\n",
              "}\n",
              "\n",
              "        displayQuickchartButton(document);\n",
              "      </script>\n",
              "      <style>\n",
              "    .colab-df-container {\n",
              "      display:flex;\n",
              "      flex-wrap:wrap;\n",
              "      gap: 12px;\n",
              "    }\n",
              "\n",
              "    .colab-df-convert {\n",
              "      background-color: #E8F0FE;\n",
              "      border: none;\n",
              "      border-radius: 50%;\n",
              "      cursor: pointer;\n",
              "      display: none;\n",
              "      fill: #1967D2;\n",
              "      height: 32px;\n",
              "      padding: 0 0 0 0;\n",
              "      width: 32px;\n",
              "    }\n",
              "\n",
              "    .colab-df-convert:hover {\n",
              "      background-color: #E2EBFA;\n",
              "      box-shadow: 0px 1px 2px rgba(60, 64, 67, 0.3), 0px 1px 3px 1px rgba(60, 64, 67, 0.15);\n",
              "      fill: #174EA6;\n",
              "    }\n",
              "\n",
              "    [theme=dark] .colab-df-convert {\n",
              "      background-color: #3B4455;\n",
              "      fill: #D2E3FC;\n",
              "    }\n",
              "\n",
              "    [theme=dark] .colab-df-convert:hover {\n",
              "      background-color: #434B5C;\n",
              "      box-shadow: 0px 1px 3px 1px rgba(0, 0, 0, 0.15);\n",
              "      filter: drop-shadow(0px 1px 2px rgba(0, 0, 0, 0.3));\n",
              "      fill: #FFFFFF;\n",
              "    }\n",
              "  </style>\n",
              "\n",
              "      <script>\n",
              "        const buttonEl =\n",
              "          document.querySelector('#df-b8c9f39f-c970-4eff-bd8b-25cf5c115bda button.colab-df-convert');\n",
              "        buttonEl.style.display =\n",
              "          google.colab.kernel.accessAllowed ? 'block' : 'none';\n",
              "\n",
              "        async function convertToInteractive(key) {\n",
              "          const element = document.querySelector('#df-b8c9f39f-c970-4eff-bd8b-25cf5c115bda');\n",
              "          const dataTable =\n",
              "            await google.colab.kernel.invokeFunction('convertToInteractive',\n",
              "                                                     [key], {});\n",
              "          if (!dataTable) return;\n",
              "\n",
              "          const docLinkHtml = 'Like what you see? Visit the ' +\n",
              "            '<a target=\"_blank\" href=https://colab.research.google.com/notebooks/data_table.ipynb>data table notebook</a>'\n",
              "            + ' to learn more about interactive tables.';\n",
              "          element.innerHTML = '';\n",
              "          dataTable['output_type'] = 'display_data';\n",
              "          await google.colab.output.renderOutput(dataTable, element);\n",
              "          const docLink = document.createElement('div');\n",
              "          docLink.innerHTML = docLinkHtml;\n",
              "          element.appendChild(docLink);\n",
              "        }\n",
              "      </script>\n",
              "    </div>\n",
              "  </div>\n"
            ]
          },
          "metadata": {},
          "execution_count": 10
        }
      ],
      "source": [
        "X_train_df.head()"
      ]
    },
    {
      "cell_type": "code",
      "execution_count": null,
      "metadata": {
        "id": "MIgeg_MnKprR",
        "scrolled": true,
        "colab": {
          "base_uri": "https://localhost:8080/",
          "height": 280
        },
        "outputId": "fd9b2eca-1a93-497f-d694-323870f81c06"
      },
      "outputs": [
        {
          "output_type": "display_data",
          "data": {
            "image/svg+xml": "<?xml version=\"1.0\" encoding=\"UTF-8\" standalone=\"no\"?>\n<!DOCTYPE svg PUBLIC \"-//W3C//DTD SVG 1.1//EN\"\n \"http://www.w3.org/Graphics/SVG/1.1/DTD/svg11.dtd\">\n<!-- Generated by graphviz version 2.43.0 (0)\n -->\n<!-- Title: Tree Pages: 1 -->\n<svg width=\"268pt\" height=\"195pt\"\n viewBox=\"0.00 0.00 268.00 195.00\" xmlns=\"http://www.w3.org/2000/svg\" xmlns:xlink=\"http://www.w3.org/1999/xlink\">\n<g id=\"graph0\" class=\"graph\" transform=\"scale(1 1) rotate(0) translate(4 191)\">\n<title>Tree</title>\n<polygon fill=\"white\" stroke=\"transparent\" points=\"-4,4 -4,-191 264,-191 264,4 -4,4\"/>\n<!-- 0 -->\n<g id=\"node1\" class=\"node\">\n<title>0</title>\n<polygon fill=\"#fcfffd\" stroke=\"black\" points=\"213,-187 42,-187 42,-104 213,-104 213,-187\"/>\n<text text-anchor=\"middle\" x=\"127.5\" y=\"-171.8\" font-family=\"Helvetica,sans-Serif\" font-size=\"14.00\">sepal length (cm) &lt;= 5.45</text>\n<text text-anchor=\"middle\" x=\"127.5\" y=\"-156.8\" font-family=\"Helvetica,sans-Serif\" font-size=\"14.00\">entropy = 1.585</text>\n<text text-anchor=\"middle\" x=\"127.5\" y=\"-141.8\" font-family=\"Helvetica,sans-Serif\" font-size=\"14.00\">samples = 112</text>\n<text text-anchor=\"middle\" x=\"127.5\" y=\"-126.8\" font-family=\"Helvetica,sans-Serif\" font-size=\"14.00\">value = [37, 38, 37]</text>\n<text text-anchor=\"middle\" x=\"127.5\" y=\"-111.8\" font-family=\"Helvetica,sans-Serif\" font-size=\"14.00\">class = versicolor</text>\n</g>\n<!-- 1 -->\n<g id=\"node2\" class=\"node\">\n<title>1</title>\n<polygon fill=\"#ea9a61\" stroke=\"black\" points=\"117,-68 0,-68 0,0 117,0 117,-68\"/>\n<text text-anchor=\"middle\" x=\"58.5\" y=\"-52.8\" font-family=\"Helvetica,sans-Serif\" font-size=\"14.00\">entropy = 0.76</text>\n<text text-anchor=\"middle\" x=\"58.5\" y=\"-37.8\" font-family=\"Helvetica,sans-Serif\" font-size=\"14.00\">samples = 41</text>\n<text text-anchor=\"middle\" x=\"58.5\" y=\"-22.8\" font-family=\"Helvetica,sans-Serif\" font-size=\"14.00\">value = [34, 6, 1]</text>\n<text text-anchor=\"middle\" x=\"58.5\" y=\"-7.8\" font-family=\"Helvetica,sans-Serif\" font-size=\"14.00\">class = setosa</text>\n</g>\n<!-- 0&#45;&gt;1 -->\n<g id=\"edge1\" class=\"edge\">\n<title>0&#45;&gt;1</title>\n<path fill=\"none\" stroke=\"black\" d=\"M101.81,-103.73C96.29,-94.97 90.45,-85.7 84.91,-76.91\"/>\n<polygon fill=\"black\" stroke=\"black\" points=\"87.78,-74.89 79.48,-68.3 81.85,-78.63 87.78,-74.89\"/>\n<text text-anchor=\"middle\" x=\"73.95\" y=\"-88.98\" font-family=\"Helvetica,sans-Serif\" font-size=\"14.00\">True</text>\n</g>\n<!-- 2 -->\n<g id=\"node3\" class=\"node\">\n<title>2</title>\n<polygon fill=\"#f2ebfc\" stroke=\"black\" points=\"260,-68 135,-68 135,0 260,0 260,-68\"/>\n<text text-anchor=\"middle\" x=\"197.5\" y=\"-52.8\" font-family=\"Helvetica,sans-Serif\" font-size=\"14.00\">entropy = 1.208</text>\n<text text-anchor=\"middle\" x=\"197.5\" y=\"-37.8\" font-family=\"Helvetica,sans-Serif\" font-size=\"14.00\">samples = 71</text>\n<text text-anchor=\"middle\" x=\"197.5\" y=\"-22.8\" font-family=\"Helvetica,sans-Serif\" font-size=\"14.00\">value = [3, 32, 36]</text>\n<text text-anchor=\"middle\" x=\"197.5\" y=\"-7.8\" font-family=\"Helvetica,sans-Serif\" font-size=\"14.00\">class = virginica</text>\n</g>\n<!-- 0&#45;&gt;2 -->\n<g id=\"edge2\" class=\"edge\">\n<title>0&#45;&gt;2</title>\n<path fill=\"none\" stroke=\"black\" d=\"M153.57,-103.73C159.16,-94.97 165.09,-85.7 170.71,-76.91\"/>\n<polygon fill=\"black\" stroke=\"black\" points=\"173.78,-78.61 176.21,-68.3 167.88,-74.84 173.78,-78.61\"/>\n<text text-anchor=\"middle\" x=\"181.59\" y=\"-89.02\" font-family=\"Helvetica,sans-Serif\" font-size=\"14.00\">False</text>\n</g>\n</g>\n</svg>\n",
            "text/plain": [
              "<graphviz.sources.Source at 0x784a49073580>"
            ]
          },
          "metadata": {}
        }
      ],
      "source": [
        "import graphviz\n",
        "\n",
        "with open('tree.dot') as f:\n",
        "    dot_graph = f.read()\n",
        "display(graphviz.Source(dot_graph))"
      ]
    },
    {
      "cell_type": "code",
      "execution_count": null,
      "metadata": {
        "id": "gtIXu7SJKprU",
        "colab": {
          "base_uri": "https://localhost:8080/"
        },
        "outputId": "26b5031d-8cbe-440b-ed46-4ff9b311c346"
      },
      "outputs": [
        {
          "output_type": "stream",
          "name": "stdout",
          "text": [
            "train score : 0.625\n",
            "test socre : 0.632\n"
          ]
        }
      ],
      "source": [
        "print('train score : {:.3f}'.format(model_dt.score(X_train, y_train)))\n",
        "print('test socre : {:.3f}'.format(model_dt.score(X_test, y_test)))"
      ]
    },
    {
      "cell_type": "markdown",
      "metadata": {
        "id": "xUo4JQFxKprW"
      },
      "source": [
        "- max_depth를 1로 설정하면 위의 그림처럼 트리가 한 번 분할하게 된다. 점수도 낮은 것을 확인할 수 있다."
      ]
    },
    {
      "cell_type": "code",
      "execution_count": null,
      "metadata": {
        "id": "weidNICbKprX"
      },
      "outputs": [],
      "source": [
        "def model_border(model, X, y, contour=True):\n",
        "    xmin = X[:, 0].min()\n",
        "    xmax = X[:, 0].max()\n",
        "    ymin = X[:, 1].min()\n",
        "    ymax = X[:, 1].max()\n",
        "    xminmax = np.arange(xmin, xmax, .02)\n",
        "    yminmax = np.arange(ymin, ymax, .02)\n",
        "    X1, X2 = np.meshgrid(xminmax, yminmax)\n",
        "    X_pred = np.c_[X1.ravel(), X2.ravel()]\n",
        "    Z = model.predict(X_pred).reshape(X1.shape)\n",
        "    plt.figure(figsize = (10, 5))\n",
        "    plt.contourf(X1, X2, Z, alpha=0.3)\n",
        "    plt.plot(X[:, 0][y==0], X[:, 1][y==0], \"ro\", alpha=0.5)\n",
        "    plt.plot(X[:, 0][y==1], X[:, 1][y==1], \"bs\", alpha=0.5)\n",
        "    plt.plot(X[:, 0][y==2], X[:, 1][y==2], \"y^\", alpha=0.5)\n",
        "    plt.xlim([4.4, 7.6])\n",
        "    plt.ylim([2, 4.0])\n",
        "    plt.xlabel(\"X_sepal_length\")\n",
        "    plt.ylabel(\"X_sepal_width\")"
      ]
    },
    {
      "cell_type": "code",
      "execution_count": null,
      "metadata": {
        "id": "_yIJ7dFCKprZ",
        "scrolled": true,
        "colab": {
          "base_uri": "https://localhost:8080/",
          "height": 352
        },
        "outputId": "e105079e-8f62-484d-ca94-ed70aeaa0551"
      },
      "outputs": [
        {
          "output_type": "display_data",
          "data": {
            "text/plain": [
              "<Figure size 1000x500 with 1 Axes>"
            ],
            "image/png": "[encoded data removed]"
          },
          "metadata": {}
        }
      ],
      "source": [
        "model_border(model_dt, X_train, y_train)"
      ]
    },
    {
      "cell_type": "markdown",
      "metadata": {
        "id": "x6SPewQqKprb"
      },
      "source": [
        "- 결정트리의 경계가 제대로 형성되지 않은 것을 볼 수 있다."
      ]
    },
    {
      "cell_type": "code",
      "execution_count": null,
      "metadata": {
        "id": "eAFIVh-9Kprb"
      },
      "outputs": [],
      "source": [
        "model_dt = DecisionTreeClassifier(criterion = 'entropy', max_depth = 6,\n",
        "                                  random_state = 0).fit(X_train, y_train)"
      ]
    },
    {
      "cell_type": "code",
      "execution_count": null,
      "metadata": {
        "id": "xiwbjvmnKpre"
      },
      "outputs": [],
      "source": [
        "from sklearn.tree import export_graphviz\n",
        "export_graphviz(model_dt, out_file = 'tree_2.dot', class_names = iris.target_names,\n",
        "               feature_names = iris.feature_names[:2], filled = True)"
      ]
    },
    {
      "cell_type": "code",
      "execution_count": null,
      "metadata": {
        "id": "1pn-FijxKprg",
        "colab": {
          "base_uri": "https://localhost:8080/",
          "height": 1000
        },
        "outputId": "336c9aad-2e10-4f2a-9933-6aed2189b9d0"
      },
      "outputs": [
        {
          "output_type": "display_data",
          "data": {
            "image/svg+xml": "<?xml version=\"1.0\" encoding=\"UTF-8\" standalone=\"no\"?>\n<!DOCTYPE svg PUBLIC \"-//W3C//DTD SVG 1.1//EN\"\n \"http://www.w3.org/Graphics/SVG/1.1/DTD/svg11.dtd\">\n<!-- Generated by graphviz version 2.43.0 (0)\n -->\n<!-- Title: Tree Pages: 1 -->\n<svg width=\"1287pt\" height=\"790pt\"\n viewBox=\"0.00 0.00 1287.00 790.00\" xmlns=\"http://www.w3.org/2000/svg\" xmlns:xlink=\"http://www.w3.org/1999/xlink\">\n<g id=\"graph0\" class=\"graph\" transform=\"scale(1 1) rotate(0) translate(4 786)\">\n<title>Tree</title>\n<polygon fill=\"white\" stroke=\"transparent\" points=\"-4,4 -4,-786 1283,-786 1283,4 -4,4\"/>\n<!-- 0 -->\n<g id=\"node1\" class=\"node\">\n<title>0</title>\n<polygon fill=\"#fcfffd\" stroke=\"black\" points=\"697,-782 526,-782 526,-699 697,-699 697,-782\"/>\n<text text-anchor=\"middle\" x=\"611.5\" y=\"-766.8\" font-family=\"Helvetica,sans-Serif\" font-size=\"14.00\">sepal length (cm) &lt;= 5.45</text>\n<text text-anchor=\"middle\" x=\"611.5\" y=\"-751.8\" font-family=\"Helvetica,sans-Serif\" font-size=\"14.00\">entropy = 1.585</text>\n<text text-anchor=\"middle\" x=\"611.5\" y=\"-736.8\" font-family=\"Helvetica,sans-Serif\" font-size=\"14.00\">samples = 112</text>\n<text text-anchor=\"middle\" x=\"611.5\" y=\"-721.8\" font-family=\"Helvetica,sans-Serif\" font-size=\"14.00\">value = [37, 38, 37]</text>\n<text text-anchor=\"middle\" x=\"611.5\" y=\"-706.8\" font-family=\"Helvetica,sans-Serif\" font-size=\"14.00\">class = versicolor</text>\n</g>\n<!-- 1 -->\n<g id=\"node2\" class=\"node\">\n<title>1</title>\n<polygon fill=\"#ea9a61\" stroke=\"black\" points=\"600.5,-663 434.5,-663 434.5,-580 600.5,-580 600.5,-663\"/>\n<text text-anchor=\"middle\" x=\"517.5\" y=\"-647.8\" font-family=\"Helvetica,sans-Serif\" font-size=\"14.00\">sepal width (cm) &lt;= 2.85</text>\n<text text-anchor=\"middle\" x=\"517.5\" y=\"-632.8\" font-family=\"Helvetica,sans-Serif\" font-size=\"14.00\">entropy = 0.76</text>\n<text text-anchor=\"middle\" x=\"517.5\" y=\"-617.8\" font-family=\"Helvetica,sans-Serif\" font-size=\"14.00\">samples = 41</text>\n<text text-anchor=\"middle\" x=\"517.5\" y=\"-602.8\" font-family=\"Helvetica,sans-Serif\" font-size=\"14.00\">value = [34, 6, 1]</text>\n<text text-anchor=\"middle\" x=\"517.5\" y=\"-587.8\" font-family=\"Helvetica,sans-Serif\" font-size=\"14.00\">class = setosa</text>\n</g>\n<!-- 0&#45;&gt;1 -->\n<g id=\"edge1\" class=\"edge\">\n<title>0&#45;&gt;1</title>\n<path fill=\"none\" stroke=\"black\" d=\"M578.89,-698.91C571.67,-689.92 563.95,-680.32 556.51,-671.05\"/>\n<polygon fill=\"black\" stroke=\"black\" points=\"559.05,-668.62 550.06,-663.02 553.59,-673.01 559.05,-668.62\"/>\n<text text-anchor=\"middle\" x=\"547.35\" y=\"-684.17\" font-family=\"Helvetica,sans-Serif\" font-size=\"14.00\">True</text>\n</g>\n<!-- 14 -->\n<g id=\"node15\" class=\"node\">\n<title>14</title>\n<polygon fill=\"#f2ebfc\" stroke=\"black\" points=\"849.5,-663 691.5,-663 691.5,-580 849.5,-580 849.5,-663\"/>\n<text text-anchor=\"middle\" x=\"770.5\" y=\"-647.8\" font-family=\"Helvetica,sans-Serif\" font-size=\"14.00\">sepal width (cm) &lt;= 3.9</text>\n<text text-anchor=\"middle\" x=\"770.5\" y=\"-632.8\" font-family=\"Helvetica,sans-Serif\" font-size=\"14.00\">entropy = 1.208</text>\n<text text-anchor=\"middle\" x=\"770.5\" y=\"-617.8\" font-family=\"Helvetica,sans-Serif\" font-size=\"14.00\">samples = 71</text>\n<text text-anchor=\"middle\" x=\"770.5\" y=\"-602.8\" font-family=\"Helvetica,sans-Serif\" font-size=\"14.00\">value = [3, 32, 36]</text>\n<text text-anchor=\"middle\" x=\"770.5\" y=\"-587.8\" font-family=\"Helvetica,sans-Serif\" font-size=\"14.00\">class = virginica</text>\n</g>\n<!-- 0&#45;&gt;14 -->\n<g id=\"edge14\" class=\"edge\">\n<title>0&#45;&gt;14</title>\n<path fill=\"none\" stroke=\"black\" d=\"M666.66,-698.91C679.74,-689.29 693.78,-678.95 707.18,-669.09\"/>\n<polygon fill=\"black\" stroke=\"black\" points=\"709.45,-671.77 715.43,-663.02 705.3,-666.13 709.45,-671.77\"/>\n<text text-anchor=\"middle\" x=\"711.67\" y=\"-684.04\" font-family=\"Helvetica,sans-Serif\" font-size=\"14.00\">False</text>\n</g>\n<!-- 2 -->\n<g id=\"node3\" class=\"node\">\n<title>2</title>\n<polygon fill=\"#7beeab\" stroke=\"black\" points=\"348.5,-544 184.5,-544 184.5,-461 348.5,-461 348.5,-544\"/>\n<text text-anchor=\"middle\" x=\"266.5\" y=\"-528.8\" font-family=\"Helvetica,sans-Serif\" font-size=\"14.00\">sepal length (cm) &lt;= 4.7</text>\n<text text-anchor=\"middle\" x=\"266.5\" y=\"-513.8\" font-family=\"Helvetica,sans-Serif\" font-size=\"14.00\">entropy = 1.149</text>\n<text text-anchor=\"middle\" x=\"266.5\" y=\"-498.8\" font-family=\"Helvetica,sans-Serif\" font-size=\"14.00\">samples = 7</text>\n<text text-anchor=\"middle\" x=\"266.5\" y=\"-483.8\" font-family=\"Helvetica,sans-Serif\" font-size=\"14.00\">value = [1, 5, 1]</text>\n<text text-anchor=\"middle\" x=\"266.5\" y=\"-468.8\" font-family=\"Helvetica,sans-Serif\" font-size=\"14.00\">class = versicolor</text>\n</g>\n<!-- 1&#45;&gt;2 -->\n<g id=\"edge2\" class=\"edge\">\n<title>1&#45;&gt;2</title>\n<path fill=\"none\" stroke=\"black\" d=\"M434.27,-581.7C409.74,-570.27 382.77,-557.7 357.77,-546.04\"/>\n<polygon fill=\"black\" stroke=\"black\" points=\"359.19,-542.85 348.65,-541.79 356.24,-549.19 359.19,-542.85\"/>\n</g>\n<!-- 9 -->\n<g id=\"node10\" class=\"node\">\n<title>9</title>\n<polygon fill=\"#e6853f\" stroke=\"black\" points=\"603,-544 432,-544 432,-461 603,-461 603,-544\"/>\n<text text-anchor=\"middle\" x=\"517.5\" y=\"-528.8\" font-family=\"Helvetica,sans-Serif\" font-size=\"14.00\">sepal length (cm) &lt;= 5.35</text>\n<text text-anchor=\"middle\" x=\"517.5\" y=\"-513.8\" font-family=\"Helvetica,sans-Serif\" font-size=\"14.00\">entropy = 0.191</text>\n<text text-anchor=\"middle\" x=\"517.5\" y=\"-498.8\" font-family=\"Helvetica,sans-Serif\" font-size=\"14.00\">samples = 34</text>\n<text text-anchor=\"middle\" x=\"517.5\" y=\"-483.8\" font-family=\"Helvetica,sans-Serif\" font-size=\"14.00\">value = [33, 1, 0]</text>\n<text text-anchor=\"middle\" x=\"517.5\" y=\"-468.8\" font-family=\"Helvetica,sans-Serif\" font-size=\"14.00\">class = setosa</text>\n</g>\n<!-- 1&#45;&gt;9 -->\n<g id=\"edge9\" class=\"edge\">\n<title>1&#45;&gt;9</title>\n<path fill=\"none\" stroke=\"black\" d=\"M517.5,-579.91C517.5,-571.65 517.5,-562.86 517.5,-554.3\"/>\n<polygon fill=\"black\" stroke=\"black\" points=\"521,-554.02 517.5,-544.02 514,-554.02 521,-554.02\"/>\n</g>\n<!-- 3 -->\n<g id=\"node4\" class=\"node\">\n<title>3</title>\n<polygon fill=\"#e58139\" stroke=\"black\" points=\"162.5,-417.5 52.5,-417.5 52.5,-349.5 162.5,-349.5 162.5,-417.5\"/>\n<text text-anchor=\"middle\" x=\"107.5\" y=\"-402.3\" font-family=\"Helvetica,sans-Serif\" font-size=\"14.00\">entropy = 0.0</text>\n<text text-anchor=\"middle\" x=\"107.5\" y=\"-387.3\" font-family=\"Helvetica,sans-Serif\" font-size=\"14.00\">samples = 1</text>\n<text text-anchor=\"middle\" x=\"107.5\" y=\"-372.3\" font-family=\"Helvetica,sans-Serif\" font-size=\"14.00\">value = [1, 0, 0]</text>\n<text text-anchor=\"middle\" x=\"107.5\" y=\"-357.3\" font-family=\"Helvetica,sans-Serif\" font-size=\"14.00\">class = setosa</text>\n</g>\n<!-- 2&#45;&gt;3 -->\n<g id=\"edge3\" class=\"edge\">\n<title>2&#45;&gt;3</title>\n<path fill=\"none\" stroke=\"black\" d=\"M211.34,-460.91C194.99,-448.88 177.13,-435.73 160.9,-423.79\"/>\n<polygon fill=\"black\" stroke=\"black\" points=\"162.7,-420.77 152.57,-417.67 158.55,-426.41 162.7,-420.77\"/>\n</g>\n<!-- 4 -->\n<g id=\"node5\" class=\"node\">\n<title>4</title>\n<polygon fill=\"#61ea9a\" stroke=\"black\" points=\"352,-425 181,-425 181,-342 352,-342 352,-425\"/>\n<text text-anchor=\"middle\" x=\"266.5\" y=\"-409.8\" font-family=\"Helvetica,sans-Serif\" font-size=\"14.00\">sepal length (cm) &lt;= 4.95</text>\n<text text-anchor=\"middle\" x=\"266.5\" y=\"-394.8\" font-family=\"Helvetica,sans-Serif\" font-size=\"14.00\">entropy = 0.65</text>\n<text text-anchor=\"middle\" x=\"266.5\" y=\"-379.8\" font-family=\"Helvetica,sans-Serif\" font-size=\"14.00\">samples = 6</text>\n<text text-anchor=\"middle\" x=\"266.5\" y=\"-364.8\" font-family=\"Helvetica,sans-Serif\" font-size=\"14.00\">value = [0, 5, 1]</text>\n<text text-anchor=\"middle\" x=\"266.5\" y=\"-349.8\" font-family=\"Helvetica,sans-Serif\" font-size=\"14.00\">class = versicolor</text>\n</g>\n<!-- 2&#45;&gt;4 -->\n<g id=\"edge4\" class=\"edge\">\n<title>2&#45;&gt;4</title>\n<path fill=\"none\" stroke=\"black\" d=\"M266.5,-460.91C266.5,-452.65 266.5,-443.86 266.5,-435.3\"/>\n<polygon fill=\"black\" stroke=\"black\" points=\"270,-435.02 266.5,-425.02 263,-435.02 270,-435.02\"/>\n</g>\n<!-- 5 -->\n<g id=\"node6\" class=\"node\">\n<title>5</title>\n<polygon fill=\"#ffffff\" stroke=\"black\" points=\"210.5,-306 44.5,-306 44.5,-223 210.5,-223 210.5,-306\"/>\n<text text-anchor=\"middle\" x=\"127.5\" y=\"-290.8\" font-family=\"Helvetica,sans-Serif\" font-size=\"14.00\">sepal width (cm) &lt;= 2.45</text>\n<text text-anchor=\"middle\" x=\"127.5\" y=\"-275.8\" font-family=\"Helvetica,sans-Serif\" font-size=\"14.00\">entropy = 1.0</text>\n<text text-anchor=\"middle\" x=\"127.5\" y=\"-260.8\" font-family=\"Helvetica,sans-Serif\" font-size=\"14.00\">samples = 2</text>\n<text text-anchor=\"middle\" x=\"127.5\" y=\"-245.8\" font-family=\"Helvetica,sans-Serif\" font-size=\"14.00\">value = [0, 1, 1]</text>\n<text text-anchor=\"middle\" x=\"127.5\" y=\"-230.8\" font-family=\"Helvetica,sans-Serif\" font-size=\"14.00\">class = versicolor</text>\n</g>\n<!-- 4&#45;&gt;5 -->\n<g id=\"edge5\" class=\"edge\">\n<title>4&#45;&gt;5</title>\n<path fill=\"none\" stroke=\"black\" d=\"M218.27,-341.91C207.06,-332.47 195.03,-322.34 183.51,-312.65\"/>\n<polygon fill=\"black\" stroke=\"black\" points=\"185.54,-309.78 175.64,-306.02 181.04,-315.14 185.54,-309.78\"/>\n</g>\n<!-- 8 -->\n<g id=\"node9\" class=\"node\">\n<title>8</title>\n<polygon fill=\"#39e581\" stroke=\"black\" points=\"350,-298.5 229,-298.5 229,-230.5 350,-230.5 350,-298.5\"/>\n<text text-anchor=\"middle\" x=\"289.5\" y=\"-283.3\" font-family=\"Helvetica,sans-Serif\" font-size=\"14.00\">entropy = 0.0</text>\n<text text-anchor=\"middle\" x=\"289.5\" y=\"-268.3\" font-family=\"Helvetica,sans-Serif\" font-size=\"14.00\">samples = 4</text>\n<text text-anchor=\"middle\" x=\"289.5\" y=\"-253.3\" font-family=\"Helvetica,sans-Serif\" font-size=\"14.00\">value = [0, 4, 0]</text>\n<text text-anchor=\"middle\" x=\"289.5\" y=\"-238.3\" font-family=\"Helvetica,sans-Serif\" font-size=\"14.00\">class = versicolor</text>\n</g>\n<!-- 4&#45;&gt;8 -->\n<g id=\"edge8\" class=\"edge\">\n<title>4&#45;&gt;8</title>\n<path fill=\"none\" stroke=\"black\" d=\"M274.48,-341.91C276.58,-331.2 278.86,-319.62 280.99,-308.78\"/>\n<polygon fill=\"black\" stroke=\"black\" points=\"284.49,-309.15 282.98,-298.67 277.62,-307.8 284.49,-309.15\"/>\n</g>\n<!-- 6 -->\n<g id=\"node7\" class=\"node\">\n<title>6</title>\n<polygon fill=\"#39e581\" stroke=\"black\" points=\"121,-179.5 0,-179.5 0,-111.5 121,-111.5 121,-179.5\"/>\n<text text-anchor=\"middle\" x=\"60.5\" y=\"-164.3\" font-family=\"Helvetica,sans-Serif\" font-size=\"14.00\">entropy = 0.0</text>\n<text text-anchor=\"middle\" x=\"60.5\" y=\"-149.3\" font-family=\"Helvetica,sans-Serif\" font-size=\"14.00\">samples = 1</text>\n<text text-anchor=\"middle\" x=\"60.5\" y=\"-134.3\" font-family=\"Helvetica,sans-Serif\" font-size=\"14.00\">value = [0, 1, 0]</text>\n<text text-anchor=\"middle\" x=\"60.5\" y=\"-119.3\" font-family=\"Helvetica,sans-Serif\" font-size=\"14.00\">class = versicolor</text>\n</g>\n<!-- 5&#45;&gt;6 -->\n<g id=\"edge6\" class=\"edge\">\n<title>5&#45;&gt;6</title>\n<path fill=\"none\" stroke=\"black\" d=\"M104.25,-222.91C97.87,-211.76 90.94,-199.66 84.52,-188.44\"/>\n<polygon fill=\"black\" stroke=\"black\" points=\"87.5,-186.61 79.49,-179.67 81.43,-190.08 87.5,-186.61\"/>\n</g>\n<!-- 7 -->\n<g id=\"node8\" class=\"node\">\n<title>7</title>\n<polygon fill=\"#8139e5\" stroke=\"black\" points=\"252,-179.5 139,-179.5 139,-111.5 252,-111.5 252,-179.5\"/>\n<text text-anchor=\"middle\" x=\"195.5\" y=\"-164.3\" font-family=\"Helvetica,sans-Serif\" font-size=\"14.00\">entropy = 0.0</text>\n<text text-anchor=\"middle\" x=\"195.5\" y=\"-149.3\" font-family=\"Helvetica,sans-Serif\" font-size=\"14.00\">samples = 1</text>\n<text text-anchor=\"middle\" x=\"195.5\" y=\"-134.3\" font-family=\"Helvetica,sans-Serif\" font-size=\"14.00\">value = [0, 0, 1]</text>\n<text text-anchor=\"middle\" x=\"195.5\" y=\"-119.3\" font-family=\"Helvetica,sans-Serif\" font-size=\"14.00\">class = virginica</text>\n</g>\n<!-- 5&#45;&gt;7 -->\n<g id=\"edge7\" class=\"edge\">\n<title>5&#45;&gt;7</title>\n<path fill=\"none\" stroke=\"black\" d=\"M151.09,-222.91C157.57,-211.76 164.6,-199.66 171.13,-188.44\"/>\n<polygon fill=\"black\" stroke=\"black\" points=\"174.22,-190.07 176.22,-179.67 168.17,-186.55 174.22,-190.07\"/>\n</g>\n<!-- 10 -->\n<g id=\"node11\" class=\"node\">\n<title>10</title>\n<polygon fill=\"#e58139\" stroke=\"black\" points=\"487,-417.5 370,-417.5 370,-349.5 487,-349.5 487,-417.5\"/>\n<text text-anchor=\"middle\" x=\"428.5\" y=\"-402.3\" font-family=\"Helvetica,sans-Serif\" font-size=\"14.00\">entropy = 0.0</text>\n<text text-anchor=\"middle\" x=\"428.5\" y=\"-387.3\" font-family=\"Helvetica,sans-Serif\" font-size=\"14.00\">samples = 29</text>\n<text text-anchor=\"middle\" x=\"428.5\" y=\"-372.3\" font-family=\"Helvetica,sans-Serif\" font-size=\"14.00\">value = [29, 0, 0]</text>\n<text text-anchor=\"middle\" x=\"428.5\" y=\"-357.3\" font-family=\"Helvetica,sans-Serif\" font-size=\"14.00\">class = setosa</text>\n</g>\n<!-- 9&#45;&gt;10 -->\n<g id=\"edge10\" class=\"edge\">\n<title>9&#45;&gt;10</title>\n<path fill=\"none\" stroke=\"black\" d=\"M486.62,-460.91C477.98,-449.54 468.57,-437.18 459.9,-425.77\"/>\n<polygon fill=\"black\" stroke=\"black\" points=\"462.57,-423.51 453.73,-417.67 457,-427.74 462.57,-423.51\"/>\n</g>\n<!-- 11 -->\n<g id=\"node12\" class=\"node\">\n<title>11</title>\n<polygon fill=\"#eca06a\" stroke=\"black\" points=\"663.5,-425 505.5,-425 505.5,-342 663.5,-342 663.5,-425\"/>\n<text text-anchor=\"middle\" x=\"584.5\" y=\"-409.8\" font-family=\"Helvetica,sans-Serif\" font-size=\"14.00\">sepal width (cm) &lt;= 3.2</text>\n<text text-anchor=\"middle\" x=\"584.5\" y=\"-394.8\" font-family=\"Helvetica,sans-Serif\" font-size=\"14.00\">entropy = 0.722</text>\n<text text-anchor=\"middle\" x=\"584.5\" y=\"-379.8\" font-family=\"Helvetica,sans-Serif\" font-size=\"14.00\">samples = 5</text>\n<text text-anchor=\"middle\" x=\"584.5\" y=\"-364.8\" font-family=\"Helvetica,sans-Serif\" font-size=\"14.00\">value = [4, 1, 0]</text>\n<text text-anchor=\"middle\" x=\"584.5\" y=\"-349.8\" font-family=\"Helvetica,sans-Serif\" font-size=\"14.00\">class = setosa</text>\n</g>\n<!-- 9&#45;&gt;11 -->\n<g id=\"edge11\" class=\"edge\">\n<title>9&#45;&gt;11</title>\n<path fill=\"none\" stroke=\"black\" d=\"M540.75,-460.91C545.73,-452.2 551.06,-442.9 556.21,-433.89\"/>\n<polygon fill=\"black\" stroke=\"black\" points=\"559.36,-435.44 561.3,-425.02 553.29,-431.96 559.36,-435.44\"/>\n</g>\n<!-- 12 -->\n<g id=\"node13\" class=\"node\">\n<title>12</title>\n<polygon fill=\"#39e581\" stroke=\"black\" points=\"511,-298.5 390,-298.5 390,-230.5 511,-230.5 511,-298.5\"/>\n<text text-anchor=\"middle\" x=\"450.5\" y=\"-283.3\" font-family=\"Helvetica,sans-Serif\" font-size=\"14.00\">entropy = 0.0</text>\n<text text-anchor=\"middle\" x=\"450.5\" y=\"-268.3\" font-family=\"Helvetica,sans-Serif\" font-size=\"14.00\">samples = 1</text>\n<text text-anchor=\"middle\" x=\"450.5\" y=\"-253.3\" font-family=\"Helvetica,sans-Serif\" font-size=\"14.00\">value = [0, 1, 0]</text>\n<text text-anchor=\"middle\" x=\"450.5\" y=\"-238.3\" font-family=\"Helvetica,sans-Serif\" font-size=\"14.00\">class = versicolor</text>\n</g>\n<!-- 11&#45;&gt;12 -->\n<g id=\"edge12\" class=\"edge\">\n<title>11&#45;&gt;12</title>\n<path fill=\"none\" stroke=\"black\" d=\"M538.01,-341.91C524.49,-330.1 509.73,-317.22 496.25,-305.45\"/>\n<polygon fill=\"black\" stroke=\"black\" points=\"498.32,-302.61 488.49,-298.67 493.72,-307.88 498.32,-302.61\"/>\n</g>\n<!-- 13 -->\n<g id=\"node14\" class=\"node\">\n<title>13</title>\n<polygon fill=\"#e58139\" stroke=\"black\" points=\"639.5,-298.5 529.5,-298.5 529.5,-230.5 639.5,-230.5 639.5,-298.5\"/>\n<text text-anchor=\"middle\" x=\"584.5\" y=\"-283.3\" font-family=\"Helvetica,sans-Serif\" font-size=\"14.00\">entropy = 0.0</text>\n<text text-anchor=\"middle\" x=\"584.5\" y=\"-268.3\" font-family=\"Helvetica,sans-Serif\" font-size=\"14.00\">samples = 4</text>\n<text text-anchor=\"middle\" x=\"584.5\" y=\"-253.3\" font-family=\"Helvetica,sans-Serif\" font-size=\"14.00\">value = [4, 0, 0]</text>\n<text text-anchor=\"middle\" x=\"584.5\" y=\"-238.3\" font-family=\"Helvetica,sans-Serif\" font-size=\"14.00\">class = setosa</text>\n</g>\n<!-- 11&#45;&gt;13 -->\n<g id=\"edge13\" class=\"edge\">\n<title>11&#45;&gt;13</title>\n<path fill=\"none\" stroke=\"black\" d=\"M584.5,-341.91C584.5,-331.2 584.5,-319.62 584.5,-308.78\"/>\n<polygon fill=\"black\" stroke=\"black\" points=\"588,-308.67 584.5,-298.67 581,-308.67 588,-308.67\"/>\n</g>\n<!-- 15 -->\n<g id=\"node16\" class=\"node\">\n<title>15</title>\n<polygon fill=\"#f1e9fc\" stroke=\"black\" points=\"856,-544 685,-544 685,-461 856,-461 856,-544\"/>\n<text text-anchor=\"middle\" x=\"770.5\" y=\"-528.8\" font-family=\"Helvetica,sans-Serif\" font-size=\"14.00\">sepal length (cm) &lt;= 5.75</text>\n<text text-anchor=\"middle\" x=\"770.5\" y=\"-513.8\" font-family=\"Helvetica,sans-Serif\" font-size=\"14.00\">entropy = 0.998</text>\n<text text-anchor=\"middle\" x=\"770.5\" y=\"-498.8\" font-family=\"Helvetica,sans-Serif\" font-size=\"14.00\">samples = 68</text>\n<text text-anchor=\"middle\" x=\"770.5\" y=\"-483.8\" font-family=\"Helvetica,sans-Serif\" font-size=\"14.00\">value = [0, 32, 36]</text>\n<text text-anchor=\"middle\" x=\"770.5\" y=\"-468.8\" font-family=\"Helvetica,sans-Serif\" font-size=\"14.00\">class = virginica</text>\n</g>\n<!-- 14&#45;&gt;15 -->\n<g id=\"edge15\" class=\"edge\">\n<title>14&#45;&gt;15</title>\n<path fill=\"none\" stroke=\"black\" d=\"M770.5,-579.91C770.5,-571.65 770.5,-562.86 770.5,-554.3\"/>\n<polygon fill=\"black\" stroke=\"black\" points=\"774,-554.02 770.5,-544.02 767,-554.02 774,-554.02\"/>\n</g>\n<!-- 30 -->\n<g id=\"node31\" class=\"node\">\n<title>30</title>\n<polygon fill=\"#e58139\" stroke=\"black\" points=\"984.5,-536.5 874.5,-536.5 874.5,-468.5 984.5,-468.5 984.5,-536.5\"/>\n<text text-anchor=\"middle\" x=\"929.5\" y=\"-521.3\" font-family=\"Helvetica,sans-Serif\" font-size=\"14.00\">entropy = 0.0</text>\n<text text-anchor=\"middle\" x=\"929.5\" y=\"-506.3\" font-family=\"Helvetica,sans-Serif\" font-size=\"14.00\">samples = 3</text>\n<text text-anchor=\"middle\" x=\"929.5\" y=\"-491.3\" font-family=\"Helvetica,sans-Serif\" font-size=\"14.00\">value = [3, 0, 0]</text>\n<text text-anchor=\"middle\" x=\"929.5\" y=\"-476.3\" font-family=\"Helvetica,sans-Serif\" font-size=\"14.00\">class = setosa</text>\n</g>\n<!-- 14&#45;&gt;30 -->\n<g id=\"edge30\" class=\"edge\">\n<title>14&#45;&gt;30</title>\n<path fill=\"none\" stroke=\"black\" d=\"M825.66,-579.91C842.01,-567.88 859.87,-554.73 876.1,-542.79\"/>\n<polygon fill=\"black\" stroke=\"black\" points=\"878.45,-545.41 884.43,-536.67 874.3,-539.77 878.45,-545.41\"/>\n</g>\n<!-- 16 -->\n<g id=\"node17\" class=\"node\">\n<title>16</title>\n<polygon fill=\"#5ae996\" stroke=\"black\" points=\"856,-425 685,-425 685,-342 856,-342 856,-425\"/>\n<text text-anchor=\"middle\" x=\"770.5\" y=\"-409.8\" font-family=\"Helvetica,sans-Serif\" font-size=\"14.00\">sepal length (cm) &lt;= 5.55</text>\n<text text-anchor=\"middle\" x=\"770.5\" y=\"-394.8\" font-family=\"Helvetica,sans-Serif\" font-size=\"14.00\">entropy = 0.592</text>\n<text text-anchor=\"middle\" x=\"770.5\" y=\"-379.8\" font-family=\"Helvetica,sans-Serif\" font-size=\"14.00\">samples = 14</text>\n<text text-anchor=\"middle\" x=\"770.5\" y=\"-364.8\" font-family=\"Helvetica,sans-Serif\" font-size=\"14.00\">value = [0, 12, 2]</text>\n<text text-anchor=\"middle\" x=\"770.5\" y=\"-349.8\" font-family=\"Helvetica,sans-Serif\" font-size=\"14.00\">class = versicolor</text>\n</g>\n<!-- 15&#45;&gt;16 -->\n<g id=\"edge16\" class=\"edge\">\n<title>15&#45;&gt;16</title>\n<path fill=\"none\" stroke=\"black\" d=\"M770.5,-460.91C770.5,-452.65 770.5,-443.86 770.5,-435.3\"/>\n<polygon fill=\"black\" stroke=\"black\" points=\"774,-435.02 770.5,-425.02 767,-435.02 774,-435.02\"/>\n</g>\n<!-- 23 -->\n<g id=\"node24\" class=\"node\">\n<title>23</title>\n<polygon fill=\"#cbadf4\" stroke=\"black\" points=\"1146.5,-425 982.5,-425 982.5,-342 1146.5,-342 1146.5,-425\"/>\n<text text-anchor=\"middle\" x=\"1064.5\" y=\"-409.8\" font-family=\"Helvetica,sans-Serif\" font-size=\"14.00\">sepal length (cm) &lt;= 7.1</text>\n<text text-anchor=\"middle\" x=\"1064.5\" y=\"-394.8\" font-family=\"Helvetica,sans-Serif\" font-size=\"14.00\">entropy = 0.951</text>\n<text text-anchor=\"middle\" x=\"1064.5\" y=\"-379.8\" font-family=\"Helvetica,sans-Serif\" font-size=\"14.00\">samples = 54</text>\n<text text-anchor=\"middle\" x=\"1064.5\" y=\"-364.8\" font-family=\"Helvetica,sans-Serif\" font-size=\"14.00\">value = [0, 20, 34]</text>\n<text text-anchor=\"middle\" x=\"1064.5\" y=\"-349.8\" font-family=\"Helvetica,sans-Serif\" font-size=\"14.00\">class = virginica</text>\n</g>\n<!-- 15&#45;&gt;23 -->\n<g id=\"edge23\" class=\"edge\">\n<title>15&#45;&gt;23</title>\n<path fill=\"none\" stroke=\"black\" d=\"M856.15,-464.82C859.3,-463.52 862.43,-462.25 865.5,-461 900.46,-446.83 939.13,-431.82 973.01,-418.88\"/>\n<polygon fill=\"black\" stroke=\"black\" points=\"974.33,-422.12 982.43,-415.29 971.84,-415.58 974.33,-422.12\"/>\n</g>\n<!-- 17 -->\n<g id=\"node18\" class=\"node\">\n<title>17</title>\n<polygon fill=\"#39e581\" stroke=\"black\" points=\"779,-298.5 658,-298.5 658,-230.5 779,-230.5 779,-298.5\"/>\n<text text-anchor=\"middle\" x=\"718.5\" y=\"-283.3\" font-family=\"Helvetica,sans-Serif\" font-size=\"14.00\">entropy = 0.0</text>\n<text text-anchor=\"middle\" x=\"718.5\" y=\"-268.3\" font-family=\"Helvetica,sans-Serif\" font-size=\"14.00\">samples = 4</text>\n<text text-anchor=\"middle\" x=\"718.5\" y=\"-253.3\" font-family=\"Helvetica,sans-Serif\" font-size=\"14.00\">value = [0, 4, 0]</text>\n<text text-anchor=\"middle\" x=\"718.5\" y=\"-238.3\" font-family=\"Helvetica,sans-Serif\" font-size=\"14.00\">class = versicolor</text>\n</g>\n<!-- 16&#45;&gt;17 -->\n<g id=\"edge17\" class=\"edge\">\n<title>16&#45;&gt;17</title>\n<path fill=\"none\" stroke=\"black\" d=\"M752.46,-341.91C747.6,-330.98 742.34,-319.14 737.44,-308.11\"/>\n<polygon fill=\"black\" stroke=\"black\" points=\"740.5,-306.38 733.24,-298.67 734.1,-309.23 740.5,-306.38\"/>\n</g>\n<!-- 18 -->\n<g id=\"node19\" class=\"node\">\n<title>18</title>\n<polygon fill=\"#6aeca0\" stroke=\"black\" points=\"963.5,-306 797.5,-306 797.5,-223 963.5,-223 963.5,-306\"/>\n<text text-anchor=\"middle\" x=\"880.5\" y=\"-290.8\" font-family=\"Helvetica,sans-Serif\" font-size=\"14.00\">sepal width (cm) &lt;= 2.85</text>\n<text text-anchor=\"middle\" x=\"880.5\" y=\"-275.8\" font-family=\"Helvetica,sans-Serif\" font-size=\"14.00\">entropy = 0.722</text>\n<text text-anchor=\"middle\" x=\"880.5\" y=\"-260.8\" font-family=\"Helvetica,sans-Serif\" font-size=\"14.00\">samples = 10</text>\n<text text-anchor=\"middle\" x=\"880.5\" y=\"-245.8\" font-family=\"Helvetica,sans-Serif\" font-size=\"14.00\">value = [0, 8, 2]</text>\n<text text-anchor=\"middle\" x=\"880.5\" y=\"-230.8\" font-family=\"Helvetica,sans-Serif\" font-size=\"14.00\">class = versicolor</text>\n</g>\n<!-- 16&#45;&gt;18 -->\n<g id=\"edge18\" class=\"edge\">\n<title>16&#45;&gt;18</title>\n<path fill=\"none\" stroke=\"black\" d=\"M808.66,-341.91C817.28,-332.74 826.51,-322.93 835.38,-313.49\"/>\n<polygon fill=\"black\" stroke=\"black\" points=\"838.1,-315.7 842.4,-306.02 833,-310.91 838.1,-315.7\"/>\n</g>\n<!-- 19 -->\n<g id=\"node20\" class=\"node\">\n<title>19</title>\n<polygon fill=\"#88efb3\" stroke=\"black\" points=\"806.5,-187 640.5,-187 640.5,-104 806.5,-104 806.5,-187\"/>\n<text text-anchor=\"middle\" x=\"723.5\" y=\"-171.8\" font-family=\"Helvetica,sans-Serif\" font-size=\"14.00\">sepal width (cm) &lt;= 2.55</text>\n<text text-anchor=\"middle\" x=\"723.5\" y=\"-156.8\" font-family=\"Helvetica,sans-Serif\" font-size=\"14.00\">entropy = 0.863</text>\n<text text-anchor=\"middle\" x=\"723.5\" y=\"-141.8\" font-family=\"Helvetica,sans-Serif\" font-size=\"14.00\">samples = 7</text>\n<text text-anchor=\"middle\" x=\"723.5\" y=\"-126.8\" font-family=\"Helvetica,sans-Serif\" font-size=\"14.00\">value = [0, 5, 2]</text>\n<text text-anchor=\"middle\" x=\"723.5\" y=\"-111.8\" font-family=\"Helvetica,sans-Serif\" font-size=\"14.00\">class = versicolor</text>\n</g>\n<!-- 18&#45;&gt;19 -->\n<g id=\"edge19\" class=\"edge\">\n<title>18&#45;&gt;19</title>\n<path fill=\"none\" stroke=\"black\" d=\"M826.03,-222.91C813.12,-213.29 799.25,-202.95 786.02,-193.09\"/>\n<polygon fill=\"black\" stroke=\"black\" points=\"787.98,-190.19 777.87,-187.02 783.8,-195.8 787.98,-190.19\"/>\n</g>\n<!-- 22 -->\n<g id=\"node23\" class=\"node\">\n<title>22</title>\n<polygon fill=\"#39e581\" stroke=\"black\" points=\"946,-179.5 825,-179.5 825,-111.5 946,-111.5 946,-179.5\"/>\n<text text-anchor=\"middle\" x=\"885.5\" y=\"-164.3\" font-family=\"Helvetica,sans-Serif\" font-size=\"14.00\">entropy = 0.0</text>\n<text text-anchor=\"middle\" x=\"885.5\" y=\"-149.3\" font-family=\"Helvetica,sans-Serif\" font-size=\"14.00\">samples = 3</text>\n<text text-anchor=\"middle\" x=\"885.5\" y=\"-134.3\" font-family=\"Helvetica,sans-Serif\" font-size=\"14.00\">value = [0, 3, 0]</text>\n<text text-anchor=\"middle\" x=\"885.5\" y=\"-119.3\" font-family=\"Helvetica,sans-Serif\" font-size=\"14.00\">class = versicolor</text>\n</g>\n<!-- 18&#45;&gt;22 -->\n<g id=\"edge22\" class=\"edge\">\n<title>18&#45;&gt;22</title>\n<path fill=\"none\" stroke=\"black\" d=\"M882.23,-222.91C882.69,-212.2 883.19,-200.62 883.65,-189.78\"/>\n<polygon fill=\"black\" stroke=\"black\" points=\"887.15,-189.81 884.08,-179.67 880.16,-189.51 887.15,-189.81\"/>\n</g>\n<!-- 20 -->\n<g id=\"node21\" class=\"node\">\n<title>20</title>\n<polygon fill=\"#ffffff\" stroke=\"black\" points=\"730,-68 609,-68 609,0 730,0 730,-68\"/>\n<text text-anchor=\"middle\" x=\"669.5\" y=\"-52.8\" font-family=\"Helvetica,sans-Serif\" font-size=\"14.00\">entropy = 1.0</text>\n<text text-anchor=\"middle\" x=\"669.5\" y=\"-37.8\" font-family=\"Helvetica,sans-Serif\" font-size=\"14.00\">samples = 2</text>\n<text text-anchor=\"middle\" x=\"669.5\" y=\"-22.8\" font-family=\"Helvetica,sans-Serif\" font-size=\"14.00\">value = [0, 1, 1]</text>\n<text text-anchor=\"middle\" x=\"669.5\" y=\"-7.8\" font-family=\"Helvetica,sans-Serif\" font-size=\"14.00\">class = versicolor</text>\n</g>\n<!-- 19&#45;&gt;20 -->\n<g id=\"edge20\" class=\"edge\">\n<title>19&#45;&gt;20</title>\n<path fill=\"none\" stroke=\"black\" d=\"M703.39,-103.73C699.16,-95.15 694.69,-86.09 690.44,-77.46\"/>\n<polygon fill=\"black\" stroke=\"black\" points=\"693.48,-75.72 685.92,-68.3 687.21,-78.82 693.48,-75.72\"/>\n</g>\n<!-- 21 -->\n<g id=\"node22\" class=\"node\">\n<title>21</title>\n<polygon fill=\"#6aeca0\" stroke=\"black\" points=\"869,-68 748,-68 748,0 869,0 869,-68\"/>\n<text text-anchor=\"middle\" x=\"808.5\" y=\"-52.8\" font-family=\"Helvetica,sans-Serif\" font-size=\"14.00\">entropy = 0.722</text>\n<text text-anchor=\"middle\" x=\"808.5\" y=\"-37.8\" font-family=\"Helvetica,sans-Serif\" font-size=\"14.00\">samples = 5</text>\n<text text-anchor=\"middle\" x=\"808.5\" y=\"-22.8\" font-family=\"Helvetica,sans-Serif\" font-size=\"14.00\">value = [0, 4, 1]</text>\n<text text-anchor=\"middle\" x=\"808.5\" y=\"-7.8\" font-family=\"Helvetica,sans-Serif\" font-size=\"14.00\">class = versicolor</text>\n</g>\n<!-- 19&#45;&gt;21 -->\n<g id=\"edge21\" class=\"edge\">\n<title>19&#45;&gt;21</title>\n<path fill=\"none\" stroke=\"black\" d=\"M755.15,-103.73C762.09,-94.79 769.44,-85.32 776.4,-76.36\"/>\n<polygon fill=\"black\" stroke=\"black\" points=\"779.28,-78.35 782.65,-68.3 773.75,-74.05 779.28,-78.35\"/>\n</g>\n<!-- 24 -->\n<g id=\"node25\" class=\"node\">\n<title>24</title>\n<polygon fill=\"#deccf8\" stroke=\"black\" points=\"1147.5,-306 981.5,-306 981.5,-223 1147.5,-223 1147.5,-306\"/>\n<text text-anchor=\"middle\" x=\"1064.5\" y=\"-290.8\" font-family=\"Helvetica,sans-Serif\" font-size=\"14.00\">sepal width (cm) &lt;= 3.25</text>\n<text text-anchor=\"middle\" x=\"1064.5\" y=\"-275.8\" font-family=\"Helvetica,sans-Serif\" font-size=\"14.00\">entropy = 0.984</text>\n<text text-anchor=\"middle\" x=\"1064.5\" y=\"-260.8\" font-family=\"Helvetica,sans-Serif\" font-size=\"14.00\">samples = 47</text>\n<text text-anchor=\"middle\" x=\"1064.5\" y=\"-245.8\" font-family=\"Helvetica,sans-Serif\" font-size=\"14.00\">value = [0, 20, 27]</text>\n<text text-anchor=\"middle\" x=\"1064.5\" y=\"-230.8\" font-family=\"Helvetica,sans-Serif\" font-size=\"14.00\">class = virginica</text>\n</g>\n<!-- 23&#45;&gt;24 -->\n<g id=\"edge24\" class=\"edge\">\n<title>23&#45;&gt;24</title>\n<path fill=\"none\" stroke=\"black\" d=\"M1064.5,-341.91C1064.5,-333.65 1064.5,-324.86 1064.5,-316.3\"/>\n<polygon fill=\"black\" stroke=\"black\" points=\"1068,-316.02 1064.5,-306.02 1061,-316.02 1068,-316.02\"/>\n</g>\n<!-- 29 -->\n<g id=\"node30\" class=\"node\">\n<title>29</title>\n<polygon fill=\"#8139e5\" stroke=\"black\" points=\"1279,-298.5 1166,-298.5 1166,-230.5 1279,-230.5 1279,-298.5\"/>\n<text text-anchor=\"middle\" x=\"1222.5\" y=\"-283.3\" font-family=\"Helvetica,sans-Serif\" font-size=\"14.00\">entropy = 0.0</text>\n<text text-anchor=\"middle\" x=\"1222.5\" y=\"-268.3\" font-family=\"Helvetica,sans-Serif\" font-size=\"14.00\">samples = 7</text>\n<text text-anchor=\"middle\" x=\"1222.5\" y=\"-253.3\" font-family=\"Helvetica,sans-Serif\" font-size=\"14.00\">value = [0, 0, 7]</text>\n<text text-anchor=\"middle\" x=\"1222.5\" y=\"-238.3\" font-family=\"Helvetica,sans-Serif\" font-size=\"14.00\">class = virginica</text>\n</g>\n<!-- 23&#45;&gt;29 -->\n<g id=\"edge29\" class=\"edge\">\n<title>23&#45;&gt;29</title>\n<path fill=\"none\" stroke=\"black\" d=\"M1119.32,-341.91C1135.56,-329.88 1153.31,-316.73 1169.44,-304.79\"/>\n<polygon fill=\"black\" stroke=\"black\" points=\"1171.76,-307.43 1177.71,-298.67 1167.59,-301.81 1171.76,-307.43\"/>\n</g>\n<!-- 25 -->\n<g id=\"node26\" class=\"node\">\n<title>25</title>\n<polygon fill=\"#eadefb\" stroke=\"black\" points=\"1145,-187 974,-187 974,-104 1145,-104 1145,-187\"/>\n<text text-anchor=\"middle\" x=\"1059.5\" y=\"-171.8\" font-family=\"Helvetica,sans-Serif\" font-size=\"14.00\">sepal length (cm) &lt;= 6.95</text>\n<text text-anchor=\"middle\" x=\"1059.5\" y=\"-156.8\" font-family=\"Helvetica,sans-Serif\" font-size=\"14.00\">entropy = 0.994</text>\n<text text-anchor=\"middle\" x=\"1059.5\" y=\"-141.8\" font-family=\"Helvetica,sans-Serif\" font-size=\"14.00\">samples = 44</text>\n<text text-anchor=\"middle\" x=\"1059.5\" y=\"-126.8\" font-family=\"Helvetica,sans-Serif\" font-size=\"14.00\">value = [0, 20, 24]</text>\n<text text-anchor=\"middle\" x=\"1059.5\" y=\"-111.8\" font-family=\"Helvetica,sans-Serif\" font-size=\"14.00\">class = virginica</text>\n</g>\n<!-- 24&#45;&gt;25 -->\n<g id=\"edge25\" class=\"edge\">\n<title>24&#45;&gt;25</title>\n<path fill=\"none\" stroke=\"black\" d=\"M1062.77,-222.91C1062.41,-214.56 1062.03,-205.67 1061.66,-197.02\"/>\n<polygon fill=\"black\" stroke=\"black\" points=\"1065.16,-196.86 1061.23,-187.02 1058.16,-197.16 1065.16,-196.86\"/>\n</g>\n<!-- 28 -->\n<g id=\"node29\" class=\"node\">\n<title>28</title>\n<polygon fill=\"#8139e5\" stroke=\"black\" points=\"1276,-179.5 1163,-179.5 1163,-111.5 1276,-111.5 1276,-179.5\"/>\n<text text-anchor=\"middle\" x=\"1219.5\" y=\"-164.3\" font-family=\"Helvetica,sans-Serif\" font-size=\"14.00\">entropy = 0.0</text>\n<text text-anchor=\"middle\" x=\"1219.5\" y=\"-149.3\" font-family=\"Helvetica,sans-Serif\" font-size=\"14.00\">samples = 3</text>\n<text text-anchor=\"middle\" x=\"1219.5\" y=\"-134.3\" font-family=\"Helvetica,sans-Serif\" font-size=\"14.00\">value = [0, 0, 3]</text>\n<text text-anchor=\"middle\" x=\"1219.5\" y=\"-119.3\" font-family=\"Helvetica,sans-Serif\" font-size=\"14.00\">class = virginica</text>\n</g>\n<!-- 24&#45;&gt;28 -->\n<g id=\"edge28\" class=\"edge\">\n<title>24&#45;&gt;28</title>\n<path fill=\"none\" stroke=\"black\" d=\"M1118.28,-222.91C1134.21,-210.88 1151.63,-197.73 1167.45,-185.79\"/>\n<polygon fill=\"black\" stroke=\"black\" points=\"1169.69,-188.49 1175.56,-179.67 1165.47,-182.9 1169.69,-188.49\"/>\n</g>\n<!-- 26 -->\n<g id=\"node27\" class=\"node\">\n<title>26</title>\n<polygon fill=\"#e5d6fa\" stroke=\"black\" points=\"1034,-68 909,-68 909,0 1034,0 1034,-68\"/>\n<text text-anchor=\"middle\" x=\"971.5\" y=\"-52.8\" font-family=\"Helvetica,sans-Serif\" font-size=\"14.00\">entropy = 0.99</text>\n<text text-anchor=\"middle\" x=\"971.5\" y=\"-37.8\" font-family=\"Helvetica,sans-Serif\" font-size=\"14.00\">samples = 43</text>\n<text text-anchor=\"middle\" x=\"971.5\" y=\"-22.8\" font-family=\"Helvetica,sans-Serif\" font-size=\"14.00\">value = [0, 19, 24]</text>\n<text text-anchor=\"middle\" x=\"971.5\" y=\"-7.8\" font-family=\"Helvetica,sans-Serif\" font-size=\"14.00\">class = virginica</text>\n</g>\n<!-- 25&#45;&gt;26 -->\n<g id=\"edge26\" class=\"edge\">\n<title>25&#45;&gt;26</title>\n<path fill=\"none\" stroke=\"black\" d=\"M1026.73,-103.73C1019.55,-94.79 1011.94,-85.32 1004.74,-76.36\"/>\n<polygon fill=\"black\" stroke=\"black\" points=\"1007.25,-73.9 998.26,-68.3 1001.8,-78.29 1007.25,-73.9\"/>\n</g>\n<!-- 27 -->\n<g id=\"node28\" class=\"node\">\n<title>27</title>\n<polygon fill=\"#39e581\" stroke=\"black\" points=\"1173,-68 1052,-68 1052,0 1173,0 1173,-68\"/>\n<text text-anchor=\"middle\" x=\"1112.5\" y=\"-52.8\" font-family=\"Helvetica,sans-Serif\" font-size=\"14.00\">entropy = 0.0</text>\n<text text-anchor=\"middle\" x=\"1112.5\" y=\"-37.8\" font-family=\"Helvetica,sans-Serif\" font-size=\"14.00\">samples = 1</text>\n<text text-anchor=\"middle\" x=\"1112.5\" y=\"-22.8\" font-family=\"Helvetica,sans-Serif\" font-size=\"14.00\">value = [0, 1, 0]</text>\n<text text-anchor=\"middle\" x=\"1112.5\" y=\"-7.8\" font-family=\"Helvetica,sans-Serif\" font-size=\"14.00\">class = versicolor</text>\n</g>\n<!-- 25&#45;&gt;27 -->\n<g id=\"edge27\" class=\"edge\">\n<title>25&#45;&gt;27</title>\n<path fill=\"none\" stroke=\"black\" d=\"M1079.24,-103.73C1083.39,-95.15 1087.77,-86.09 1091.95,-77.46\"/>\n<polygon fill=\"black\" stroke=\"black\" points=\"1095.18,-78.83 1096.38,-68.3 1088.88,-75.78 1095.18,-78.83\"/>\n</g>\n</g>\n</svg>\n",
            "text/plain": [
              "<graphviz.sources.Source at 0x784a48efb370>"
            ]
          },
          "metadata": {}
        }
      ],
      "source": [
        "import graphviz\n",
        "\n",
        "with open('tree_2.dot') as f:\n",
        "    dot_graph = f.read()\n",
        "display(graphviz.Source(dot_graph))"
      ]
    },
    {
      "cell_type": "code",
      "execution_count": null,
      "metadata": {
        "id": "F4xhttEPKpri",
        "colab": {
          "base_uri": "https://localhost:8080/"
        },
        "outputId": "beab309f-8766-406d-a335-3af090b32f5d"
      },
      "outputs": [
        {
          "output_type": "stream",
          "name": "stdout",
          "text": [
            "train score : 0.812\n",
            "test socre : 0.684\n"
          ]
        }
      ],
      "source": [
        "print('train score : {:.3f}'.format(model_dt.score(X_train, y_train)))\n",
        "print('test socre : {:.3f}'.format(model_dt.score(X_test, y_test)))"
      ]
    },
    {
      "cell_type": "markdown",
      "metadata": {
        "id": "miTPEBs2Kprk"
      },
      "source": [
        "- max_depth를 6로 설정한 결과이다. 이전의 모델보다 깊게 설정한 결과 과적합이 발생했다."
      ]
    },
    {
      "cell_type": "code",
      "execution_count": null,
      "metadata": {
        "id": "TvgiJawIKprk",
        "colab": {
          "base_uri": "https://localhost:8080/",
          "height": 352
        },
        "outputId": "b88b5906-7706-4679-856c-2a5686edcca3"
      },
      "outputs": [
        {
          "output_type": "display_data",
          "data": {
            "text/plain": [
              "<Figure size 1000x500 with 1 Axes>"
            ],
            "image/png": "[encoded data removed]"
          },
          "metadata": {}
        }
      ],
      "source": [
        "model_border(model_dt, X_train, y_train)"
      ]
    },
    {
      "cell_type": "markdown",
      "metadata": {
        "id": "CLOAedrHKprm"
      },
      "source": [
        "- 이전의 모델과 달리 max_depth를 6로 설정하였더니 결정트리의 경계가 더 많이 생성된 것을 볼 수 있다."
      ]
    },
    {
      "cell_type": "code",
      "execution_count": null,
      "metadata": {
        "id": "UBI8_n75Kprn"
      },
      "outputs": [],
      "source": [
        "# 특성의 중요도를 살펴보기 위해 모든 특성을 사용했다.\n",
        "X_train, X_test, y_train, y_test = train_test_split(iris.data, iris.target,\n",
        "                                                   stratify = iris.target,\n",
        "                                                   shuffle = True)\n",
        "model_dt = DecisionTreeClassifier(criterion = 'entropy', max_depth = 6,\n",
        "                                  random_state = 0).fit(X_train, y_train)"
      ]
    },
    {
      "cell_type": "code",
      "execution_count": null,
      "metadata": {
        "id": "cE5RQAkhKpro",
        "colab": {
          "base_uri": "https://localhost:8080/"
        },
        "outputId": "89004da8-e74b-41b9-915c-280f573a4bcb"
      },
      "outputs": [
        {
          "output_type": "execute_result",
          "data": {
            "text/plain": [
              "array([0.        , 0.03104047, 0.30738323, 0.6615763 ])"
            ]
          },
          "metadata": {},
          "execution_count": 21
        }
      ],
      "source": [
        "model_dt.feature_importances_"
      ]
    },
    {
      "cell_type": "markdown",
      "metadata": {
        "id": "hPWXB5xXKprq"
      },
      "source": [
        "feature_importances_는 트리를 만들떄 특성이 얼마나 중요한지를 평가할 수 있는 명렁어이다. 값은 0과 1사이의 숫자로 나타나며 0은 전혀 사용되지 않았음을 나타낸다."
      ]
    },
    {
      "cell_type": "code",
      "execution_count": null,
      "metadata": {
        "id": "cG9HaGI-Kprr",
        "colab": {
          "base_uri": "https://localhost:8080/",
          "height": 344
        },
        "outputId": "b3bab5bd-2101-4db3-c48a-626aeca05c30"
      },
      "outputs": [
        {
          "output_type": "display_data",
          "data": {
            "text/plain": [
              "<Figure size 1000x500 with 1 Axes>"
            ],
            "image/png": "[encoded data removed]"
          },
          "metadata": {}
        }
      ],
      "source": [
        "# 중요도를 그래프로 그려보자.\n",
        "plt.figure(figsize = (10,5))\n",
        "plt.bar(np.arange(iris.data.shape[1]), model_dt.feature_importances_)\n",
        "plt.xticks(np.arange(iris.data.shape[1]), iris.feature_names)\n",
        "plt.xlim(-1, iris.data.shape[1])\n",
        "plt.show()"
      ]
    },
    {
      "cell_type": "markdown",
      "metadata": {
        "id": "SBT4dSgjKprw"
      },
      "source": [
        "- sepal length특성은 트리 모델에서 전혀 사용되지 않았으며 가장 중요한 특성은 petal width이다."
      ]
    },
    {
      "cell_type": "markdown",
      "metadata": {
        "id": "lFKHfQv8Kprw"
      },
      "source": [
        "### Decision Tree Regressor"
      ]
    },
    {
      "cell_type": "code",
      "execution_count": null,
      "metadata": {
        "id": "KPlpotFJKprx"
      },
      "outputs": [],
      "source": [
        "from sklearn.tree import DecisionTreeRegressor\n",
        "from sklearn.model_selection import train_test_split\n",
        "from sklearn.datasets import load_boston"
      ]
    },
    {
      "cell_type": "code",
      "execution_count": null,
      "metadata": {
        "id": "AFsLP-Bt6xes"
      },
      "outputs": [],
      "source": [
        "DecisionTreeRegressor?"
      ]
    },
    {
      "cell_type": "code",
      "execution_count": null,
      "metadata": {
        "id": "i6Gc50xPKprz"
      },
      "outputs": [],
      "source": [
        "# boston = load_boston()\n",
        "import pandas as pd\n",
        "import numpy as np\n",
        "\n",
        "data_url = \"http://lib.stat.cmu.edu/datasets/boston\"\n",
        "raw_df = pd.read_csv(data_url, sep=\"\\s+\", skiprows=22, header=None)\n",
        "data = np.hstack([raw_df.values[::2, :], raw_df.values[1::2, :2]])\n",
        "target = raw_df.values[1::2, 2]\n",
        "\n",
        "X_train, X_test, y_train, y_test = train_test_split(data, target,\n",
        "                                                   test_size = 0.2, shuffle = True)"
      ]
    },
    {
      "cell_type": "code",
      "execution_count": null,
      "metadata": {
        "id": "iGNz0PEpKpr1"
      },
      "outputs": [],
      "source": [
        "tree_reg = DecisionTreeRegressor(criterion = 'friedman_mse',max_depth = 1,\n",
        "                                random_state = 0).fit(X_train, y_train)"
      ]
    },
    {
      "cell_type": "markdown",
      "metadata": {
        "id": "xhLSH_B9Kpr3"
      },
      "source": [
        "- DecisionTreeClassifier와 똑같은 파라미터들을 가지고 있다.\n",
        "- criterion의 경우 결정트리 분류모델과는 다른 값들을 가진다. 기본값으로는 평균 제곱 오차인 'squared_error'로 설정되어 있다. 그 외에 프리드먼 개선 점수와 평균 제곱 오차를 사용하는 'friedman_mse'와 터미널 노드의 중간값을 사용하여 L1 loss를 최소화하는 'absolute_error'가 있다.\n",
        "\n",
        "* 터미널 노드는 가지가 밑으로 더이상 생성되지 않는 노드를 말한다. leaf node라고도 한다."
      ]
    },
    {
      "cell_type": "code",
      "execution_count": null,
      "metadata": {
        "id": "M5A2-MFpKpr3"
      },
      "outputs": [],
      "source": [
        "from sklearn.tree import export_graphviz\n",
        "export_graphviz(tree_reg, out_file = 'tree_reg.dot', #feature_names = boston.feature_names\n",
        "                filled = True)"
      ]
    },
    {
      "cell_type": "code",
      "execution_count": null,
      "metadata": {
        "id": "e-qVw7uwKpr5",
        "colab": {
          "base_uri": "https://localhost:8080/",
          "height": 240
        },
        "outputId": "d1072c78-cdeb-4b95-e9e9-26d01361ba6e"
      },
      "outputs": [
        {
          "output_type": "display_data",
          "data": {
            "image/svg+xml": "<?xml version=\"1.0\" encoding=\"UTF-8\" standalone=\"no\"?>\n<!DOCTYPE svg PUBLIC \"-//W3C//DTD SVG 1.1//EN\"\n \"http://www.w3.org/Graphics/SVG/1.1/DTD/svg11.dtd\">\n<!-- Generated by graphviz version 2.43.0 (0)\n -->\n<!-- Title: Tree Pages: 1 -->\n<svg width=\"348pt\" height=\"165pt\"\n viewBox=\"0.00 0.00 348.00 165.00\" xmlns=\"http://www.w3.org/2000/svg\" xmlns:xlink=\"http://www.w3.org/1999/xlink\">\n<g id=\"graph0\" class=\"graph\" transform=\"scale(1 1) rotate(0) translate(4 161)\">\n<title>Tree</title>\n<polygon fill=\"white\" stroke=\"transparent\" points=\"-4,4 -4,-161 344,-161 344,4 -4,4\"/>\n<!-- 0 -->\n<g id=\"node1\" class=\"node\">\n<title>0</title>\n<polygon fill=\"#fae6d8\" stroke=\"black\" points=\"250,-157 89,-157 89,-89 250,-89 250,-157\"/>\n<text text-anchor=\"middle\" x=\"169.5\" y=\"-141.8\" font-family=\"Helvetica,sans-Serif\" font-size=\"14.00\">x[5] &lt;= 6.797</text>\n<text text-anchor=\"middle\" x=\"169.5\" y=\"-126.8\" font-family=\"Helvetica,sans-Serif\" font-size=\"14.00\">friedman_mse = 87.498</text>\n<text text-anchor=\"middle\" x=\"169.5\" y=\"-111.8\" font-family=\"Helvetica,sans-Serif\" font-size=\"14.00\">samples = 404</text>\n<text text-anchor=\"middle\" x=\"169.5\" y=\"-96.8\" font-family=\"Helvetica,sans-Serif\" font-size=\"14.00\">value = 22.671</text>\n</g>\n<!-- 1 -->\n<g id=\"node2\" class=\"node\">\n<title>1</title>\n<polygon fill=\"#ffffff\" stroke=\"black\" points=\"161,-53 0,-53 0,0 161,0 161,-53\"/>\n<text text-anchor=\"middle\" x=\"80.5\" y=\"-37.8\" font-family=\"Helvetica,sans-Serif\" font-size=\"14.00\">friedman_mse = 36.383</text>\n<text text-anchor=\"middle\" x=\"80.5\" y=\"-22.8\" font-family=\"Helvetica,sans-Serif\" font-size=\"14.00\">samples = 325</text>\n<text text-anchor=\"middle\" x=\"80.5\" y=\"-7.8\" font-family=\"Helvetica,sans-Serif\" font-size=\"14.00\">value = 19.448</text>\n</g>\n<!-- 0&#45;&gt;1 -->\n<g id=\"edge1\" class=\"edge\">\n<title>0&#45;&gt;1</title>\n<path fill=\"none\" stroke=\"black\" d=\"M138.37,-88.95C129.76,-79.8 120.4,-69.87 111.78,-60.71\"/>\n<polygon fill=\"black\" stroke=\"black\" points=\"114.14,-58.12 104.74,-53.24 109.05,-62.92 114.14,-58.12\"/>\n<text text-anchor=\"middle\" x=\"103.99\" y=\"-74.53\" font-family=\"Helvetica,sans-Serif\" font-size=\"14.00\">True</text>\n</g>\n<!-- 2 -->\n<g id=\"node3\" class=\"node\">\n<title>2</title>\n<polygon fill=\"#e58139\" stroke=\"black\" points=\"340,-53 179,-53 179,0 340,0 340,-53\"/>\n<text text-anchor=\"middle\" x=\"259.5\" y=\"-37.8\" font-family=\"Helvetica,sans-Serif\" font-size=\"14.00\">friedman_mse = 79.312</text>\n<text text-anchor=\"middle\" x=\"259.5\" y=\"-22.8\" font-family=\"Helvetica,sans-Serif\" font-size=\"14.00\">samples = 79</text>\n<text text-anchor=\"middle\" x=\"259.5\" y=\"-7.8\" font-family=\"Helvetica,sans-Serif\" font-size=\"14.00\">value = 35.928</text>\n</g>\n<!-- 0&#45;&gt;2 -->\n<g id=\"edge2\" class=\"edge\">\n<title>0&#45;&gt;2</title>\n<path fill=\"none\" stroke=\"black\" d=\"M200.98,-88.95C209.69,-79.8 219.15,-69.87 227.87,-60.71\"/>\n<polygon fill=\"black\" stroke=\"black\" points=\"230.63,-62.89 234.99,-53.24 225.56,-58.06 230.63,-62.89\"/>\n<text text-anchor=\"middle\" x=\"235.6\" y=\"-74.53\" font-family=\"Helvetica,sans-Serif\" font-size=\"14.00\">False</text>\n</g>\n</g>\n</svg>\n",
            "text/plain": [
              "<graphviz.sources.Source at 0x784a48c91a50>"
            ]
          },
          "metadata": {}
        }
      ],
      "source": [
        "import graphviz\n",
        "\n",
        "with open('tree_reg.dot') as f:\n",
        "    dot_graph = f.read()\n",
        "display(graphviz.Source(dot_graph))"
      ]
    },
    {
      "cell_type": "code",
      "execution_count": null,
      "metadata": {
        "id": "6n6vnCPAKpr7",
        "colab": {
          "base_uri": "https://localhost:8080/"
        },
        "outputId": "b5adc47a-6bf4-4a66-8185-3b1e6bd61849"
      },
      "outputs": [
        {
          "output_type": "stream",
          "name": "stdout",
          "text": [
            "train score : 0.488\n",
            "test score : 0.207\n"
          ]
        }
      ],
      "source": [
        "print(\"train score : {:.3f}\".format(tree_reg.score(X_train, y_train)))\n",
        "print(\"test score : {:.3f}\".format(tree_reg.score(X_test, y_test)))"
      ]
    },
    {
      "cell_type": "code",
      "execution_count": null,
      "metadata": {
        "id": "TXuXuGbDKpr9"
      },
      "outputs": [],
      "source": [
        "tree_reg = DecisionTreeRegressor(criterion = 'absolute_error',max_depth = 4,\n",
        "                                random_state = 0).fit(X_train, y_train)"
      ]
    },
    {
      "cell_type": "code",
      "execution_count": null,
      "metadata": {
        "id": "Od92h4AFKpr_"
      },
      "outputs": [],
      "source": [
        "from sklearn.tree import export_graphviz\n",
        "export_graphviz(tree_reg, out_file = 'tree_reg1.dot', #feature_names = boston.feature_names\n",
        "                filled = True)"
      ]
    },
    {
      "cell_type": "code",
      "execution_count": null,
      "metadata": {
        "id": "eMRcGMFwKpsA",
        "colab": {
          "base_uri": "https://localhost:8080/",
          "height": 676
        },
        "outputId": "f949d739-f41c-4968-aa2f-5b18009324e2"
      },
      "outputs": [
        {
          "output_type": "display_data",
          "data": {
            "image/svg+xml": "<?xml version=\"1.0\" encoding=\"UTF-8\" standalone=\"no\"?>\n<!DOCTYPE svg PUBLIC \"-//W3C//DTD SVG 1.1//EN\"\n \"http://www.w3.org/Graphics/SVG/1.1/DTD/svg11.dtd\">\n<!-- Generated by graphviz version 2.43.0 (0)\n -->\n<!-- Title: Tree Pages: 1 -->\n<svg width=\"2610pt\" height=\"477pt\"\n viewBox=\"0.00 0.00 2610.00 477.00\" xmlns=\"http://www.w3.org/2000/svg\" xmlns:xlink=\"http://www.w3.org/1999/xlink\">\n<g id=\"graph0\" class=\"graph\" transform=\"scale(1 1) rotate(0) translate(4 473)\">\n<title>Tree</title>\n<polygon fill=\"white\" stroke=\"transparent\" points=\"-4,4 -4,-473 2606,-473 2606,4 -4,4\"/>\n<!-- 0 -->\n<g id=\"node1\" class=\"node\">\n<title>0</title>\n<polygon fill=\"#f8dcc9\" stroke=\"black\" points=\"1388.5,-469 1235.5,-469 1235.5,-401 1388.5,-401 1388.5,-469\"/>\n<text text-anchor=\"middle\" x=\"1312\" y=\"-453.8\" font-family=\"Helvetica,sans-Serif\" font-size=\"14.00\">x[5] &lt;= 6.797</text>\n<text text-anchor=\"middle\" x=\"1312\" y=\"-438.8\" font-family=\"Helvetica,sans-Serif\" font-size=\"14.00\">absolute_error = 6.665</text>\n<text text-anchor=\"middle\" x=\"1312\" y=\"-423.8\" font-family=\"Helvetica,sans-Serif\" font-size=\"14.00\">samples = 404</text>\n<text text-anchor=\"middle\" x=\"1312\" y=\"-408.8\" font-family=\"Helvetica,sans-Serif\" font-size=\"14.00\">value = 21.1</text>\n</g>\n<!-- 1 -->\n<g id=\"node2\" class=\"node\">\n<title>1</title>\n<polygon fill=\"#f9e0cf\" stroke=\"black\" points=\"1050.5,-365 897.5,-365 897.5,-297 1050.5,-297 1050.5,-365\"/>\n<text text-anchor=\"middle\" x=\"974\" y=\"-349.8\" font-family=\"Helvetica,sans-Serif\" font-size=\"14.00\">x[12] &lt;= 14.915</text>\n<text text-anchor=\"middle\" x=\"974\" y=\"-334.8\" font-family=\"Helvetica,sans-Serif\" font-size=\"14.00\">absolute_error = 4.396</text>\n<text text-anchor=\"middle\" x=\"974\" y=\"-319.8\" font-family=\"Helvetica,sans-Serif\" font-size=\"14.00\">samples = 325</text>\n<text text-anchor=\"middle\" x=\"974\" y=\"-304.8\" font-family=\"Helvetica,sans-Serif\" font-size=\"14.00\">value = 19.9</text>\n</g>\n<!-- 0&#45;&gt;1 -->\n<g id=\"edge1\" class=\"edge\">\n<title>0&#45;&gt;1</title>\n<path fill=\"none\" stroke=\"black\" d=\"M1235.3,-410.85C1183.32,-395.17 1114.53,-374.41 1060.58,-358.13\"/>\n<polygon fill=\"black\" stroke=\"black\" points=\"1061.27,-354.68 1050.69,-355.14 1059.25,-361.38 1061.27,-354.68\"/>\n<text text-anchor=\"middle\" x=\"1062.5\" y=\"-373.47\" font-family=\"Helvetica,sans-Serif\" font-size=\"14.00\">True</text>\n</g>\n<!-- 16 -->\n<g id=\"node17\" class=\"node\">\n<title>16</title>\n<polygon fill=\"#efb184\" stroke=\"black\" points=\"1730.5,-365 1577.5,-365 1577.5,-297 1730.5,-297 1730.5,-365\"/>\n<text text-anchor=\"middle\" x=\"1654\" y=\"-349.8\" font-family=\"Helvetica,sans-Serif\" font-size=\"14.00\">x[5] &lt;= 7.437</text>\n<text text-anchor=\"middle\" x=\"1654\" y=\"-334.8\" font-family=\"Helvetica,sans-Serif\" font-size=\"14.00\">absolute_error = 6.904</text>\n<text text-anchor=\"middle\" x=\"1654\" y=\"-319.8\" font-family=\"Helvetica,sans-Serif\" font-size=\"14.00\">samples = 79</text>\n<text text-anchor=\"middle\" x=\"1654\" y=\"-304.8\" font-family=\"Helvetica,sans-Serif\" font-size=\"14.00\">value = 34.9</text>\n</g>\n<!-- 0&#45;&gt;16 -->\n<g id=\"edge16\" class=\"edge\">\n<title>0&#45;&gt;16</title>\n<path fill=\"none\" stroke=\"black\" d=\"M1388.75,-411.11C1441.79,-395.29 1512.43,-374.22 1567.47,-357.81\"/>\n<polygon fill=\"black\" stroke=\"black\" points=\"1568.63,-361.11 1577.21,-354.9 1566.63,-354.41 1568.63,-361.11\"/>\n<text text-anchor=\"middle\" x=\"1565.32\" y=\"-373.2\" font-family=\"Helvetica,sans-Serif\" font-size=\"14.00\">False</text>\n</g>\n<!-- 2 -->\n<g id=\"node3\" class=\"node\">\n<title>2</title>\n<polygon fill=\"#f7dac5\" stroke=\"black\" points=\"557.5,-261 404.5,-261 404.5,-193 557.5,-193 557.5,-261\"/>\n<text text-anchor=\"middle\" x=\"481\" y=\"-245.8\" font-family=\"Helvetica,sans-Serif\" font-size=\"14.00\">x[12] &lt;= 7.685</text>\n<text text-anchor=\"middle\" x=\"481\" y=\"-230.8\" font-family=\"Helvetica,sans-Serif\" font-size=\"14.00\">absolute_error = 3.153</text>\n<text text-anchor=\"middle\" x=\"481\" y=\"-215.8\" font-family=\"Helvetica,sans-Serif\" font-size=\"14.00\">samples = 198</text>\n<text text-anchor=\"middle\" x=\"481\" y=\"-200.8\" font-family=\"Helvetica,sans-Serif\" font-size=\"14.00\">value = 21.85</text>\n</g>\n<!-- 1&#45;&gt;2 -->\n<g id=\"edge2\" class=\"edge\">\n<title>1&#45;&gt;2</title>\n<path fill=\"none\" stroke=\"black\" d=\"M897.24,-314.12C807.94,-295.64 660.85,-265.21 567.56,-245.91\"/>\n<polygon fill=\"black\" stroke=\"black\" points=\"568.08,-242.44 557.58,-243.84 566.66,-249.3 568.08,-242.44\"/>\n</g>\n<!-- 9 -->\n<g id=\"node10\" class=\"node\">\n<title>9</title>\n<polygon fill=\"#fcf2eb\" stroke=\"black\" points=\"1050.5,-261 897.5,-261 897.5,-193 1050.5,-193 1050.5,-261\"/>\n<text text-anchor=\"middle\" x=\"974\" y=\"-245.8\" font-family=\"Helvetica,sans-Serif\" font-size=\"14.00\">x[0] &lt;= 0.699</text>\n<text text-anchor=\"middle\" x=\"974\" y=\"-230.8\" font-family=\"Helvetica,sans-Serif\" font-size=\"14.00\">absolute_error = 3.473</text>\n<text text-anchor=\"middle\" x=\"974\" y=\"-215.8\" font-family=\"Helvetica,sans-Serif\" font-size=\"14.00\">samples = 127</text>\n<text text-anchor=\"middle\" x=\"974\" y=\"-200.8\" font-family=\"Helvetica,sans-Serif\" font-size=\"14.00\">value = 14.3</text>\n</g>\n<!-- 1&#45;&gt;9 -->\n<g id=\"edge9\" class=\"edge\">\n<title>1&#45;&gt;9</title>\n<path fill=\"none\" stroke=\"black\" d=\"M974,-296.88C974,-288.78 974,-279.98 974,-271.47\"/>\n<polygon fill=\"black\" stroke=\"black\" points=\"977.5,-271.3 974,-261.3 970.5,-271.3 977.5,-271.3\"/>\n</g>\n<!-- 3 -->\n<g id=\"node4\" class=\"node\">\n<title>3</title>\n<polygon fill=\"#f6d1b7\" stroke=\"black\" points=\"309.5,-157 156.5,-157 156.5,-89 309.5,-89 309.5,-157\"/>\n<text text-anchor=\"middle\" x=\"233\" y=\"-141.8\" font-family=\"Helvetica,sans-Serif\" font-size=\"14.00\">x[7] &lt;= 1.473</text>\n<text text-anchor=\"middle\" x=\"233\" y=\"-126.8\" font-family=\"Helvetica,sans-Serif\" font-size=\"14.00\">absolute_error = 2.711</text>\n<text text-anchor=\"middle\" x=\"233\" y=\"-111.8\" font-family=\"Helvetica,sans-Serif\" font-size=\"14.00\">samples = 54</text>\n<text text-anchor=\"middle\" x=\"233\" y=\"-96.8\" font-family=\"Helvetica,sans-Serif\" font-size=\"14.00\">value = 24.65</text>\n</g>\n<!-- 2&#45;&gt;3 -->\n<g id=\"edge3\" class=\"edge\">\n<title>2&#45;&gt;3</title>\n<path fill=\"none\" stroke=\"black\" d=\"M404.23,-194.43C377.26,-183.33 346.79,-170.8 319.11,-159.41\"/>\n<polygon fill=\"black\" stroke=\"black\" points=\"320.41,-156.17 309.83,-155.6 317.75,-162.64 320.41,-156.17\"/>\n</g>\n<!-- 6 -->\n<g id=\"node7\" class=\"node\">\n<title>6</title>\n<polygon fill=\"#f8decb\" stroke=\"black\" points=\"554,-157 408,-157 408,-89 554,-89 554,-157\"/>\n<text text-anchor=\"middle\" x=\"481\" y=\"-141.8\" font-family=\"Helvetica,sans-Serif\" font-size=\"14.00\">x[7] &lt;= 1.291</text>\n<text text-anchor=\"middle\" x=\"481\" y=\"-126.8\" font-family=\"Helvetica,sans-Serif\" font-size=\"14.00\">absolute_error = 2.59</text>\n<text text-anchor=\"middle\" x=\"481\" y=\"-111.8\" font-family=\"Helvetica,sans-Serif\" font-size=\"14.00\">samples = 144</text>\n<text text-anchor=\"middle\" x=\"481\" y=\"-96.8\" font-family=\"Helvetica,sans-Serif\" font-size=\"14.00\">value = 20.65</text>\n</g>\n<!-- 2&#45;&gt;6 -->\n<g id=\"edge6\" class=\"edge\">\n<title>2&#45;&gt;6</title>\n<path fill=\"none\" stroke=\"black\" d=\"M481,-192.88C481,-184.78 481,-175.98 481,-167.47\"/>\n<polygon fill=\"black\" stroke=\"black\" points=\"484.5,-167.3 481,-157.3 477.5,-167.3 484.5,-167.3\"/>\n</g>\n<!-- 4 -->\n<g id=\"node5\" class=\"node\">\n<title>4</title>\n<polygon fill=\"#e58139\" stroke=\"black\" points=\"138,-53 0,-53 0,0 138,0 138,-53\"/>\n<text text-anchor=\"middle\" x=\"69\" y=\"-37.8\" font-family=\"Helvetica,sans-Serif\" font-size=\"14.00\">absolute_error = 0.0</text>\n<text text-anchor=\"middle\" x=\"69\" y=\"-22.8\" font-family=\"Helvetica,sans-Serif\" font-size=\"14.00\">samples = 1</text>\n<text text-anchor=\"middle\" x=\"69\" y=\"-7.8\" font-family=\"Helvetica,sans-Serif\" font-size=\"14.00\">value = 50.0</text>\n</g>\n<!-- 3&#45;&gt;4 -->\n<g id=\"edge4\" class=\"edge\">\n<title>3&#45;&gt;4</title>\n<path fill=\"none\" stroke=\"black\" d=\"M175.64,-88.95C158.26,-78.93 139.25,-67.98 122.15,-58.13\"/>\n<polygon fill=\"black\" stroke=\"black\" points=\"123.82,-55.05 113.4,-53.09 120.32,-61.11 123.82,-55.05\"/>\n</g>\n<!-- 5 -->\n<g id=\"node6\" class=\"node\">\n<title>5</title>\n<polygon fill=\"#f6d1b7\" stroke=\"black\" points=\"309.5,-53 156.5,-53 156.5,0 309.5,0 309.5,-53\"/>\n<text text-anchor=\"middle\" x=\"233\" y=\"-37.8\" font-family=\"Helvetica,sans-Serif\" font-size=\"14.00\">absolute_error = 2.283</text>\n<text text-anchor=\"middle\" x=\"233\" y=\"-22.8\" font-family=\"Helvetica,sans-Serif\" font-size=\"14.00\">samples = 53</text>\n<text text-anchor=\"middle\" x=\"233\" y=\"-7.8\" font-family=\"Helvetica,sans-Serif\" font-size=\"14.00\">value = 24.6</text>\n</g>\n<!-- 3&#45;&gt;5 -->\n<g id=\"edge5\" class=\"edge\">\n<title>3&#45;&gt;5</title>\n<path fill=\"none\" stroke=\"black\" d=\"M233,-88.95C233,-80.72 233,-71.85 233,-63.48\"/>\n<polygon fill=\"black\" stroke=\"black\" points=\"236.5,-63.24 233,-53.24 229.5,-63.24 236.5,-63.24\"/>\n</g>\n<!-- 7 -->\n<g id=\"node8\" class=\"node\">\n<title>7</title>\n<polygon fill=\"#e58139\" stroke=\"black\" points=\"466,-53 328,-53 328,0 466,0 466,-53\"/>\n<text text-anchor=\"middle\" x=\"397\" y=\"-37.8\" font-family=\"Helvetica,sans-Serif\" font-size=\"14.00\">absolute_error = 0.0</text>\n<text text-anchor=\"middle\" x=\"397\" y=\"-22.8\" font-family=\"Helvetica,sans-Serif\" font-size=\"14.00\">samples = 2</text>\n<text text-anchor=\"middle\" x=\"397\" y=\"-7.8\" font-family=\"Helvetica,sans-Serif\" font-size=\"14.00\">value = 50.0</text>\n</g>\n<!-- 6&#45;&gt;7 -->\n<g id=\"edge7\" class=\"edge\">\n<title>6&#45;&gt;7</title>\n<path fill=\"none\" stroke=\"black\" d=\"M451.62,-88.95C443.49,-79.8 434.66,-69.87 426.52,-60.71\"/>\n<polygon fill=\"black\" stroke=\"black\" points=\"429.14,-58.39 419.88,-53.24 423.9,-63.04 429.14,-58.39\"/>\n</g>\n<!-- 8 -->\n<g id=\"node9\" class=\"node\">\n<title>8</title>\n<polygon fill=\"#f8decb\" stroke=\"black\" points=\"637.5,-53 484.5,-53 484.5,0 637.5,0 637.5,-53\"/>\n<text text-anchor=\"middle\" x=\"561\" y=\"-37.8\" font-family=\"Helvetica,sans-Serif\" font-size=\"14.00\">absolute_error = 2.212</text>\n<text text-anchor=\"middle\" x=\"561\" y=\"-22.8\" font-family=\"Helvetica,sans-Serif\" font-size=\"14.00\">samples = 142</text>\n<text text-anchor=\"middle\" x=\"561\" y=\"-7.8\" font-family=\"Helvetica,sans-Serif\" font-size=\"14.00\">value = 20.6</text>\n</g>\n<!-- 6&#45;&gt;8 -->\n<g id=\"edge8\" class=\"edge\">\n<title>6&#45;&gt;8</title>\n<path fill=\"none\" stroke=\"black\" d=\"M508.98,-88.95C516.65,-79.89 524.96,-70.07 532.65,-60.99\"/>\n<polygon fill=\"black\" stroke=\"black\" points=\"535.42,-63.13 539.21,-53.24 530.08,-58.61 535.42,-63.13\"/>\n</g>\n<!-- 10 -->\n<g id=\"node11\" class=\"node\">\n<title>10</title>\n<polygon fill=\"#f9e4d4\" stroke=\"black\" points=\"965.5,-157 812.5,-157 812.5,-89 965.5,-89 965.5,-157\"/>\n<text text-anchor=\"middle\" x=\"889\" y=\"-141.8\" font-family=\"Helvetica,sans-Serif\" font-size=\"14.00\">x[7] &lt;= 1.883</text>\n<text text-anchor=\"middle\" x=\"889\" y=\"-126.8\" font-family=\"Helvetica,sans-Serif\" font-size=\"14.00\">absolute_error = 2.541</text>\n<text text-anchor=\"middle\" x=\"889\" y=\"-111.8\" font-family=\"Helvetica,sans-Serif\" font-size=\"14.00\">samples = 39</text>\n<text text-anchor=\"middle\" x=\"889\" y=\"-96.8\" font-family=\"Helvetica,sans-Serif\" font-size=\"14.00\">value = 18.8</text>\n</g>\n<!-- 9&#45;&gt;10 -->\n<g id=\"edge10\" class=\"edge\">\n<title>9&#45;&gt;10</title>\n<path fill=\"none\" stroke=\"black\" d=\"M946.4,-192.88C939.05,-184.07 931.03,-174.43 923.36,-165.24\"/>\n<polygon fill=\"black\" stroke=\"black\" points=\"925.84,-162.74 916.75,-157.3 920.46,-167.22 925.84,-162.74\"/>\n</g>\n<!-- 13 -->\n<g id=\"node14\" class=\"node\">\n<title>13</title>\n<polygon fill=\"#fdf5f0\" stroke=\"black\" points=\"1136.5,-157 983.5,-157 983.5,-89 1136.5,-89 1136.5,-157\"/>\n<text text-anchor=\"middle\" x=\"1060\" y=\"-141.8\" font-family=\"Helvetica,sans-Serif\" font-size=\"14.00\">x[0] &lt;= 11.369</text>\n<text text-anchor=\"middle\" x=\"1060\" y=\"-126.8\" font-family=\"Helvetica,sans-Serif\" font-size=\"14.00\">absolute_error = 2.635</text>\n<text text-anchor=\"middle\" x=\"1060\" y=\"-111.8\" font-family=\"Helvetica,sans-Serif\" font-size=\"14.00\">samples = 88</text>\n<text text-anchor=\"middle\" x=\"1060\" y=\"-96.8\" font-family=\"Helvetica,sans-Serif\" font-size=\"14.00\">value = 13.3</text>\n</g>\n<!-- 9&#45;&gt;13 -->\n<g id=\"edge13\" class=\"edge\">\n<title>9&#45;&gt;13</title>\n<path fill=\"none\" stroke=\"black\" d=\"M1001.92,-192.88C1009.43,-183.98 1017.64,-174.24 1025.47,-164.96\"/>\n<polygon fill=\"black\" stroke=\"black\" points=\"1028.15,-167.2 1031.92,-157.3 1022.8,-162.69 1028.15,-167.2\"/>\n</g>\n<!-- 11 -->\n<g id=\"node12\" class=\"node\">\n<title>11</title>\n<polygon fill=\"#fdf3ec\" stroke=\"black\" points=\"794,-53 656,-53 656,0 794,0 794,-53\"/>\n<text text-anchor=\"middle\" x=\"725\" y=\"-37.8\" font-family=\"Helvetica,sans-Serif\" font-size=\"14.00\">absolute_error = 2.9</text>\n<text text-anchor=\"middle\" x=\"725\" y=\"-22.8\" font-family=\"Helvetica,sans-Serif\" font-size=\"14.00\">samples = 7</text>\n<text text-anchor=\"middle\" x=\"725\" y=\"-7.8\" font-family=\"Helvetica,sans-Serif\" font-size=\"14.00\">value = 14.0</text>\n</g>\n<!-- 10&#45;&gt;11 -->\n<g id=\"edge11\" class=\"edge\">\n<title>10&#45;&gt;11</title>\n<path fill=\"none\" stroke=\"black\" d=\"M831.64,-88.95C814.26,-78.93 795.25,-67.98 778.15,-58.13\"/>\n<polygon fill=\"black\" stroke=\"black\" points=\"779.82,-55.05 769.4,-53.09 776.32,-61.11 779.82,-55.05\"/>\n</g>\n<!-- 12 -->\n<g id=\"node13\" class=\"node\">\n<title>12</title>\n<polygon fill=\"#f9e2d1\" stroke=\"black\" points=\"965.5,-53 812.5,-53 812.5,0 965.5,0 965.5,-53\"/>\n<text text-anchor=\"middle\" x=\"889\" y=\"-37.8\" font-family=\"Helvetica,sans-Serif\" font-size=\"14.00\">absolute_error = 1.787</text>\n<text text-anchor=\"middle\" x=\"889\" y=\"-22.8\" font-family=\"Helvetica,sans-Serif\" font-size=\"14.00\">samples = 32</text>\n<text text-anchor=\"middle\" x=\"889\" y=\"-7.8\" font-family=\"Helvetica,sans-Serif\" font-size=\"14.00\">value = 19.4</text>\n</g>\n<!-- 10&#45;&gt;12 -->\n<g id=\"edge12\" class=\"edge\">\n<title>10&#45;&gt;12</title>\n<path fill=\"none\" stroke=\"black\" d=\"M889,-88.95C889,-80.72 889,-71.85 889,-63.48\"/>\n<polygon fill=\"black\" stroke=\"black\" points=\"892.5,-63.24 889,-53.24 885.5,-63.24 892.5,-63.24\"/>\n</g>\n<!-- 14 -->\n<g id=\"node15\" class=\"node\">\n<title>14</title>\n<polygon fill=\"#fdf3ec\" stroke=\"black\" points=\"1136.5,-53 983.5,-53 983.5,0 1136.5,0 1136.5,-53\"/>\n<text text-anchor=\"middle\" x=\"1060\" y=\"-37.8\" font-family=\"Helvetica,sans-Serif\" font-size=\"14.00\">absolute_error = 2.012</text>\n<text text-anchor=\"middle\" x=\"1060\" y=\"-22.8\" font-family=\"Helvetica,sans-Serif\" font-size=\"14.00\">samples = 60</text>\n<text text-anchor=\"middle\" x=\"1060\" y=\"-7.8\" font-family=\"Helvetica,sans-Serif\" font-size=\"14.00\">value = 14.0</text>\n</g>\n<!-- 13&#45;&gt;14 -->\n<g id=\"edge14\" class=\"edge\">\n<title>13&#45;&gt;14</title>\n<path fill=\"none\" stroke=\"black\" d=\"M1060,-88.95C1060,-80.72 1060,-71.85 1060,-63.48\"/>\n<polygon fill=\"black\" stroke=\"black\" points=\"1063.5,-63.24 1060,-53.24 1056.5,-63.24 1063.5,-63.24\"/>\n</g>\n<!-- 15 -->\n<g id=\"node16\" class=\"node\">\n<title>15</title>\n<polygon fill=\"#ffffff\" stroke=\"black\" points=\"1307.5,-53 1154.5,-53 1154.5,0 1307.5,0 1307.5,-53\"/>\n<text text-anchor=\"middle\" x=\"1231\" y=\"-37.8\" font-family=\"Helvetica,sans-Serif\" font-size=\"14.00\">absolute_error = 2.057</text>\n<text text-anchor=\"middle\" x=\"1231\" y=\"-22.8\" font-family=\"Helvetica,sans-Serif\" font-size=\"14.00\">samples = 28</text>\n<text text-anchor=\"middle\" x=\"1231\" y=\"-7.8\" font-family=\"Helvetica,sans-Serif\" font-size=\"14.00\">value = 10.2</text>\n</g>\n<!-- 13&#45;&gt;15 -->\n<g id=\"edge15\" class=\"edge\">\n<title>13&#45;&gt;15</title>\n<path fill=\"none\" stroke=\"black\" d=\"M1119.81,-88.95C1137.93,-78.93 1157.76,-67.98 1175.58,-58.13\"/>\n<polygon fill=\"black\" stroke=\"black\" points=\"1177.64,-60.99 1184.7,-53.09 1174.25,-54.86 1177.64,-60.99\"/>\n</g>\n<!-- 17 -->\n<g id=\"node18\" class=\"node\">\n<title>17</title>\n<polygon fill=\"#f0b78e\" stroke=\"black\" points=\"1730.5,-261 1577.5,-261 1577.5,-193 1730.5,-193 1730.5,-261\"/>\n<text text-anchor=\"middle\" x=\"1654\" y=\"-245.8\" font-family=\"Helvetica,sans-Serif\" font-size=\"14.00\">x[4] &lt;= 0.659</text>\n<text text-anchor=\"middle\" x=\"1654\" y=\"-230.8\" font-family=\"Helvetica,sans-Serif\" font-size=\"14.00\">absolute_error = 4.271</text>\n<text text-anchor=\"middle\" x=\"1654\" y=\"-215.8\" font-family=\"Helvetica,sans-Serif\" font-size=\"14.00\">samples = 52</text>\n<text text-anchor=\"middle\" x=\"1654\" y=\"-200.8\" font-family=\"Helvetica,sans-Serif\" font-size=\"14.00\">value = 32.95</text>\n</g>\n<!-- 16&#45;&gt;17 -->\n<g id=\"edge17\" class=\"edge\">\n<title>16&#45;&gt;17</title>\n<path fill=\"none\" stroke=\"black\" d=\"M1654,-296.88C1654,-288.78 1654,-279.98 1654,-271.47\"/>\n<polygon fill=\"black\" stroke=\"black\" points=\"1657.5,-271.3 1654,-261.3 1650.5,-271.3 1657.5,-271.3\"/>\n</g>\n<!-- 24 -->\n<g id=\"node25\" class=\"node\">\n<title>24</title>\n<polygon fill=\"#e88e4d\" stroke=\"black\" points=\"2201.5,-261 2048.5,-261 2048.5,-193 2201.5,-193 2201.5,-261\"/>\n<text text-anchor=\"middle\" x=\"2125\" y=\"-245.8\" font-family=\"Helvetica,sans-Serif\" font-size=\"14.00\">x[10] &lt;= 14.8</text>\n<text text-anchor=\"middle\" x=\"2125\" y=\"-230.8\" font-family=\"Helvetica,sans-Serif\" font-size=\"14.00\">absolute_error = 4.474</text>\n<text text-anchor=\"middle\" x=\"2125\" y=\"-215.8\" font-family=\"Helvetica,sans-Serif\" font-size=\"14.00\">samples = 27</text>\n<text text-anchor=\"middle\" x=\"2125\" y=\"-200.8\" font-family=\"Helvetica,sans-Serif\" font-size=\"14.00\">value = 46.0</text>\n</g>\n<!-- 16&#45;&gt;24 -->\n<g id=\"edge24\" class=\"edge\">\n<title>16&#45;&gt;24</title>\n<path fill=\"none\" stroke=\"black\" d=\"M1730.72,-313.38C1815.06,-295.12 1950.24,-265.85 2038.34,-246.77\"/>\n<polygon fill=\"black\" stroke=\"black\" points=\"2039.28,-250.15 2048.31,-244.61 2037.8,-243.3 2039.28,-250.15\"/>\n</g>\n<!-- 18 -->\n<g id=\"node19\" class=\"node\">\n<title>18</title>\n<polygon fill=\"#f0b78d\" stroke=\"black\" points=\"1645.5,-157 1492.5,-157 1492.5,-89 1645.5,-89 1645.5,-157\"/>\n<text text-anchor=\"middle\" x=\"1569\" y=\"-141.8\" font-family=\"Helvetica,sans-Serif\" font-size=\"14.00\">x[5] &lt;= 6.962</text>\n<text text-anchor=\"middle\" x=\"1569\" y=\"-126.8\" font-family=\"Helvetica,sans-Serif\" font-size=\"14.00\">absolute_error = 3.392</text>\n<text text-anchor=\"middle\" x=\"1569\" y=\"-111.8\" font-family=\"Helvetica,sans-Serif\" font-size=\"14.00\">samples = 49</text>\n<text text-anchor=\"middle\" x=\"1569\" y=\"-96.8\" font-family=\"Helvetica,sans-Serif\" font-size=\"14.00\">value = 33.1</text>\n</g>\n<!-- 17&#45;&gt;18 -->\n<g id=\"edge18\" class=\"edge\">\n<title>17&#45;&gt;18</title>\n<path fill=\"none\" stroke=\"black\" d=\"M1626.4,-192.88C1619.05,-184.07 1611.03,-174.43 1603.36,-165.24\"/>\n<polygon fill=\"black\" stroke=\"black\" points=\"1605.84,-162.74 1596.75,-157.3 1600.46,-167.22 1605.84,-162.74\"/>\n</g>\n<!-- 21 -->\n<g id=\"node22\" class=\"node\">\n<title>21</title>\n<polygon fill=\"#fcf0e7\" stroke=\"black\" points=\"1816.5,-157 1663.5,-157 1663.5,-89 1816.5,-89 1816.5,-157\"/>\n<text text-anchor=\"middle\" x=\"1740\" y=\"-141.8\" font-family=\"Helvetica,sans-Serif\" font-size=\"14.00\">x[12] &lt;= 16.975</text>\n<text text-anchor=\"middle\" x=\"1740\" y=\"-126.8\" font-family=\"Helvetica,sans-Serif\" font-size=\"14.00\">absolute_error = 2.467</text>\n<text text-anchor=\"middle\" x=\"1740\" y=\"-111.8\" font-family=\"Helvetica,sans-Serif\" font-size=\"14.00\">samples = 3</text>\n<text text-anchor=\"middle\" x=\"1740\" y=\"-96.8\" font-family=\"Helvetica,sans-Serif\" font-size=\"14.00\">value = 15.0</text>\n</g>\n<!-- 17&#45;&gt;21 -->\n<g id=\"edge21\" class=\"edge\">\n<title>17&#45;&gt;21</title>\n<path fill=\"none\" stroke=\"black\" d=\"M1681.92,-192.88C1689.43,-183.98 1697.64,-174.24 1705.47,-164.96\"/>\n<polygon fill=\"black\" stroke=\"black\" points=\"1708.15,-167.2 1711.92,-157.3 1702.8,-162.69 1708.15,-167.2\"/>\n</g>\n<!-- 19 -->\n<g id=\"node20\" class=\"node\">\n<title>19</title>\n<polygon fill=\"#f2c29e\" stroke=\"black\" points=\"1478.5,-53 1325.5,-53 1325.5,0 1478.5,0 1478.5,-53\"/>\n<text text-anchor=\"middle\" x=\"1402\" y=\"-37.8\" font-family=\"Helvetica,sans-Serif\" font-size=\"14.00\">absolute_error = 2.727</text>\n<text text-anchor=\"middle\" x=\"1402\" y=\"-22.8\" font-family=\"Helvetica,sans-Serif\" font-size=\"14.00\">samples = 15</text>\n<text text-anchor=\"middle\" x=\"1402\" y=\"-7.8\" font-family=\"Helvetica,sans-Serif\" font-size=\"14.00\">value = 29.6</text>\n</g>\n<!-- 18&#45;&gt;19 -->\n<g id=\"edge19\" class=\"edge\">\n<title>18&#45;&gt;19</title>\n<path fill=\"none\" stroke=\"black\" d=\"M1510.59,-88.95C1492.89,-78.93 1473.53,-67.98 1456.12,-58.13\"/>\n<polygon fill=\"black\" stroke=\"black\" points=\"1457.64,-54.97 1447.22,-53.09 1454.2,-61.06 1457.64,-54.97\"/>\n</g>\n<!-- 20 -->\n<g id=\"node21\" class=\"node\">\n<title>20</title>\n<polygon fill=\"#f0b68c\" stroke=\"black\" points=\"1649.5,-53 1496.5,-53 1496.5,0 1649.5,0 1649.5,-53\"/>\n<text text-anchor=\"middle\" x=\"1573\" y=\"-37.8\" font-family=\"Helvetica,sans-Serif\" font-size=\"14.00\">absolute_error = 2.971</text>\n<text text-anchor=\"middle\" x=\"1573\" y=\"-22.8\" font-family=\"Helvetica,sans-Serif\" font-size=\"14.00\">samples = 34</text>\n<text text-anchor=\"middle\" x=\"1573\" y=\"-7.8\" font-family=\"Helvetica,sans-Serif\" font-size=\"14.00\">value = 33.4</text>\n</g>\n<!-- 18&#45;&gt;20 -->\n<g id=\"edge20\" class=\"edge\">\n<title>18&#45;&gt;20</title>\n<path fill=\"none\" stroke=\"black\" d=\"M1570.4,-88.95C1570.75,-80.72 1571.12,-71.85 1571.48,-63.48\"/>\n<polygon fill=\"black\" stroke=\"black\" points=\"1574.98,-63.38 1571.91,-53.24 1567.99,-63.08 1574.98,-63.38\"/>\n</g>\n<!-- 22 -->\n<g id=\"node23\" class=\"node\">\n<title>22</title>\n<polygon fill=\"#fbebe0\" stroke=\"black\" points=\"1806,-53 1668,-53 1668,0 1806,0 1806,-53\"/>\n<text text-anchor=\"middle\" x=\"1737\" y=\"-37.8\" font-family=\"Helvetica,sans-Serif\" font-size=\"14.00\">absolute_error = 1.4</text>\n<text text-anchor=\"middle\" x=\"1737\" y=\"-22.8\" font-family=\"Helvetica,sans-Serif\" font-size=\"14.00\">samples = 2</text>\n<text text-anchor=\"middle\" x=\"1737\" y=\"-7.8\" font-family=\"Helvetica,sans-Serif\" font-size=\"14.00\">value = 16.4</text>\n</g>\n<!-- 21&#45;&gt;22 -->\n<g id=\"edge22\" class=\"edge\">\n<title>21&#45;&gt;22</title>\n<path fill=\"none\" stroke=\"black\" d=\"M1738.95,-88.95C1738.69,-80.72 1738.41,-71.85 1738.14,-63.48\"/>\n<polygon fill=\"black\" stroke=\"black\" points=\"1741.63,-63.12 1737.82,-53.24 1734.64,-63.34 1741.63,-63.12\"/>\n</g>\n<!-- 23 -->\n<g id=\"node24\" class=\"node\">\n<title>23</title>\n<polygon fill=\"#fffefe\" stroke=\"black\" points=\"1962,-53 1824,-53 1824,0 1962,0 1962,-53\"/>\n<text text-anchor=\"middle\" x=\"1893\" y=\"-37.8\" font-family=\"Helvetica,sans-Serif\" font-size=\"14.00\">absolute_error = 0.0</text>\n<text text-anchor=\"middle\" x=\"1893\" y=\"-22.8\" font-family=\"Helvetica,sans-Serif\" font-size=\"14.00\">samples = 1</text>\n<text text-anchor=\"middle\" x=\"1893\" y=\"-7.8\" font-family=\"Helvetica,sans-Serif\" font-size=\"14.00\">value = 10.4</text>\n</g>\n<!-- 21&#45;&gt;23 -->\n<g id=\"edge23\" class=\"edge\">\n<title>21&#45;&gt;23</title>\n<path fill=\"none\" stroke=\"black\" d=\"M1793.51,-88.95C1809.51,-79.07 1826.98,-68.28 1842.76,-58.53\"/>\n<polygon fill=\"black\" stroke=\"black\" points=\"1844.66,-61.47 1851.33,-53.24 1840.98,-55.51 1844.66,-61.47\"/>\n</g>\n<!-- 25 -->\n<g id=\"node26\" class=\"node\">\n<title>25</title>\n<polygon fill=\"#e58139\" stroke=\"black\" points=\"2201.5,-157 2048.5,-157 2048.5,-89 2201.5,-89 2201.5,-157\"/>\n<text text-anchor=\"middle\" x=\"2125\" y=\"-141.8\" font-family=\"Helvetica,sans-Serif\" font-size=\"14.00\">x[6] &lt;= 20.25</text>\n<text text-anchor=\"middle\" x=\"2125\" y=\"-126.8\" font-family=\"Helvetica,sans-Serif\" font-size=\"14.00\">absolute_error = 1.536</text>\n<text text-anchor=\"middle\" x=\"2125\" y=\"-111.8\" font-family=\"Helvetica,sans-Serif\" font-size=\"14.00\">samples = 11</text>\n<text text-anchor=\"middle\" x=\"2125\" y=\"-96.8\" font-family=\"Helvetica,sans-Serif\" font-size=\"14.00\">value = 50.0</text>\n</g>\n<!-- 24&#45;&gt;25 -->\n<g id=\"edge25\" class=\"edge\">\n<title>24&#45;&gt;25</title>\n<path fill=\"none\" stroke=\"black\" d=\"M2125,-192.88C2125,-184.78 2125,-175.98 2125,-167.47\"/>\n<polygon fill=\"black\" stroke=\"black\" points=\"2128.5,-167.3 2125,-157.3 2121.5,-167.3 2128.5,-167.3\"/>\n</g>\n<!-- 28 -->\n<g id=\"node29\" class=\"node\">\n<title>28</title>\n<polygon fill=\"#e99457\" stroke=\"black\" points=\"2449.5,-157 2296.5,-157 2296.5,-89 2449.5,-89 2449.5,-157\"/>\n<text text-anchor=\"middle\" x=\"2373\" y=\"-141.8\" font-family=\"Helvetica,sans-Serif\" font-size=\"14.00\">x[9] &lt;= 498.0</text>\n<text text-anchor=\"middle\" x=\"2373\" y=\"-126.8\" font-family=\"Helvetica,sans-Serif\" font-size=\"14.00\">absolute_error = 4.606</text>\n<text text-anchor=\"middle\" x=\"2373\" y=\"-111.8\" font-family=\"Helvetica,sans-Serif\" font-size=\"14.00\">samples = 16</text>\n<text text-anchor=\"middle\" x=\"2373\" y=\"-96.8\" font-family=\"Helvetica,sans-Serif\" font-size=\"14.00\">value = 43.9</text>\n</g>\n<!-- 24&#45;&gt;28 -->\n<g id=\"edge28\" class=\"edge\">\n<title>24&#45;&gt;28</title>\n<path fill=\"none\" stroke=\"black\" d=\"M2201.77,-194.43C2228.74,-183.33 2259.21,-170.8 2286.89,-159.41\"/>\n<polygon fill=\"black\" stroke=\"black\" points=\"2288.25,-162.64 2296.17,-155.6 2285.59,-156.17 2288.25,-162.64\"/>\n</g>\n<!-- 26 -->\n<g id=\"node27\" class=\"node\">\n<title>26</title>\n<polygon fill=\"#ea995f\" stroke=\"black\" points=\"2118,-53 1980,-53 1980,0 2118,0 2118,-53\"/>\n<text text-anchor=\"middle\" x=\"2049\" y=\"-37.8\" font-family=\"Helvetica,sans-Serif\" font-size=\"14.00\">absolute_error = 0.0</text>\n<text text-anchor=\"middle\" x=\"2049\" y=\"-22.8\" font-family=\"Helvetica,sans-Serif\" font-size=\"14.00\">samples = 1</text>\n<text text-anchor=\"middle\" x=\"2049\" y=\"-7.8\" font-family=\"Helvetica,sans-Serif\" font-size=\"14.00\">value = 42.3</text>\n</g>\n<!-- 25&#45;&gt;26 -->\n<g id=\"edge26\" class=\"edge\">\n<title>25&#45;&gt;26</title>\n<path fill=\"none\" stroke=\"black\" d=\"M2098.42,-88.95C2091.21,-79.98 2083.39,-70.27 2076.15,-61.26\"/>\n<polygon fill=\"black\" stroke=\"black\" points=\"2078.69,-58.84 2069.7,-53.24 2073.24,-63.22 2078.69,-58.84\"/>\n</g>\n<!-- 27 -->\n<g id=\"node28\" class=\"node\">\n<title>27</title>\n<polygon fill=\"#e58139\" stroke=\"black\" points=\"2282,-53 2136,-53 2136,0 2282,0 2282,-53\"/>\n<text text-anchor=\"middle\" x=\"2209\" y=\"-37.8\" font-family=\"Helvetica,sans-Serif\" font-size=\"14.00\">absolute_error = 0.92</text>\n<text text-anchor=\"middle\" x=\"2209\" y=\"-22.8\" font-family=\"Helvetica,sans-Serif\" font-size=\"14.00\">samples = 10</text>\n<text text-anchor=\"middle\" x=\"2209\" y=\"-7.8\" font-family=\"Helvetica,sans-Serif\" font-size=\"14.00\">value = 50.0</text>\n</g>\n<!-- 25&#45;&gt;27 -->\n<g id=\"edge27\" class=\"edge\">\n<title>25&#45;&gt;27</title>\n<path fill=\"none\" stroke=\"black\" d=\"M2154.38,-88.95C2162.51,-79.8 2171.34,-69.87 2179.48,-60.71\"/>\n<polygon fill=\"black\" stroke=\"black\" points=\"2182.1,-63.04 2186.12,-53.24 2176.86,-58.39 2182.1,-63.04\"/>\n</g>\n<!-- 29 -->\n<g id=\"node30\" class=\"node\">\n<title>29</title>\n<polygon fill=\"#e99457\" stroke=\"black\" points=\"2446,-53 2300,-53 2300,0 2446,0 2446,-53\"/>\n<text text-anchor=\"middle\" x=\"2373\" y=\"-37.8\" font-family=\"Helvetica,sans-Serif\" font-size=\"14.00\">absolute_error = 3.44</text>\n<text text-anchor=\"middle\" x=\"2373\" y=\"-22.8\" font-family=\"Helvetica,sans-Serif\" font-size=\"14.00\">samples = 15</text>\n<text text-anchor=\"middle\" x=\"2373\" y=\"-7.8\" font-family=\"Helvetica,sans-Serif\" font-size=\"14.00\">value = 44.0</text>\n</g>\n<!-- 28&#45;&gt;29 -->\n<g id=\"edge29\" class=\"edge\">\n<title>28&#45;&gt;29</title>\n<path fill=\"none\" stroke=\"black\" d=\"M2373,-88.95C2373,-80.72 2373,-71.85 2373,-63.48\"/>\n<polygon fill=\"black\" stroke=\"black\" points=\"2376.5,-63.24 2373,-53.24 2369.5,-63.24 2376.5,-63.24\"/>\n</g>\n<!-- 30 -->\n<g id=\"node31\" class=\"node\">\n<title>30</title>\n<polygon fill=\"#f7dac5\" stroke=\"black\" points=\"2602,-53 2464,-53 2464,0 2602,0 2602,-53\"/>\n<text text-anchor=\"middle\" x=\"2533\" y=\"-37.8\" font-family=\"Helvetica,sans-Serif\" font-size=\"14.00\">absolute_error = 0.0</text>\n<text text-anchor=\"middle\" x=\"2533\" y=\"-22.8\" font-family=\"Helvetica,sans-Serif\" font-size=\"14.00\">samples = 1</text>\n<text text-anchor=\"middle\" x=\"2533\" y=\"-7.8\" font-family=\"Helvetica,sans-Serif\" font-size=\"14.00\">value = 21.9</text>\n</g>\n<!-- 28&#45;&gt;30 -->\n<g id=\"edge30\" class=\"edge\">\n<title>28&#45;&gt;30</title>\n<path fill=\"none\" stroke=\"black\" d=\"M2428.96,-88.95C2445.76,-79.02 2464.13,-68.18 2480.69,-58.4\"/>\n<polygon fill=\"black\" stroke=\"black\" points=\"2482.85,-61.19 2489.68,-53.09 2479.29,-55.16 2482.85,-61.19\"/>\n</g>\n</g>\n</svg>\n",
            "text/plain": [
              "<graphviz.sources.Source at 0x784a48c92fe0>"
            ]
          },
          "metadata": {}
        }
      ],
      "source": [
        "import graphviz\n",
        "\n",
        "with open('tree_reg1.dot') as f:\n",
        "    dot_graph = f.read()\n",
        "display(graphviz.Source(dot_graph))"
      ]
    },
    {
      "cell_type": "code",
      "execution_count": null,
      "metadata": {
        "id": "MthhdR9zKpsC",
        "colab": {
          "base_uri": "https://localhost:8080/"
        },
        "outputId": "257ead43-d65b-473d-9012-876552ae6739"
      },
      "outputs": [
        {
          "output_type": "stream",
          "name": "stdout",
          "text": [
            "train score : 0.888\n",
            "test score : 0.727\n"
          ]
        }
      ],
      "source": [
        "print(\"train score : {:.3f}\".format(tree_reg.score(X_train, y_train)))\n",
        "print(\"test score : {:.3f}\".format(tree_reg.score(X_test, y_test)))"
      ]
    },
    {
      "cell_type": "markdown",
      "metadata": {
        "id": "tE8Ed4vwKpsE"
      },
      "source": [
        "- 결정트리는 가치지기를 사용함에도 과적합이 되는 경향이 있어 일반화 성능이 좋지않다. 이런 문제에대한 대안으로 앙상블 방법이 있다."
      ]
    },
    {
      "cell_type": "code",
      "execution_count": null,
      "metadata": {
        "id": "zxA3hWdJR4cX"
      },
      "outputs": [],
      "source": []
    }
  ],
  "metadata": {
    "colab": {
      "provenance": []
    },
    "kernelspec": {
      "display_name": "Python 3",
      "language": "python",
      "name": "python3"
    },
    "language_info": {
      "codemirror_mode": {
        "name": "ipython",
        "version": 3
      },
      "file_extension": ".py",
      "mimetype": "text/x-python",
      "name": "python",
      "nbconvert_exporter": "python",
      "pygments_lexer": "ipython3",
      "version": "3.7.4"
    }
  },
  "nbformat": 4,
  "nbformat_minor": 0
}